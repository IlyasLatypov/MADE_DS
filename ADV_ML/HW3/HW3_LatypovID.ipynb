{
 "cells": [
  {
   "cell_type": "markdown",
   "metadata": {},
   "source": [
    "# Продвинутое машинное обучение: ДЗ 3\n",
    "## *Латыпов Ильяс, группа DS-22*\n",
    "## Часть 1. Реализуйте базовый частотный метод по Шерлоку Холмсу:\n",
    "\n",
    "    - подсчитайте частоты букв по корпусам (пунктуацию и капитализацию можно просто опустить, а вот пробелы лучше оставить);\n",
    "    - возьмите какие-нибудь тестовые тексты (нужно взять по меньшей мере 2-3 предложения, иначе вряд ли сработает), зашифруйте их посредством случайной перестановки символов;\n",
    "    - расшифруйте их таким частотным методом."
   ]
  },
  {
   "cell_type": "code",
   "execution_count": 1,
   "metadata": {},
   "outputs": [],
   "source": [
    "import numpy as np\n",
    "import re\n",
    "import random\n",
    "from nltk.util import ngrams\n",
    "from collections import Counter"
   ]
  },
  {
   "cell_type": "markdown",
   "metadata": {},
   "source": [
    "### Загрузка и обработка данных"
   ]
  },
  {
   "cell_type": "code",
   "execution_count": 2,
   "metadata": {},
   "outputs": [
    {
     "name": "stdout",
     "output_type": "stream",
     "text": [
      "Длинна текста AnnaKarenina.txt: 1813200\n",
      "Длинна текста WarAndPeace.txt: 717873\n",
      "Длинна текста WarAndPeaceEng.txt: 3226615\n"
     ]
    }
   ],
   "source": [
    "PATH_ANNA_RU = '.\\data\\AnnaKarenina.txt'\n",
    "PATH_WAR_RU = '.\\data\\WarAndPeace.txt'\n",
    "PATH_WAR_EN = '.\\data\\WarAndPeaceEng.txt'\n",
    "\n",
    "def load_text(path):\n",
    "    with open(path, 'r', encoding='utf-8') as file:\n",
    "        text = file.read()\n",
    "    return text\n",
    "\n",
    "text_anna_ru = load_text(PATH_ANNA_RU)\n",
    "text_war_ru = load_text(PATH_WAR_RU)\n",
    "text_war_en = load_text(PATH_WAR_EN)\n",
    "\n",
    "print(f\"Длинна текста AnnaKarenina.txt: {len(text_anna_ru)}\")\n",
    "print(f\"Длинна текста WarAndPeace.txt: {len(text_war_ru)}\")\n",
    "print(f\"Длинна текста WarAndPeaceEng.txt: {len(text_war_en)}\")"
   ]
  },
  {
   "cell_type": "code",
   "execution_count": 3,
   "metadata": {},
   "outputs": [
    {
     "name": "stdout",
     "output_type": "stream",
     "text": [
      "Примеры отрывков загруженных произведений:\n",
      "\n",
      " в новом романе толстого огромную психологическую разработку души человеческой страшную глубину и силу и главное небывалый доселе у нас реализм художественного изображения время подтвердило эту высокую оценку из статей и книг на всех языках мира посвященных анне карениной можно составить целую библиотеку\n",
      "\n",
      " я вижу что я вас пугаю садитесь и рассказывайте так говорила в июле года известная анна павловна шерер фрейлина и приближенная императрицы марии феодоровны встречая важного и чиновного князя василия первого приехавшего на ее вечер анна павловна кашляла несколько дней у нее был грипп как она говорил\n",
      "\n",
      "really believe he is antichristi will have nothing more to do with you and you are no longer my friend no longer my faithful slave as you call yourself but how do you do see have frightened yousit down and tell me all the news it was in july and the speaker was the wellknown anna pavlovna scherer maid of \n"
     ]
    }
   ],
   "source": [
    "EN_TOKKENS = list('abcdefghijklmnopqrstuvwxyz ')\n",
    "RU_TOKKENS = list('абвгдеёжзийклмнопрстуфхцчшщъыьэюя ')\n",
    "\n",
    "def prepare_text(text, tokkens):\n",
    "    text = text.lower()\n",
    "    text = text.replace(\"\\n\",\" \").replace(\".\",\" \")\n",
    "    if \"s\" in tokkens: #английский\n",
    "        text = text.replace(\"chapter\",\" \").replace(\"iii\",\" \").replace(\"ii\",\" \").replace(\"xx\",\" \")\n",
    "        text = text.replace(\" i \",\" \").replace(\" ii \",\" \").replace(\" iii \",\" \").replace(\" iv \",\" \").replace(\" v \",\" \")\n",
    "        text = text.replace(\" vi \",\" \").replace(\" vii \",\" \").replace(\" viii \",\" \").replace(\" ix \",\" \").replace(\" x \",\" \")\n",
    "        text = text.replace(\" xi \",\" \").replace(\" xii \",\" \").replace(\" xiii \",\" \").replace(\" xiv \",\" \").replace(\"xv \",\" \")\n",
    "        text = text.replace(\" xvi \",\" \").replace(\" xvii \",\" \").replace(\" xviii \",\" \").replace(\" xix \",\" \").replace(\" xx \",\" \")\n",
    "    \n",
    "    text = ''.join([char_ for char_ in text if char_ in tokkens])\n",
    "    space = re.compile(r'\\s+')\n",
    "    return space.sub(' ', text)\n",
    "    \n",
    "text_anna_ru = prepare_text(text_anna_ru, RU_TOKKENS)\n",
    "text_war_ru = prepare_text(text_war_ru, RU_TOKKENS)\n",
    "text_war_en = prepare_text(text_war_en, EN_TOKKENS)\n",
    "print(\"Примеры отрывков загруженных произведений:\", end=\"\\n\\n\")\n",
    "print(text_anna_ru[1000:1305], end=\"\\n\\n\")\n",
    "print(text_war_ru[1000:1300], end=\"\\n\\n\")\n",
    "print(text_war_en[999:1305])"
   ]
  },
  {
   "cell_type": "code",
   "execution_count": 4,
   "metadata": {},
   "outputs": [
    {
     "name": "stdout",
     "output_type": "stream",
     "text": [
      "Частоты для русского языка:\n",
      " [(' ', 385247), ('о', 223691), ('е', 166169), ('а', 162313), ('н', 133258), ('и', 129712), ('т', 115258), ('с', 103252), ('л', 98191), ('в', 91386), ('р', 80859), ('к', 67788), ('д', 58019), ('м', 56467), ('у', 53583), ('п', 47940), ('я', 42921), ('ь', 38351), ('г', 36870), ('ы', 36447), ('б', 34028), ('з', 32723), ('ч', 31207), ('ж', 21480), ('й', 21072), ('ш', 17158), ('х', 15586), ('ю', 12307), ('э', 6648), ('ц', 6172), ('щ', 5568), ('ф', 2990), ('ъ', 695), ('ё', 462)]\n"
     ]
    }
   ],
   "source": [
    "def get_ngrams(text, n):\n",
    "    n_grams = ngrams(text, n)\n",
    "    return [''.join(grams) for grams in n_grams]\n",
    "\n",
    "ru_char_order = Counter(get_ngrams(text_anna_ru + text_war_ru,1)).most_common()\n",
    "print(\"Частоты для русского языка:\\n\", ru_char_order)"
   ]
  },
  {
   "cell_type": "code",
   "execution_count": 5,
   "metadata": {},
   "outputs": [
    {
     "name": "stdout",
     "output_type": "stream",
     "text": [
      "Частоты для английского языка:\n",
      " [(' ', 561009), ('e', 314501), ('t', 225674), ('a', 205074), ('o', 192879), ('n', 184173), ('i', 169985), ('h', 166672), ('s', 162891), ('r', 147696), ('d', 118290), ('l', 96527), ('u', 65434), ('m', 61646), ('c', 60891), ('w', 59207), ('f', 54896), ('g', 51326), ('y', 46265), ('p', 44801), ('b', 34658), ('v', 26713), ('k', 20431), ('x', 3721), ('j', 2574), ('z', 2388), ('q', 2330)]\n"
     ]
    }
   ],
   "source": [
    "en_char_order = Counter(get_ngrams(text_war_en,1)).most_common()\n",
    "print(\"Частоты для английского языка:\\n\", en_char_order)"
   ]
  },
  {
   "cell_type": "markdown",
   "metadata": {},
   "source": [
    "### Шифровка и расшифровка текста на **русском** языке частотным методом (для 1 символа)"
   ]
  },
  {
   "cell_type": "code",
   "execution_count": 6,
   "metadata": {},
   "outputs": [
    {
     "name": "stdout",
     "output_type": "stream",
     "text": [
      "Словарь для шифровки: \n"
     ]
    },
    {
     "data": {
      "text/plain": [
       "{'а': 'о',\n",
       " 'б': 'н',\n",
       " 'в': 'ь',\n",
       " 'г': 'ж',\n",
       " 'д': 'ц',\n",
       " 'е': 'г',\n",
       " 'ё': 'ъ',\n",
       " 'ж': 'м',\n",
       " 'з': 'х',\n",
       " 'и': 'ё',\n",
       " 'й': 'л',\n",
       " 'к': 'у',\n",
       " 'л': 'е',\n",
       " 'м': 'б',\n",
       " 'н': ' ',\n",
       " 'о': 'ш',\n",
       " 'п': 'в',\n",
       " 'р': 'ч',\n",
       " 'с': 'и',\n",
       " 'т': 'а',\n",
       " 'у': 'к',\n",
       " 'ф': 'п',\n",
       " 'х': 'ф',\n",
       " 'ц': 'д',\n",
       " 'ч': 'щ',\n",
       " 'ш': 'р',\n",
       " 'щ': 'э',\n",
       " 'ъ': 'с',\n",
       " 'ы': 'я',\n",
       " 'ь': 'й',\n",
       " 'э': 'т',\n",
       " 'ю': 'ю',\n",
       " 'я': 'з',\n",
       " ' ': 'ы'}"
      ]
     },
     "execution_count": 6,
     "metadata": {},
     "output_type": "execute_result"
    }
   ],
   "source": [
    "RU_TOKKENS_SHUFFLE = RU_TOKKENS.copy()\n",
    "random.shuffle(RU_TOKKENS_SHUFFLE)\n",
    "dict_encoder_ru = dict(zip(RU_TOKKENS, RU_TOKKENS_SHUFFLE))\n",
    "print(\"Словарь для шифровки: \")\n",
    "dict_encoder_ru"
   ]
  },
  {
   "cell_type": "code",
   "execution_count": 7,
   "metadata": {},
   "outputs": [
    {
     "name": "stdout",
     "output_type": "stream",
     "text": [
      "Отрывок текста для шифровки:\n",
      " в новом романе толстого огромную психологическую разработку души человеческой страшную глубину и силу и главное небывалый доселе у нас реализм художественного изображения время подтвердило эту высокую оценку из статей и книг на всех языках мира посвященных анне карениной можно составить целую библиотеку я без колебаний назвал анну каренину величайшим социальным романом во всей мировой литературе писал томас манн значение романа толстого состоит не в эстетической ценности отдельных картин а в художественной завершенности целого войну и мир толстой называл книгой о прошлом в начале года он просил редактора журнала русский вестник м н каткова в оглавлении и даже в объявлении не называть его сочинение романом для меня это очень важно и потому очень прошу вас об этом толстой мог бы обосновать свое определение жанра книга ссылкой на гегеля которого он внимательно перечитывал в годы работы над войной и миром гегель называл книгой эпические произведения связанные с целостным миром определенного народа и определенной эпохи книга или самобытная эпопея дает картину национального самосознания в нравственных устоях семейной жизни в общественных условиях состояния войны и мира курсив наш э б в его потребностях искусствах обычаях интересах анну каренину толстой называл романом из современной жизни в году только еще начиная работу он говорил н н страхову роман этот именно роман курсив наш э б первый в моей жизни очень взял меня за душу и я им увлечен весь эпоха отечественной войны позволила толстому изобразить в войне и мире жизнь русского народа великой эпохи как целостный мир прекрасный и возвышенный я художник пишет толстой размышляя над событиями года и вся жизнь моя проходит в том чтобы искать красоту общественный подъем х годов когда в россии было уничтожено рабство крестьян наполнял и автора войны и мира чувством духовной бодрости и веры в будущее в е же годы в эпоху глубокого социального кризиса когда написана анна каренина мироощущение толстого было иным все врознь так определил сущность пореформенной эпохи ф м достоевский толстой видел перед собой раздробленный мир лишенный нравственного единства красоты нет жаловался он и нет руководителя в хаосе добра и зла если в войне и мире преобладает нравственная целостность и красота или поэзия то для анны карениной становится характерным раздробленность и хаос или проза после войны и мира с ее всеобщим содержанием и поэтической простотой замысел анны карениной казался толстому частным не простым и даже низменным переход от войны и мира к анне карениной имеет историческое социальное и философское обоснование в романе в отличие от книги как об этом писал гегель отсутствует самобытное поэтическое состояние мира роман в современном значении предполагает прозаически упорядоченную действительность однако здесь снова полностью выступает богатство и разнообразие интересов состояний характеров жизненных отношений широкий фон целостного мира равно поэтическое изображение событий\n"
     ]
    }
   ],
   "source": [
    "text_for_encode = text_anna_ru[1001:3959]\n",
    "print(\"Отрывок текста для шифровки:\\n\", text_for_encode)"
   ]
  },
  {
   "cell_type": "code",
   "execution_count": 8,
   "metadata": {},
   "outputs": [
    {
     "name": "stdout",
     "output_type": "stream",
     "text": [
      "Зашифрованный отрывок текста:\n",
      " ьы шьшбычшбо гыашеиашжшышжчшб кюывиёфшешжёщгиукюычохчоншаукыцкрёыщгешьгщгиушлыиачор кюыжекнё кыёыиёекыёыжеоь шгы гняьоеялыцшигегыкы оиычгоеёхбыфкцшмгиаьг  шжшыёхшнчомг ёзыьчгбзывшцаьгчцёешытакыьяишукюышдг укыёхыиаоаглыёыу ёжы оыьигфызхяуофыбёчоывшиьзэг  яфыо  гыуочг ё шлыбшм шыишиаоьёайыдгекюынёнеёшагукызынгхыушегно ёлы охьоеыо  кыуочг ё кыьгеёщолрёбыишдёоей ябычшбо шбыьшыьиглыбёчшьшлыеёагчоакчгывёиоеыашбоиыбо  ых ощг ёгычшбо оыашеиашжшыишиашёаы гыьытиагаёщгиушлыдг  шиаёышацгей яфыуочаё ыоыьыфкцшмгиаьг  шлыхоьгчрг  шиаёыдгешжшыьшл кыёыбёчыашеиашлы охяьоеыу ёжшлышывчшрешбыьы ощоегыжшцоыш ывчшиёеычгцоуашчоымкч оеоычкииуёлыьгиа ёуыбы ыуоаушьоыьышжеоьег ёёыёыцомгыьышнсзьег ёёы гы охяьоайыгжшыишщё г ёгычшбо шбыцезыбг зыташышщг йыьом шыёывшашбкышщг йывчшркыьоиышныташбыашеиашлыбшжыняышнши шьоайыиьшгышвчгцгег ёгымо чоыу ёжоыиияеушлы оыжгжгезыушашчшжшыш ыь ёбоагей шывгчгщёаяьоеыьыжшцяычоншаяы оцыьшл шлыёыбёчшбыжгжгейы охяьоеыу ёжшлытвёщгиуёгывчшёхьгцг ёзыиьзхо  ягыиыдгешиа ябыбёчшбышвчгцгег  шжшы очшцоыёышвчгцгег  шлытвшфёыу ёжоыёеёыиобшняа озытвшвгзыцогаыуочаё кы одёш оей шжшыиобшишх о ёзыьы чоьиаьг  яфыкиашзфыигбгл шлымёх ёыьышнэгиаьг  яфыкиешьёзфыишиашз ёзыьшл яыёыбёчоыукчиёьы орытыныьыгжшывшачгн шиазфыёиукииаьофышнящозфыё агчгиофыо  кыуочг ё кыашеиашлы охяьоеычшбо шбыёхыишьчгбг  шлымёх ёыьыжшцкыашейушыгэгы ощё озычоншакыш ыжшьшчёеы ы ыиачофшькычшбо ыташаыёбг  шычшбо ыукчиёьы орытынывгчьялыьыбшглымёх ёышщг йыьхзеыбг зыхоыцкркыёызыёбыкьегщг ыьгийытвшфоышагщгиаьг  шлыьшл яывшхьшеёеоыашеиашбкыёхшнчохёайыьыьшл гыёыбёчгымёх йычкииушжшы очшцоыьгеёушлытвшфёыуоуыдгешиа ялыбёчывчгучои ялыёыьшхьярг  ялызыфкцшм ёуывёргаыашеиашлычохбяреззы оцыишняаёзбёыжшцоыёыьизымёх йыбшзывчшфшцёаыьыашбыщашняыёиуоайыучоишакышнэгиаьг  ялывшцсгбыфыжшцшьыушжцоыьычшииёёыняешык ёщашмг шычониаьшыучгиайз ы овше зеыёыоьашчоыьшл яыёыбёчоыщкьиаьшбыцкфшь шлыншцчшиаёыёыьгчяыьынкцкэггыьыгымгыжшцяыьытвшфкыжекншушжшыишдёоей шжшыучёхёиоыушжцоы овёио оыо  оыуочг ё оыбёчшшэкэг ёгыашеиашжшыняешыё ябыьигыьчшх йыаоуышвчгцгеёеыикэ шиайывшчгпшчбг  шлытвшфёыпыбыцшиашгьиуёлыашеиашлыьёцгеывгчгцыишншлычохцчшнег  ялыбёчыеёрг  ялы чоьиаьг  шжшыгцё иаьоыучоишаяы гаымоешьоеизыш ыёы гаычкушьшцёагезыьыфошигыцшнчоыёыхеоыгиеёыьыьшл гыёыбёчгывчгшнеоцогаы чоьиаьг  озыдгешиа шиайыёыучоишаоыёеёывштхёзыашыцезыо  яыуочг ё шлыиао шьёаизыфочоуагч ябычохцчшнег  шиайыёыфошиыёеёывчшхоывшиегыьшл яыёыбёчоыиыггыьигшнэёбыишцгчмо ёгбыёывштаёщгиушлывчшиашашлыхобяигеыо  яыуочг ё шлыуохоеизыашеиашбкыщоиа ябы гывчшиаябыёыцомгы ёхбг  ябывгчгфшцышаыьшл яыёыбёчоыуыо  гыуочг ё шлыёбггаыёиашчёщгиушгыишдёоей шгыёыпёешишпиушгышнши шьо ёгыьычшбо гыьышаеёщёгышаыу ёжёыуоуышныташбывёиоеыжгжгейышаикаиаькгаыиобшняа шгывштаёщгиушгыишиашз ёгыбёчоычшбо ыьыишьчгбг  шбых ощг ёёывчгцвшеожогаывчшхоёщгиуёыквшчзцшщг  кюыцглиаьёагей шиайышц оушыхцгийыи шьоывше шиайюыьяиаквогаыншжоаиаьшыёычох шшнчохёгыё агчгишьыишиашз ёлыфочоуагчшьымёх г  яфыша шрг ёлырёчшуёлыпш ыдгешиа шжшыбёчоычоь шывштаёщгиушгыёхшнчомг ёгыишняаёл\n"
     ]
    }
   ],
   "source": [
    "text_encoded = \"\".join(map(lambda x: dict_encoder_ru[x], text_for_encode))\n",
    "print(\"Зашифрованный отрывок текста:\\n\", text_encoded)"
   ]
  },
  {
   "cell_type": "code",
   "execution_count": 9,
   "metadata": {},
   "outputs": [
    {
     "name": "stdout",
     "output_type": "stream",
     "text": [
      "Частоты зашифрованного отрывка текста:\n",
      " [('ы', 437), ('ш', 316), (' ', 231), ('г', 207), ('ё', 189), ('о', 181), ('и', 146), ('а', 142), ('ч', 122), ('ь', 117), ('е', 95), ('б', 79), ('у', 68), ('к', 58), ('л', 57), ('я', 55), ('ц', 53), ('в', 50), ('х', 46), ('ж', 45), ('н', 43), ('з', 42), ('ф', 31), ('щ', 29), ('й', 29), ('м', 21), ('т', 19), ('р', 15), ('д', 12), ('э', 9), ('ю', 7), ('п', 5), ('с', 2)]\n"
     ]
    }
   ],
   "source": [
    "text_encoded_order = Counter(get_ngrams(text_encoded,1)).most_common()\n",
    "print(\"Частоты зашифрованного отрывка текста:\\n\", text_encoded_order)"
   ]
  },
  {
   "cell_type": "code",
   "execution_count": 10,
   "metadata": {},
   "outputs": [
    {
     "name": "stdout",
     "output_type": "stream",
     "text": [
      "Расшифрованный отрывок текста:\n",
      " в еовок локиеа сортсоыо оылокемщ ьтнчороынжатдмщ лиглибосдм ямюн жароважатдоу тслиюемщ ырмбнем н тнрм н ыривеоа еабпвирпу яотара м еит лаирнгк чмяошатсваееоыо нгоблишаенз влакз ьоясвалянро хсм вптодмщ оэаедм нг тсисау н дены еи втач згпдич кнли ьотвзцаеепч иееа дилаенеоу кошео тотсивнсй эармщ бнбрносадм з баг дорабиену еигвир иеем дилаенем варнжиуюнк тоэнирйепк локиеок во втау кнловоу рнсалисмла ьнтир сокит киее геижаена локиеи сортсоыо тотсонс еа в хтсаснжатдоу эаееотсн осяарйепч дилсне и в чмяошатсваееоу гивалюаееотсн эароыо воуем н кнл сортсоу еигпвир деныоу о ьлоюрок в еижира ыояи ое ьлотнр лаяидсоли шмлеири лмттдну ватсенд к е дисдови в оыривраенн н яиша в объзвраенн еа еигпвисй аыо тожнеаена локиеок ярз каез хсо ожаей вишео н ьосокм ожаей ьлоюм вит об хсок сортсоу коы бп оботеовисй твоа оьлаяараена шиели деныи ттпрдоу еи ыаыарз досолоыо ое венкисарйео ьалажнспвир в ыояп либосп еия воуеоу н кнлок ыаыарй еигпвир деныоу хьнжатдна ьлонгваяаенз твзгиеепа т эаротсепк кнлок оьлаяараееоыо еилояи н оьлаяараееоу хьочн деныи нрн тикобпсеиз хьоьаз яиас дилснем еиэноеирйеоыо тикотогеиенз в еливтсваеепч мтсозч такауеоу шнген в обцатсваеепч мтровнзч тотсозенз воуеп н кнли дмлтнв еию х б в аыо ьослабеотсзч нтдмттсвич обпжизч несалатич иеем дилаенем сортсоу еигпвир локиеок нг товлакаееоу шнген в ыоям сорйдо аца еижнеиз либосм ое ыоволнр е е тсличовм локие хсос нкаеео локие дмлтнв еию х б ьалвпу в коау шнген ожаей вгзр каез ги ямюм н з нк мвражае ватй хьочи осажатсваееоу воуеп ьогворнри сортсокм нгоблигнсй в воуеа н кнла шнгей лмттдоыо еилояи варндоу хьочн дид эаротсепу кнл ьладлитепу н вогвпюаеепу з чмяошенд ьнюас сортсоу лигкпюрзз еия тобпснзкн ыояи н втз шнгей коз ьлочоянс в сок жсобп нтдисй длитосм обцатсваеепу ьояъак ч ыояов доыяи в лоттнн бпро менжсошаео либтсво длатсйзе еиьорезр н ивсоли воуеп н кнли жмвтсвок ямчовеоу боялотсн н валп в бмямцаа в а ша ыояп в хьочм ырмбодоыо тоэнирйеоыо длнгнти доыяи еиьнтиеи иееи дилаенеи кнлооцмцаена сортсоыо бпро непк вта влогей сид оьлаяарнр тмцеотсй ьолафолкаееоу хьочн ф к яотсоавтдну сортсоу вняар ьалая тобоу лигялобраеепу кнл рнюаеепу еливтсваееоыо аянетсви длитосп еас шировиртз ое н еас лмдовоянсарз в чиота яобли н гри атрн в воуеа н кнла ьлаобрияиас еливтсваееиз эаротсеотсй н длитоси нрн ьохгнз со ярз иееп дилаенеоу тсиеовнстз чилидсалепк лигялобраееотсй н чиот нрн ьлоги ьотра воуеп н кнли т аа втаобцнк тояалшиенак н ьохснжатдоу ьлотсосоу гикптар иееп дилаенеоу дигиртз сортсокм житсепк еа ьлотспк н яиша енгкаеепк ьалачоя ос воуеп н кнли д иееа дилаенеоу нкаас нтсолнжатдоа тоэнирйеоа н фнротофтдоа оботеовиена в локиеа в осрнжна ос денын дид об хсок ьнтир ыаыарй остмстсвмас тикобпсеоа ьохснжатдоа тотсозена кнли локие в товлакаееок геижаенн ьлаяьориыиас ьлогинжатдн мьолзяожаеемщ яаутсвнсарйеотсй ояеидо гяатй теови ьореотсйщ вптсмьиас боыистсво н лигеооблигна несалатов тотсозену чилидсалов шнгеаеепч осеоюаену юнлодну фое эаротсеоыо кнли ливео ьохснжатдоа нгоблишаена тобпсну\n"
     ]
    }
   ],
   "source": [
    "dict_decoder_from_text = dict(zip(map(lambda x: x[0], text_encoded_order), map(lambda x: x[0], ru_char_order)))\n",
    "text_decoded = \"\".join(map(lambda x: dict_decoder_from_text[x], text_encoded))\n",
    "print(\"Расшифрованный отрывок текста:\\n\", text_decoded)"
   ]
  },
  {
   "cell_type": "code",
   "execution_count": 11,
   "metadata": {},
   "outputs": [
    {
     "name": "stdout",
     "output_type": "stream",
     "text": [
      "Точность дешифровки для отрывка текста: 31.10%\n"
     ]
    }
   ],
   "source": [
    "def text_accuracy(text_true, text_pred):\n",
    "    count_chars = 0\n",
    "    len_ = min(len(text_true), len(text_pred))\n",
    "    for idx in range(len_):\n",
    "        if text_true[idx] == text_pred[idx]:\n",
    "            count_chars += 1\n",
    "    return count_chars/len_\n",
    "\n",
    "print(f\"Точность дешифровки для отрывка текста: {text_accuracy(text_for_encode, text_decoded) * 100:.2f}%\")"
   ]
  },
  {
   "cell_type": "markdown",
   "metadata": {},
   "source": [
    "### Шифровка и расшифровка текста на **английском** языке частотным методом (для 1 символа)"
   ]
  },
  {
   "cell_type": "code",
   "execution_count": 12,
   "metadata": {},
   "outputs": [
    {
     "name": "stdout",
     "output_type": "stream",
     "text": [
      "Словарь для шифровки: \n"
     ]
    },
    {
     "data": {
      "text/plain": [
       "{'a': 'i',\n",
       " 'b': 'd',\n",
       " 'c': 'b',\n",
       " 'd': 'o',\n",
       " 'e': 'm',\n",
       " 'f': 'x',\n",
       " 'g': 'p',\n",
       " 'h': 'u',\n",
       " 'i': 's',\n",
       " 'j': 'y',\n",
       " 'k': 'h',\n",
       " 'l': 't',\n",
       " 'm': 'q',\n",
       " 'n': 'f',\n",
       " 'o': 'l',\n",
       " 'p': 'n',\n",
       " 'q': 'a',\n",
       " 'r': ' ',\n",
       " 's': 'g',\n",
       " 't': 'c',\n",
       " 'u': 'r',\n",
       " 'v': 'w',\n",
       " 'w': 'j',\n",
       " 'x': 'v',\n",
       " 'y': 'e',\n",
       " 'z': 'z',\n",
       " ' ': 'k'}"
      ]
     },
     "execution_count": 12,
     "metadata": {},
     "output_type": "execute_result"
    }
   ],
   "source": [
    "EN_TOKKENS_SHUFFLE = EN_TOKKENS.copy()\n",
    "random.shuffle(EN_TOKKENS_SHUFFLE)\n",
    "dict_encoder_en = dict(zip(EN_TOKKENS, EN_TOKKENS_SHUFFLE))\n",
    "print(\"Словарь для шифровки: \")\n",
    "dict_encoder_en"
   ]
  },
  {
   "cell_type": "code",
   "execution_count": 13,
   "metadata": {},
   "outputs": [
    {
     "name": "stdout",
     "output_type": "stream",
     "text": [
      "Отрывок текста для шифровки:\n",
      " i will have nothing more to do with you and you are no longer my friend no longer my faithful slave as you call yourself but how do you do see have frightened yousit down and tell me all the news it was in july and the speaker was the wellknown anna pavlovna scherer maid of honor and favorite of the empress marya fedorovna with these words she greeted prince vasili kuragin a man of high rank and importance who was the first to arrive at her reception anna pavlovna had had a cough for some days she was as she said suffering from la grippe grippe being then a new word in st petersburg used only by the elite all her invitations without exception written in french and delivered by a scarletliveried footman that morning ran as follows if you have nothing better to do count or prince and if the prospect of spending an evening with a poor invalid is not too terrible shall be very charmed to see you tonight between and annette scherer heavens what a virulent attack replied the prince not in the least disconcerted by this reception he had just entered wearing an embroidered court uniform knee breeches and shoes and had stars on his breast and a serene expression on his flat face he spoke in that refined french in which our grandfathers not only spoke but thought and with the gentle patronizing intonation natural to a man of importance who had grown old in society and at court he went up to anna pavlovna kissed her hand presenting to her his bald scented and shining head and complacently seated himself on the sofa first of all dear friend tell me how you are set your friends mind at rest said he without altering his tone beneath the politeness and affected sympathy of which indifference and even irony could be discerned can one be well while suffering morally can one be calm in times like these if one has any feeling said anna pavlovna you are staying the whole evening hope and the fete at the english ambassadors today is wednesday must put in an appearance there said the prince my daughter is coming for me to take me there i thought todays fete had been canceled confess all these festivities and fireworks are becoming wearisome if they had known that you wished it the entertainment would have been put off said the prince who like a woundup clock by force of habit said things he did not even wish to be believed dont tease well and what has been decided about novosiltsevs dispatch you know everything what can one say about it replied the prince in a cold listless tone what has been decided they have decided that buonaparte has burnt his boats and believe that we are ready to burn ours prince vasili always spoke languidly like an actor repeating a stale part anna pavlovna scherer on the contrary despite her forty years overflowed with animation and impulsiveness to be an enthusiast had become her social vocation and sometimes even when she did not feel like it she became enthusiastic in order not to disappoint the expectations of those who knew her the subdued smile which though it did not suit her faded features always played round her lips expressed as in a spoiled child a continual consciousness of her charming defect which she neither wished nor could nor considered it necessary to correct in the midst of a conversation on political matters\n"
     ]
    }
   ],
   "source": [
    "text_for_encode = text_war_en[1030:4322]\n",
    "print(\"Отрывок текста для шифровки:\\n\", text_for_encode)"
   ]
  },
  {
   "cell_type": "code",
   "execution_count": 14,
   "metadata": {},
   "outputs": [
    {
     "name": "stdout",
     "output_type": "stream",
     "text": [
      "Зашифрованный отрывок текста:\n",
      " skjsttkuiwmkflcusfpkql mkclkolkjscukelrkifokelrki mkflktlfpm kqekx smfokflktlfpm kqekxiscuxrtkgtiwmkigkelrkbittkelr gmtxkdrckuljkolkelrkolkgmmkuiwmkx spucmfmokelrgsckoljfkifokcmttkqmkittkcumkfmjgksckjigksfkyrtekifokcumkgnmihm kjigkcumkjmtthfljfkiffikniwtlwfikgbum m kqisoklxkulfl kifokxiwl scmklxkcumkmqn mggkqi eikxmol lwfikjscukcumgmkjl ogkgumkp mmcmokn sfbmkwigstskhr ipsfkikqifklxkuspuk ifhkifoksqnl cifbmkjulkjigkcumkxs gckclki  swmkickum k mbmncslfkiffikniwtlwfikuiokuiokikblrpukxl kglqmkoiegkgumkjigkigkgumkgisokgrxxm sfpkx lqktikp snnmkp snnmkdmsfpkcumfkikfmjkjl oksfkgcknmcm gdr pkrgmoklftekdekcumkmtscmkittkum ksfwscicslfgkjsculrckmvbmncslfkj sccmfksfkx mfbukifokomtswm mokdekikgbi tmctswm smokxllcqifkcuickql fsfpk ifkigkxlttljgksxkelrkuiwmkflcusfpkdmccm kclkolkblrfckl kn sfbmkifoksxkcumkn lgnmbcklxkgnmfosfpkifkmwmfsfpkjscukiknll ksfwitsoksgkflckcllkcm  sdtmkguittkdmkwm ekbui qmokclkgmmkelrkclfspuckdmcjmmfkifokiffmccmkgbum m kumiwmfgkjuickikws rtmfckiccibhk mntsmokcumkn sfbmkflcksfkcumktmigckosgblfbm cmokdekcusgk mbmncslfkumkuiokyrgckmfcm mokjmi sfpkifkmqd lsom mokblr ckrfsxl qkhfmmkd mmbumgkifokgulmgkifokuiokgci gklfkusgkd migckifokikgm mfmkmvn mggslfklfkusgkxtickxibmkumkgnlhmksfkcuick mxsfmokx mfbuksfkjusbuklr kp ifoxicum gkflcklftekgnlhmkdrckculrpuckifokjscukcumkpmfctmknic lfszsfpksfclficslfkficr itkclkikqifklxksqnl cifbmkjulkuiokp ljfkltoksfkglbsmcekifokickblr ckumkjmfckrnkclkiffikniwtlwfikhsggmokum kuifokn mgmfcsfpkclkum kusgkditokgbmfcmokifokgusfsfpkumiokifokblqntibmfctekgmicmokusqgmtxklfkcumkglxikxs gcklxkittkomi kx smfokcmttkqmkuljkelrki mkgmckelr kx smfogkqsfokick mgckgisokumkjsculrckitcm sfpkusgkclfmkdmfmicukcumknltscmfmggkifokixxmbcmokgeqnicueklxkjusbuksfosxxm mfbmkifokmwmfks lfekblrtokdmkosgbm fmokbifklfmkdmkjmttkjustmkgrxxm sfpkql ittekbifklfmkdmkbitqksfkcsqmgktshmkcumgmksxklfmkuigkifekxmmtsfpkgisokiffikniwtlwfikelrki mkgciesfpkcumkjultmkmwmfsfpkulnmkifokcumkxmcmkickcumkmfptsgukiqdiggiol gkcloieksgkjmofmgoiekqrgcknrcksfkifkinnmi ifbmkcum mkgisokcumkn sfbmkqekoirpucm ksgkblqsfpkxl kqmkclkcihmkqmkcum mkskculrpuckcloiegkxmcmkuiokdmmfkbifbmtmokblfxmggkittkcumgmkxmgcswscsmgkifokxs mjl hgki mkdmblqsfpkjmi sglqmksxkcumekuiokhfljfkcuickelrkjsgumoksckcumkmfcm cisfqmfckjlrtokuiwmkdmmfknrcklxxkgisokcumkn sfbmkjulktshmkikjlrfornkbtlbhkdekxl bmklxkuidsckgisokcusfpgkumkosokflckmwmfkjsgukclkdmkdmtsmwmokolfckcmigmkjmttkifokjuickuigkdmmfkombsomokidlrckflwlgstcgmwgkosgnicbukelrkhfljkmwm ecusfpkjuickbifklfmkgiekidlrcksck mntsmokcumkn sfbmksfkikbltoktsgctmggkclfmkjuickuigkdmmfkombsomokcumekuiwmkombsomokcuickdrlfini cmkuigkdr fckusgkdlicgkifokdmtsmwmkcuickjmki mk mioekclkdr fklr gkn sfbmkwigstskitjiegkgnlhmktifprsotektshmkifkibcl k mnmicsfpkikgcitmkni ckiffikniwtlwfikgbum m klfkcumkblfc i ekomgnscmkum kxl cekemi gklwm xtljmokjscukifsqicslfkifoksqnrtgswmfmggkclkdmkifkmfcurgsigckuiokdmblqmkum kglbsitkwlbicslfkifokglqmcsqmgkmwmfkjumfkgumkosokflckxmmtktshmksckgumkdmbiqmkmfcurgsigcsbksfkl om kflckclkosginnlsfckcumkmvnmbcicslfgklxkculgmkjulkhfmjkum kcumkgrdormokgqstmkjusbukculrpuksckosokflckgrsckum kxiomokxmicr mgkitjiegkntiemok lrfokum ktsngkmvn mggmokigksfkikgnlstmokbustokikblfcsfritkblfgbslrgfmggklxkum kbui qsfpkomxmbckjusbukgumkfmscum kjsgumokfl kblrtokfl kblfgsom moksckfmbmggi ekclkbl  mbcksfkcumkqsogcklxkikblfwm gicslfklfknltscsbitkqiccm g\n"
     ]
    }
   ],
   "source": [
    "text_encoded = \"\".join(map(lambda x: dict_encoder_en[x], text_for_encode))\n",
    "print(\"Зашифрованный отрывок текста:\\n\", text_encoded)"
   ]
  },
  {
   "cell_type": "code",
   "execution_count": 15,
   "metadata": {},
   "outputs": [
    {
     "name": "stdout",
     "output_type": "stream",
     "text": [
      "Частоты зашифрованного отрывка текста:\n",
      " [('k', 591), ('m', 356), ('f', 231), ('i', 229), ('c', 219), ('s', 194), ('l', 194), ('g', 165), ('u', 156), (' ', 151), ('o', 132), ('t', 101), ('b', 81), ('r', 63), ('x', 63), ('n', 60), ('j', 59), ('e', 50), ('q', 45), ('w', 43), ('p', 42), ('d', 40), ('h', 20), ('v', 4), ('y', 2), ('z', 1)]\n"
     ]
    }
   ],
   "source": [
    "text_encoded_order = Counter(get_ngrams(text_encoded,1)).most_common()\n",
    "print(\"Частоты зашифрованного отрывка текста:\\n\", text_encoded_order)"
   ]
  },
  {
   "cell_type": "code",
   "execution_count": 16,
   "metadata": {},
   "outputs": [
    {
     "name": "stdout",
     "output_type": "stream",
     "text": [
      "Расшифрованный отрывок текста:\n",
      " n fnll sape tiosntb yire oi di fnos gim atd gim are ti litber yg crnetd ti litber yg canoscml hlape ah gim uall gimrhelc vmo sif di gim di hee sape crnbsoeted gimhno dift atd oell ye all ose tefh no fah nt jmlg atd ose hweaker fah ose fellktift atta waplipta huserer yand ic sitir atd capirnoe ic ose eywrehh yarga cediripta fnos osehe firdh hse breeoed wrntue pahnln kmrabnt a yat ic snbs ratk atd nywiroatue fsi fah ose cnrho oi arrnpe ao ser reuewonit atta waplipta sad sad a uimbs cir hiye dagh hse fah ah hse hand hmccerntb criy la brnwwe brnwwe ventb oset a tef fird nt ho weoerhvmrb mhed itlg vg ose elnoe all ser ntpnoaonith fnosimo exuewonit frnooet nt cretus atd delnpered vg a huarleolnperned ciioyat osao yirtntb rat ah cillifh nc gim sape tiosntb veooer oi di uimto ir wrntue atd nc ose wrihweuo ic hwetdntb at epetntb fnos a wiir ntpalnd nh tio oii oerrnvle hsall ve perg usaryed oi hee gim oitnbso veofeet atd atteooe huserer seapeth fsao a pnrmleto aooauk rewlned ose wrntue tio nt ose leaho dnhuitueroed vg osnh reuewonit se sad jmho etoered fearntb at eyvrindered uimro mtnciry ktee vreeuseh atd hsieh atd sad hoarh it snh vreaho atd a herete exwrehhnit it snh clao caue se hwike nt osao recnted cretus nt fsnus imr bratdcaoserh tio itlg hwike vmo osimbso atd fnos ose betole waoritnzntb ntoitaonit taomral oi a yat ic nywiroatue fsi sad brift ild nt hiuneog atd ao uimro se feto mw oi atta waplipta knhhed ser satd wrehetontb oi ser snh vald huetoed atd hsntntb sead atd uiywlauetolg heaoed snyhelc it ose hica cnrho ic all dear crnetd oell ye sif gim are heo gimr crnetdh yntd ao reho hand se fnosimo aloerntb snh oite veteaos ose wilnoetehh atd acceuoed hgywaosg ic fsnus ntdncceretue atd epet nritg uimld ve dnhuerted uat ite ve fell fsnle hmccerntb yirallg uat ite ve ualy nt onyeh lnke osehe nc ite sah atg ceelntb hand atta waplipta gim are hoagntb ose fsile epetntb siwe atd ose ceoe ao ose etblnhs ayvahhadirh oidag nh fedtehdag ymho wmo nt at awwearatue osere hand ose wrntue yg dambsoer nh uiyntb cir ye oi oake ye osere n osimbso oidagh ceoe sad veet uatueled uitcehh all osehe cehonpnoneh atd cnrefirkh are veuiyntb fearnhiye nc oseg sad ktift osao gim fnhsed no ose etoeroantyeto fimld sape veet wmo icc hand ose wrntue fsi lnke a fimtdmw uliuk vg cirue ic savno hand osntbh se dnd tio epet fnhs oi ve velneped dito oeahe fell atd fsao sah veet deunded avimo tipihnloheph dnhwaous gim ktif epergosntb fsao uat ite hag avimo no rewlned ose wrntue nt a uild lnholehh oite fsao sah veet deunded oseg sape deunded osao vmitawaroe sah vmrto snh viaoh atd velnepe osao fe are readg oi vmrt imrh wrntue pahnln alfagh hwike latbmndlg lnke at auoir reweaontb a hoale waro atta waplipta huserer it ose uitorarg dehwnoe ser cirog gearh iperclifed fnos atnyaonit atd nywmlhnpetehh oi ve at etosmhnaho sad veuiye ser hiunal piuaonit atd hiyeonyeh epet fset hse dnd tio ceel lnke no hse veuaye etosmhnahonu nt irder tio oi dnhawwinto ose exweuoaonith ic osihe fsi ktef ser ose hmvdmed hynle fsnus osimbs no dnd tio hmno ser caded ceaomreh alfagh wlaged rimtd ser lnwh exwrehhed ah nt a hwinled usnld a uitontmal uithunimhtehh ic ser usaryntb deceuo fsnus hse tenoser fnhsed tir uimld tir uithndered no teuehharg oi uirreuo nt ose yndho ic a uitperhaonit it wilnonual yaooerh\n"
     ]
    }
   ],
   "source": [
    "dict_decoder_from_text = dict(zip(map(lambda x: x[0], text_encoded_order), map(lambda x: x[0], en_char_order)))\n",
    "text_decoded = \"\".join(map(lambda x: dict_decoder_from_text[x], text_encoded))\n",
    "print(\"Расшифрованный отрывок текста:\\n\", text_decoded)"
   ]
  },
  {
   "cell_type": "code",
   "execution_count": 17,
   "metadata": {},
   "outputs": [
    {
     "name": "stdout",
     "output_type": "stream",
     "text": [
      "Точность дешифровки для отрывка текста: 48.21%\n"
     ]
    }
   ],
   "source": [
    "print(f\"Точность дешифровки для отрывка текста: {text_accuracy(text_for_encode, text_decoded) * 100:.2f}%\")"
   ]
  },
  {
   "cell_type": "markdown",
   "metadata": {},
   "source": [
    "### Выводы\n",
    "  - Частотный подход только на одиночных символах к сожалению расшифровывает плохо, возможно не хватило длины зашифрованного отрывка текста"
   ]
  },
  {
   "cell_type": "markdown",
   "metadata": {},
   "source": [
    "## Часть 2.\n",
    "\n",
    "Вряд ли в результате получилась такая уж хорошая расшифровка, разве что если вы брали в качестве тестовых данных целые рассказы. Но и Шерлок Холмс был не так уж прост: после буквы E, которая действительно выделяется частотой, дальше он анализировал уже конкретные слова и пытался угадать, какими они могли бы быть. Я не знаю, как запрограммировать такой интуитивный анализ, так что давайте просто сделаем следующий логический шаг:\n",
    "\n",
    "    - подсчитайте частоты биграмм (т.е. пар последовательных букв) по корпусам;\n",
    "    - проведите тестирование аналогично п.1, но при помощи биграмм"
   ]
  },
  {
   "cell_type": "code",
   "execution_count": 18,
   "metadata": {},
   "outputs": [
    {
     "name": "stdout",
     "output_type": "stream",
     "text": [
      "Частоты биграмм для русского языка (первые 100):\n",
      " [('о ', 53083), ('а ', 42142), ('и ', 42011), ('е ', 41730), (' с', 37090), (' н', 36857), (' в', 34614), (' п', 33496), ('то', 32646), (' о', 30491), ('я ', 25887), (' и', 25549), ('на', 24966), ('ст', 24325), ('ь ', 24219), (' к', 22321), ('не', 22125), ('ал', 21802), ('но', 21658), ('го', 19814), ('по', 19153), ('ко', 18402), ('он', 18290), ('ка', 17764), (' т', 17583), ('ов', 17438), ('ни', 17206), ('л ', 17162), ('й ', 17051), ('ла', 16879), ('ра', 16870), (' д', 16722), ('ен', 16543), ('м ', 16441), ('во', 16240), (' б', 15983), ('ро', 15967), ('у ', 15236), ('от', 15230), ('пр', 14196), ('ос', 14022), (' ч', 13848), ('ло', 13707), ('ть', 13543), ('ол', 13528), ('ел', 13448), ('ер', 13096), ('ор', 13081), ('в ', 13067), (' м', 13027), ('ли', 12895), ('ва', 12884), ('ре', 12626), ('за', 12415), ('н ', 12058), ('та', 11752), ('ск', 11460), ('те', 11307), (' е', 11255), ('ом', 11203), ('ле', 11127), ('ан', 11050), ('к ', 10982), ('ри', 10715), ('ог', 10708), ('ил', 10548), ('т ', 10320), ('де', 10288), ('ат', 10003), ('ет', 9925), ('од', 9893), ('ы ', 9876), ('ве', 9855), ('ак', 9746), ('ви', 9684), ('да', 9658), (' з', 9560), ('аз', 9553), ('чт', 9539), (' у', 9409), (' р', 9298), ('бы', 9220), ('же', 9177), (' г', 9110), ('ем', 9106), ('се', 9071), ('ин', 8952), ('ес', 8653), ('ти', 8556), ('ит', 8510), ('до', 8427), ('ас', 8290), ('ег', 8269), ('ль', 8120), ('ю ', 7813), (' л', 7811), ('об', 7720), ('вс', 7711), ('че', 7536), ('мо', 7511)]\n"
     ]
    }
   ],
   "source": [
    "ru_char_order = Counter(get_ngrams(text_anna_ru + text_war_ru,2)).most_common()\n",
    "print(\"Частоты биграмм для русского языка (первые 100):\\n\", ru_char_order[:100])"
   ]
  },
  {
   "cell_type": "code",
   "execution_count": 19,
   "metadata": {},
   "outputs": [
    {
     "name": "stdout",
     "output_type": "stream",
     "text": [
      "Частоты биграмм для английского языка (первые 100):\n",
      " [('e ', 111106), (' t', 87536), ('d ', 75865), ('he', 75251), ('th', 73770), (' a', 69554), ('s ', 62857), ('t ', 58261), (' h', 49801), ('in', 48429), ('an', 45721), ('er', 43486), (' s', 40788), (' w', 40638), ('n ', 40545), ('re', 35670), ('nd', 34582), (' o', 34096), ('y ', 31379), ('r ', 30757), ('ed', 28702), ('at', 28179), ('on', 27731), (' i', 27406), ('ha', 27017), ('o ', 26908), ('en', 26584), ('hi', 25998), (' b', 25159), ('ng', 24992), ('to', 24751), ('ou', 23549), ('g ', 22136), ('is', 21988), ('it', 21463), (' f', 21368), ('as', 21176), ('es', 20486), (' c', 20457), ('or', 19801), (' m', 19526), ('f ', 19437), (' p', 18935), ('te', 18417), ('ar', 17955), ('st', 17846), ('se', 17569), (' d', 17244), ('nt', 17189), ('le', 17136), ('of', 16920), ('h ', 15429), ('me', 15180), ('a ', 15144), (' r', 15135), (' n', 15095), ('ne', 14843), ('ro', 14793), ('ve', 14585), ('al', 14235), ('ti', 14022), ('de', 13774), ('ho', 13726), ('ri', 13537), ('ea', 13391), ('ll', 13213), (' l', 13204), ('ce', 13147), ('l ', 12931), ('co', 12835), ('no', 12689), ('m ', 12495), ('wa', 12169), ('wh', 11926), (' e', 11759), ('be', 11392), ('ad', 11323), ('om', 11069), ('ut', 11011), ('ch', 10874), ('sh', 10858), ('el', 10471), ('wi', 10024), ('ot', 10024), ('ly', 10008), ('im', 9943), ('ow', 9924), (' g', 9813), ('ss', 9707), ('li', 9516), ('ma', 9450), ('si', 9377), ('nc', 9230), ('so', 9013), ('us', 8932), ('ta', 8917), ('un', 8781), ('ai', 8776), ('id', 8682), ('rs', 8678)]\n"
     ]
    }
   ],
   "source": [
    "en_char_order = Counter(get_ngrams(text_war_en,2)).most_common()\n",
    "print(\"Частоты биграмм для английского языка (первые 100):\\n\", en_char_order[:100])"
   ]
  },
  {
   "cell_type": "markdown",
   "metadata": {},
   "source": [
    "### Шифровка и расшифровка текста на **русском** языке частотным методом (для биграмм)"
   ]
  },
  {
   "cell_type": "code",
   "execution_count": 20,
   "metadata": {},
   "outputs": [
    {
     "name": "stdout",
     "output_type": "stream",
     "text": [
      "Токкены биграмм для руссокого языка (первые 100):\n",
      " ['о ', 'а ', 'и ', 'е ', ' с', ' н', ' в', ' п', 'то', ' о', 'я ', ' и', 'на', 'ст', 'ь ', ' к', 'не', 'ал', 'но', 'го', 'по', 'ко', 'он', 'ка', ' т', 'ов', 'ни', 'л ', 'й ', 'ла', 'ра', ' д', 'ен', 'м ', 'во', ' б', 'ро', 'у ', 'от', 'пр', 'ос', ' ч', 'ло', 'ть', 'ол', 'ел', 'ер', 'ор', 'в ', ' м', 'ли', 'ва', 'ре', 'за', 'н ', 'та', 'ск', 'те', ' е', 'ом', 'ле', 'ан', 'к ', 'ри', 'ог', 'ил', 'т ', 'де', 'ат', 'ет', 'од', 'ы ', 'ве', 'ак', 'ви', 'да', ' з', 'аз', 'чт', ' у', ' р', 'бы', 'же', ' г', 'ем', 'се', 'ин', 'ес', 'ти', 'ит', 'до', 'ас', 'ег', 'ль', 'ю ', ' л', 'об', 'вс', 'че', 'мо']\n"
     ]
    }
   ],
   "source": [
    "RU_TOKKENS_BI = list(map(lambda x: x[0], ru_char_order))\n",
    "RU_TOKKENS_BI_SHUFFLE = RU_TOKKENS_BI.copy()\n",
    "random.shuffle(RU_TOKKENS_BI_SHUFFLE)\n",
    "dict_encoder_ru = dict(zip(RU_TOKKENS_BI, RU_TOKKENS_BI_SHUFFLE))\n",
    "print(\"Токкены биграмм для руссокого языка (первые 100):\\n\", RU_TOKKENS_BI[:100])"
   ]
  },
  {
   "cell_type": "code",
   "execution_count": 21,
   "metadata": {},
   "outputs": [
    {
     "name": "stdout",
     "output_type": "stream",
     "text": [
      "Отрывок текста для шифровки:\n",
      " в новом романе толстого огромную психологическую разработку души человеческой страшную глубину и силу и главное небывалый доселе у нас реализм художественного изображения время подтвердило эту высокую оценку из статей и книг на всех языках мира посвященных анне карениной можно составить целую библиотеку я без колебаний назвал анну каренину величайшим социальным романом во всей мировой литературе писал томас манн значение романа толстого состоит не в эстетической ценности отдельных картин а в художественной завершенности целого войну и мир толстой называл книгой о прошлом в начале года он просил редактора журнала русский вестник м н каткова в оглавлении и даже в объявлении не называть его сочинение романом для меня это очень важно и потому очень прошу вас об этом толстой мог бы обосновать свое определение жанра книга ссылкой на гегеля которого он внимательно перечитывал в годы работы над войной и миром гегель называл книгой эпические произведения связанные с целостным миром определенного народа и определенной эпохи книга или самобытная эпопея дает картину национального самосознания в нравственных устоях семейной жизни в общественных условиях состояния войны и мира курсив наш э б в его потребностях искусствах обычаях интересах анну каренину толстой называл романом из современной жизни в году только еще начиная работу он говорил н н страхову роман этот именно роман курсив наш э б первый в моей жизни очень взял меня за душу и я им увлечен весь эпоха отечественной войны позволила толстому изобразить в войне и мире жизнь русского народа великой эпохи как целостный мир прекрасный и возвышенный я художник пишет толстой размышляя над событиями года и вся жизнь моя проходит в том чтобы искать красоту общественный подъем х годов когда в россии было уничтожено рабство крестьян наполнял и автора войны и мира чувством духовной бодрости и веры в будущее в е же годы в эпоху глубокого социального кризиса когда написана анна каренина мироощущение толстого было иным все врознь так определил сущность пореформенной эпохи ф м достоевский толстой видел перед собой раздробленный мир лишенный нравственного единства красоты нет жаловался он и нет руководителя в хаосе добра и зла если в войне и мире преобладает нравственная целостность и красота или поэзия то для анны карениной становится характерным раздробленность и хаос или проза после войны и мира с ее всеобщим содержанием и поэтической простотой замысел анны карениной казался толстому частным не простым и даже низменным переход от войны и мира к анне карениной имеет историческое социальное и философское обоснование в романе в отличие от книги как об этом писал гегель отсутствует самобытное поэтическое состояние мира роман в современном значении предполагает прозаически упорядоченную действительность однако здесь снова полностью выступает богатство и разнообразие интересов состояний характеров жизненных отношений широкий фон целостного мира равно поэтическое изображение событий\n"
     ]
    }
   ],
   "source": [
    "text_for_encode = text_anna_ru[1001:3959]\n",
    "print(\"Отрывок текста для шифровки:\\n\", text_for_encode)"
   ]
  },
  {
   "cell_type": "code",
   "execution_count": 22,
   "metadata": {},
   "outputs": [
    {
     "name": "stdout",
     "output_type": "stream",
     "text": [
      "Зашифрованный отрывок текста:\n",
      " ряьзрщнртддтагелнгльогылогтдакзлвакддпютсёюкгвзлвцеалёлуяизжрцнудсшииквнцложнфльлёчмзлэдхнетласэрвгфзж шгтещьзушагроляёзнфхвдъщаз юатщвцпоуа рзшчшршцлвгекьзйгсэъеенклекфлхмтцмовапявгозвкютцдмтхмьяпызлямянабзжхирвцбвхнф шлесмюасъюхьпимецзсйзехлёвадьоввбудйаэсудушзстцюрьзнффрчуылуольещйрухянхндуетркгнвхчсимяшэрплнгтэзгюлюаеаляьэзглаплцоекппзжжжуатъпгнщрвзчпалыженртддтьзнррщхмдънфехтдрщнфуавхлёмттцваолялелкцтщыпзгзални ексгвцкцзгсънхбхнхйгрвдьнхйрюаушрясжвхнвюкгввсрпекьзль шегоолыжейззсжуппэсхмзшчшршцлвгекьзнфьмжжй екьзль шянютйгхмвсласэыпвюелнгльвсюаеа тялплюрйгнфылрмеяютнрряиштъщаэдпясълбватдкдьэтциооаргсъжчдфялсъя ув мнфжжльюраюнрзазсяииксъряогрхгдеквлсэоуклушрядрыхгдеквлюаушишецлявжцийгрво ппексгвцкцзгкцоувяыпек зыбыло екухлячуыл шящнхьаямюкцуватдрсхмтщямцгыбкцелнгльвсыпогяшшцдрдььзлявжрврщушбътцоощаюрушжэднсълесмсъувцпожнфишэдисши зожнхтдйгямзаювнщпюширчылыштцыс вляьэряйгцквцгуегшцишаэрщонвссэыпвюкцэдисшиухишецляьэлесмвсцдсыюкгвсгватдхижжооюр зттвтзгжеушбзянютльженрехтднрбътцоощаудогылиштдиосэямрмубшиекьзнфвэкт шлесмсъгф шаифррочлуяцдящыш зиоьоплцонвлаюаицгнишлыьзйгрвпфдьп ишюр зряднещльжжудйаз льгийздъиюонвсёрхиюрхмям ецлвгекжейзйфютфтбурвдьнхгафлхмвсжесэыпвюсъчсгкячюааоцдяшхмцийгваегтцохдьуцйзолчсуввгяжямротъбусэдоозцляжэсудзжзстцюрлаелнгльвсюаеа тялвцкцзгкцсэйтуошпфмекьзнфшюлн шряйгрцелнгщьылр ушишысиш злёлумтямзайгрщедьэзазальлёдпычвцкцзгцднхуунщекьзвцкцзгплшмкдряишйцтяцгышвдшьхмыпйднфшюлн шо екух эйеыпек зьмоуепзж ш знщз гдвнекхмцлухвэктсъегвнцлвгекьзнфрщоншцящофнггфсънхбхнхьасэъеенеайрухрярщонуш шехтцёрхицувцйфгвогылиштдиохмшиидвсцдящфчплкпрпшидьчлшьыпвюватцлотщженф шрщофнэекженф зифхвчуидватзьоелнгльвсвцеааавырзюаотрвдртюфлехэдпясъ шюх зшюлнухфр зрмктпяйрхмелкцдснхросэгвпюухлотщегзждрвбльжжудшьвапяыщнрйзйгхвряожефсърятдуввляшцпылирю нхерьзвцгульрщплтцльзузаишящмчйесээсюгргсърщоншц шехлёдсрбльрщнррцдпюввсяшпятдль ш шжжбсхмяшчштлорхмциёрушйгцкхмцдящифэдхнлуожйгрвзчпалыьзйгпледс аиплогиоюалжолзгсъзгишплцоекппсъехтдхатлексгелнгльогылроютсэженрюхушшпп цуелкпямрмубшигфрвтльзльухящтцяксюекьзнфвэкт шдгнрхвльйдюх мнфнхбхнхнффтооьэыштцаэуолунфлёгжтдркекженфехгшуадшудшьюалёюхвгекьзйгцивкнсвгсълотщегшцагуужэютлябх злбсэюаьовцтиикпяйрши зрядщдьушхвенсъ шчвсъцлуахмхмвсагсэыпвюушрмквркотсеууднещльжжудуярпшидьчлдьвжсэпллёуоцбсэуава пс  знхоувяэсудшцзстцюрьзнфльзгикйрсрзшцокпвхдфбывцеавудрщауддьвжсэзшснбзгф шрмп съящюцушрщоншц шехлёрвциушюхкв енщрвпяозжэюрфмсэва пнвюкгввсватдльегвсайпфьяшиэсудшцзстцюрьзнфзсьмбх знхбхнхьадстщчлбыюаушрмдь внр шиоерюахииюудбываозьппяямуурщоншц шехлёплэсудушзстцюрьзнфнщорууолнхедюкгвйдрвзчпалыьзуш шщуютуодложушдрдььзляюрушрятддтагхмям чю сгямуулесм шзсаюдрцднхнрсыаиьэододлыямпксольычьорвпфдртюьзушящыбю цложушуольгиюрушехлёвцкцзгхмрвиктциюудкцайишюкюр шрмубящрх кьоватдьмю цл мз ящтыхвюкудзлоурнльфтвхлыьзльухпяишожайоосарвьзлявангьзльдехмьямтчньояшогпюльрщсэвцеаьздрлёс ушппвхтцуоряуольгиюрнфдщлёоаозикёрхиагудйаямчлеяекюл йвюпыюлшрлбрпшидьчлогылехлёвцещьзва пнвюкгвйдсэъеенклексгрвдртююл\n"
     ]
    }
   ],
   "source": [
    "def get_pair_char(text):\n",
    "    tokkens = []\n",
    "    for i in range(len(text)//2):\n",
    "        tokkens.append(text[i*2:i*2+2])\n",
    "    return tokkens\n",
    "\n",
    "text_encoded = \"\".join(map(lambda x: dict_encoder_ru[x], get_pair_char(text_for_encode)))\n",
    "print(\"Зашифрованный отрывок текста:\\n\", text_encoded)"
   ]
  },
  {
   "cell_type": "code",
   "execution_count": 23,
   "metadata": {},
   "outputs": [
    {
     "name": "stdout",
     "output_type": "stream",
     "text": [
      "Частоты зашифрованного отрывка текста (первые 100):\n",
      " [('ль', 33), ('ьз', 32), ('ек', 28), ('нф', 25), (' ш', 25), ('уш', 25), ('сэ', 21), ('хм', 21), ('съ', 21), ('тц', 20), ('вц', 19), ('уд', 19), ('рв', 19), ('нх', 19), ('тд', 18), ('ва', 18), ('дь', 17), ('вс', 17), ('рщ', 16), ('лё', 16), ('йг', 16), ('юр', 16), ('иш', 16), ('ря', 15), ('зл', 15), ('ши', 15), ('юа', 15), ('ям', 15), ('др', 15), (' з', 15), ('гв', 14), ('цл', 14), ('ля', 14), ('зн', 14), ('зг', 14), ('кц', 14), ('нр', 13), ('лн', 13), ('шр', 13), ('шц', 13), ('ле', 13), ('ех', 13), ('ыл', 12), ('ло', 12), ('пл', 12), ('хн', 11), ('ол', 11), ('кь', 11), ('ен', 11), ('пя', 11), ('цд', 11), ('же', 11), ('ящ', 11), ('ел', 10), ('нг', 10), ('ог', 10), ('юк', 10), ('гр', 10), ('ат', 10), ('зс', 10), ('хл', 10), ('уо', 10), ('ух', 10), ('ып', 10), ('вю', 10), ('ьо', 9), ('ют', 9), ('ал', 9), ('лу', 9), ('вг', 9), ('цз', 9), ('жж', 9), ('рх', 9), ('що', 9), ('еа', 8), ('зж', 8), ('ож', 8), ('эд', 8), ('хв', 8), ('яш', 8), ('юл', 8), ('цо', 8), ('лы', 8), ('цк', 8), ('ше', 8), ('оо', 8), ('рм', 8), ('ци', 8), ('ув', 8), ('он', 8), ('ге', 7), ('гл', 7), ('гы', 7), ('лв', 7), ('кг', 7), ('це', 7), ('дс', 7), ('тщ', 7), ('гс', 7), ('хи', 7)]\n"
     ]
    }
   ],
   "source": [
    "text_encoded_order = Counter(get_ngrams(text_encoded,2)).most_common()\n",
    "print(\"Частоты зашифрованного отрывка текста (первые 100):\\n\", text_encoded_order[:100])"
   ]
  },
  {
   "cell_type": "code",
   "execution_count": 24,
   "metadata": {},
   "outputs": [
    {
     "name": "stdout",
     "output_type": "stream",
     "text": [
      "Количество биграмм в исходном тексте (произведении): 853\n",
      "Количество биграмм в отрывке текста: 769\n"
     ]
    }
   ],
   "source": [
    "print(f\"Количество биграмм в исходном тексте (произведении): {len(RU_TOKKENS_BI)}\")\n",
    "print(f\"Количество биграмм в отрывке текста: {len(text_encoded_order)}\")"
   ]
  },
  {
   "cell_type": "markdown",
   "metadata": {},
   "source": [
    "  - Количество биграмм в исходном тексте (произведении) и на отрывке текста не совпадают. Алгоритм расшифровки частотным методом для биграмм неоднозначен. \n",
    "  - Для дальнейшей расшифвровки возьмем наиболее часто встречающиеся биграммы исходного текста в количестве равному биграммам из отрывка текста"
   ]
  },
  {
   "cell_type": "code",
   "execution_count": 25,
   "metadata": {},
   "outputs": [
    {
     "name": "stdout",
     "output_type": "stream",
     "text": [
      "Расшифрованный отрывок текста:\n",
      " каа нороь г музан о талотаь ц  т кашият тлскра тя вигоатспдаезушобовмадр д зе о горл тазелтчик внаидда сутока  нмуужентпе чтытднуснився рнрутюекязян дети а по вглв апи тв п озе к меточует лиыл пабша тл буючдамонавяойе  соскунитоей фршд омар чго кнез лл иуп а и ном окоа е ятурлоано окоек буел хтчйсжаойюбрш уополн жчво рнивиенс воиколбыи сьдаы рууб ю жнатяртжевароь г а роно пыте  чь ное руойгоыл о керряза бвсривомеу бяи мия  бвотостхостпонанестоени нкачнойныскраалжии а о  с эсежевааромннсь а пекязян дети а е ахы мги а о  сбут по палик вриогзан о алнивичьряолкопое лоиныкт рокаонубдназ мтоех кь ашс  опеипрмтогчьзрятоуатиыше ы о коыйромеомспматокатавеиги ев вамап нкай вмиги евни нонд ентсеспоназьсьи мия  бво бамхурии лактлозьи к енурло срестьял скще кь фи пвсл ошкт бзан о алрита упрй неа ентснано нсю оседнко ньсэттооскутотищи зе оназзжовла зсть пол меиш жичоврслоял отднгенс капо гя уч эпронывноитал вриог баззжовк онд енс оскуаллисчскрами кь моы секолаецгквова ньебут о варо чь росю оседн италоонь пе вл иншнови а е рдым соскутоид сепятужняждлиреяллапеилолбыныикниуяжаонжеа понаблнергонколакаэтоко ы  иупусо боарытбеиталулмоко пл ше дети ваарбът ямдынанестюмтв палва вриогтоюбибцынитули у песпо к э ояюнейрарерюбтиетьбл ужубды влжоч дьб а идаом окоикзан о алнивичьряя  бво б внзанмнтти а е иву  скапоеззан аглоад нонтдонлагоатылл мепонофрс мемео гоиямля  бволистзн жи а я  бвоолхташкаонрфхаошялнуою приаче иву  сзьи к пшяерии лаахамнбда сла жусигдри  п дк рдымто эдр дети а е ноитпрребсн идтостхостья вглв виоек каноит н с ч оулмощея бъраталоонь пе повлуаллиресфолисжиовненяоюриог к отьвсвае  снобснжи вае лаб чтурлу кфаилзан о аля виржфскнниеенай рвтв чаз мто сейлаиву к ятлаиным мое пза бобстуж враичк тьвс эдай лло ы  иою к мкцроарпочтка зиутокаь тиев ущилоч бистнра я учо ноол оо уммеонрехряе в акдрмтоноитпр с чгообацо нороезияишал у мь о  с сы шу п уязаязд песул нпо г плиреб азелат зпонатяртжеа поолфрежеполтапеницгервотовоонолбыи сьто чь аоаяи мизан о талоужт  ввароей нмнргщезаисл иншновиднааяа о к ре огшсми а е рдым схшрочто ачейыше стхосте ямсес ял оыванате гозкь йси вае  чеюруож иоюнигоейети а поесуеохеттотьвс эпрмузньст енхолаех внииля ыума моеовлакапнне нчтв то сьтто дру п палму вриог нинтрйсееэззнэтоко ы  ижджиовненянетс волгоанвя вру кмыежластамху а ипром окоа е о вомаоеркекбыисойьзрья вимщй дн инетс векжсьеид синргторелз нноитпр с чгонаес нейтрше жна мочьскотт в кмыныскраал кь о  эалебблабов а ипром окоа е омаххоластхостьяобвснярьни нинненгро спенрнимобе ирь коч ф мл знноитпр с чгоол а и ном окоа е  жздзнерстфрскраачнатяртжеа  н сфет андл з нй неа енко нкаь г му пл чвбимил зноску сомыйй листросчепс юдюджел мзшшо млилнаблй рва  нректби д з нано боко н чгоя  бво пнама обе и бебонскко синшнревеьпил кь ахби дышусредзчтск и таммко ямойжеа о к  мон зебсеоинаа ен кн а о зы пабылкхил утаичо но вя виа й гоеж нсьой оанкаано бокое пнгоипочмаулмому иупл няыки  рюфогша ротехжиовненятало чгоя ока  кмыныскраач вглв апи минай рв р\n"
     ]
    }
   ],
   "source": [
    "dict_decoder_from_text = dict(zip(map(lambda x: x[0], text_encoded_order), \n",
    "                                  map(lambda x: x[0], ru_char_order[:len(text_encoded_order)])))\n",
    "text_decoded = \"\".join(map(lambda x: dict_decoder_from_text[x], get_pair_char(text_encoded)))\n",
    "print(\"Расшифрованный отрывок текста:\\n\", text_decoded)"
   ]
  },
  {
   "cell_type": "code",
   "execution_count": 26,
   "metadata": {},
   "outputs": [
    {
     "name": "stdout",
     "output_type": "stream",
     "text": [
      "Точность дешифровки для отрывка текста: 6.42%\n"
     ]
    }
   ],
   "source": [
    "print(f\"Точность дешифровки для отрывка текста: {text_accuracy(text_for_encode, text_decoded) * 100:.2f}%\")"
   ]
  },
  {
   "cell_type": "markdown",
   "metadata": {},
   "source": [
    "### Шифровка и расшифровка текста на **английском** языке частотным методом (для биграмм)"
   ]
  },
  {
   "cell_type": "code",
   "execution_count": 27,
   "metadata": {},
   "outputs": [
    {
     "name": "stdout",
     "output_type": "stream",
     "text": [
      "Токкены биграмм для английского языка (первые 100):\n",
      " ['e ', ' t', 'd ', 'he', 'th', ' a', 's ', 't ', ' h', 'in', 'an', 'er', ' s', ' w', 'n ', 're', 'nd', ' o', 'y ', 'r ', 'ed', 'at', 'on', ' i', 'ha', 'o ', 'en', 'hi', ' b', 'ng', 'to', 'ou', 'g ', 'is', 'it', ' f', 'as', 'es', ' c', 'or', ' m', 'f ', ' p', 'te', 'ar', 'st', 'se', ' d', 'nt', 'le', 'of', 'h ', 'me', 'a ', ' r', ' n', 'ne', 'ro', 've', 'al', 'ti', 'de', 'ho', 'ri', 'ea', 'll', ' l', 'ce', 'l ', 'co', 'no', 'm ', 'wa', 'wh', ' e', 'be', 'ad', 'om', 'ut', 'ch', 'sh', 'el', 'wi', 'ot', 'ly', 'im', 'ow', ' g', 'ss', 'li', 'ma', 'si', 'nc', 'so', 'us', 'ta', 'un', 'ai', 'id', 'rs']\n"
     ]
    }
   ],
   "source": [
    "EN_TOKKENS_BI = list(map(lambda x: x[0], en_char_order))\n",
    "EN_TOKKENS_BI_SHUFFLE = EN_TOKKENS_BI.copy()\n",
    "random.shuffle(EN_TOKKENS_BI_SHUFFLE)\n",
    "dict_encoder_en = dict(zip(EN_TOKKENS_BI, EN_TOKKENS_BI_SHUFFLE))\n",
    "print(\"Токкены биграмм для английского языка (первые 100):\\n\", EN_TOKKENS_BI[:100])"
   ]
  },
  {
   "cell_type": "code",
   "execution_count": 28,
   "metadata": {},
   "outputs": [
    {
     "name": "stdout",
     "output_type": "stream",
     "text": [
      "Отрывок текста для шифровки:\n",
      " i will have nothing more to do with you and you are no longer my friend no longer my faithful slave as you call yourself but how do you do see have frightened yousit down and tell me all the news it was in july and the speaker was the wellknown anna pavlovna scherer maid of honor and favorite of the empress marya fedorovna with these words she greeted prince vasili kuragin a man of high rank and importance who was the first to arrive at her reception anna pavlovna had had a cough for some days she was as she said suffering from la grippe grippe being then a new word in st petersburg used only by the elite all her invitations without exception written in french and delivered by a scarletliveried footman that morning ran as follows if you have nothing better to do count or prince and if the prospect of spending an evening with a poor invalid is not too terrible shall be very charmed to see you tonight between and annette scherer heavens what a virulent attack replied the prince not in the least disconcerted by this reception he had just entered wearing an embroidered court uniform knee breeches and shoes and had stars on his breast and a serene expression on his flat face he spoke in that refined french in which our grandfathers not only spoke but thought and with the gentle patronizing intonation natural to a man of importance who had grown old in society and at court he went up to anna pavlovna kissed her hand presenting to her his bald scented and shining head and complacently seated himself on the sofa first of all dear friend tell me how you are set your friends mind at rest said he without altering his tone beneath the politeness and affected sympathy of which indifference and even irony could be discerned can one be well while suffering morally can one be calm in times like these if one has any feeling said anna pavlovna you are staying the whole evening hope and the fete at the english ambassadors today is wednesday must put in an appearance there said the prince my daughter is coming for me to take me there i thought todays fete had been canceled confess all these festivities and fireworks are becoming wearisome if they had known that you wished it the entertainment would have been put off said the prince who like a woundup clock by force of habit said things he did not even wish to be believed dont tease well and what has been decided about novosiltsevs dispatch you know everything what can one say about it replied the prince in a cold listless tone what has been decided they have decided that buonaparte has burnt his boats and believe that we are ready to burn ours prince vasili always spoke languidly like an actor repeating a stale part anna pavlovna scherer on the contrary despite her forty years overflowed with animation and impulsiveness to be an enthusiast had become her social vocation and sometimes even when she did not feel like it she became enthusiastic in order not to disappoint the expectations of those who knew her the subdued smile which though it did not suit her faded features always played round her lips expressed as in a spoiled child a continual consciousness of her charming defect which she neither wished nor could nor considered it necessary to correct in the midst of a conversation on political matters\n"
     ]
    }
   ],
   "source": [
    "text_for_encode = text_war_en[1030:4322]\n",
    "print(\"Отрывок текста для шифровки:\\n\", text_for_encode)"
   ]
  },
  {
   "cell_type": "code",
   "execution_count": 29,
   "metadata": {},
   "outputs": [
    {
     "name": "stdout",
     "output_type": "stream",
     "text": [
      "Зашифрованный отрывок текста:\n",
      " necsyvfyhmorlkpewktxgdczkfdzsd jut nfdhcgaoffdhcpiorlkragovvxqzmdhdwhhoflkragovvxqzmdh tpez gfcqhmorlfwntnhelegffddmprxcqulwfyasfsdzfdhcsdmluffyhmorakvaoghhomwntn fzssdbtelxhkfysgfaaelyvkfmfvbejgiut jlftfxletayelxhkfmfmlujbcax jlfkfmf jyscllkbtel xrnmyzuicscmlsraxaxkk tofinfygokhelxhdhhmkhutorinkfmfthbaczeckkpictdhomkhicsc jut npeklormsx gitloroyufbsofyiwkhu glfhaner xatrxlrnuyxlinfyva nxadjelxhtfbakhwilsorrldzssgipeoryotpzsbyel yl orktfyaxmajouetagoel xrnmyzuicscfyplfyplelhetnbedhkhmlemordswemlmf jlfelgitlorglhrml dyrdwf dhryri crpdwtkoroyudujquvef kfmfxlrnyfeamsx tfxlpny eiaxvsdmtxeqomvlxougaqkfmfth qbselyvfyaxtfznutktuipa juttjlwthyyuetago jdwfkhhtfxlakhhsrelxhfsysl axomquugrnkppiehzvl axhkofpooouyxlpektkkkhlmf magaelgipoyvasgikewntnfyhmorlkpewktxnxfkaxkfdzsdhetnc vlxqyiwkhuelxhtf speoryikgujdcvl sothhitf elxlrrhhwktxcspeely olxqwko  qofuzvbookfolkfaxdwxsortllegfnx gaxugsrpiaaofbymlufwntnkfgovaogqueimuhhelxhel xeibsmlsraxaxfyvormpa jgrzsrnwsgmehc elfkbhojczjihkofpeoryiwkhuvbootfxlpeorehlfzsitkpgohufcomquugpeuzmajouetagofyorgrofetpnthc axom jvodwf elxlmpnbknsiczofohdmzslpkekhrimhufquczjomfgigaoftlalgigaofgrofpnpigigofyuzquczlfzsgaofrnprczyfthazczecuixlgofyuzdh czspmhufyorotpyorwkkfgrzsczyoyfofakhhsrtfxlrlbm ntnxqoygavhktmftpvboovlxougotpyorwmzspetnbezsgaofcspekfmfrphhzvormyptgorwwktxwkbysctagovbktdmlekfdzrnuyxlintfbakhwilsorrldzgrofoyasxlbjofwkmluchkymelxhelzsohdmzsmf jhhzskskfdzgascy hmaceernhwecomfyaxfygaofyiklhhtaf kfdzmfxqzyginuycmlhuc omelxhmlzylmf fyvoofgaofohba chuc aymlvobsofzyvrys sgokfmfmlinrnyotpzsinelyvfsvoxqakhkxhkfysgfaafyaswntnelczmleiwntnxqakhkxhgiyaxhelzsczpnml tofmf juttjlweligaxwktxzygibyyfquhhvopekfmfy bjuthhklgigaofylyrdcommluqmypeugin jzysrtfxhkeyrczlsorgaofrrhhtfrybwhetnycquoritkpaxyfofldxlgoornx jysgfrlhaorbooaaxwktxgdxayvugldxlgoornxheleriwkkfarklranworpeklorkevlyffylfelbwdhuf qf ml tofgascy hmaceernfdhcpiorpnspwktxpeorrlbjorrrhhwktxtjujelxhkfmfdheiorktkfmfthf  qtlel olfglsdtpkfrosptfgimumgkldsugfhpny lwtfxlgaeltkvoxalsorpeaxorglhrkfmfy dwlsorzmfskdbebsxquzheemwktxpoxqaakfdzwihdkkorpeaxornepetnbezsbydswedheiorgrofnxhhhegahuehofohsfklgilegfpekloryrpnl uthkgigaofyoczmsewgipiornxohyaf  jvodw maatf speonfyplrqlkbtkfgrzsfdhccstlomtfzspeorhhbsfc tgphhzsmszoofgrrmquufxlihzsin sglhrkfmfy dwlsorrldz qhdel jtnxhksheacbuquugpocoorinfyvkutml tofpewkvwfyoritoflkzsrrhh juz nbyquornx qrromfsgozsbslformuyvelxh jgrzsgrginxhhfsjohromelwplwvbickghabdrrgiitotktsrwntnrqlkearraxgbzyf  jgrzsldxlgoorglugvktnzsutmaue qomkfmfy dwlsorwkelhebjof qpneheckfgoorrlktfylfquufxlsistsiofpeonfyhmorsistsiofpektqutmscmyfcorgrgiwmgtzszygiwpktgigaofnx qrrorpekt jorpiorczplugbyqudmxltntpy dwlsoro  f qeluwspgiotpyor cf toppug qhdelxlbhbyxqczujktwktxrnpnleormyfcel xrnmyzuicscmlsraxaxvlxlpeorohc xattfsklyhbsfyaxdhkhymwnvotpvlrmmcacmuofcspeellmuytagoelxhtfbazo frmyfeckfdznxelxlhhpeeqvupnfyplqujoemormfxq mstle gucktuixlgaof maataaagirrhh jmfxltloritoflkzsyrysranworutmlmfqujodnorhhpeeqvupnbmtfxlkhsixqlkzsbyfsuzmosjwkzspeorpbujdcktuipavl spekgorrldzmhejfyaxkfmfmlzhh ommlyaeh jzysrkftjrt nutfshrvboomltozsmfxqpmsiofyrktdmkleluwspgijispommatnxhfyaxraudgipbyiklproflftfxlrnotknehofsrhaofrnohc wkesgfohpasttnzeklgiinfyaxhegrzdwktxsiyrdc jzysrmlmfvbvepeax juzmfoflkxqohzooflkxqohpahraxomtfzsyfhuecpiugbyhekhczdctfxlpeoryaouzsinelhegormtpktuixlgoy bjutbmlekkktbstp\n"
     ]
    }
   ],
   "source": [
    "text_encoded = \"\".join(map(lambda x: dict_encoder_en[x], get_pair_char(text_for_encode)))\n",
    "print(\"Зашифрованный отрывок текста:\\n\", text_encoded)"
   ]
  },
  {
   "cell_type": "code",
   "execution_count": 30,
   "metadata": {},
   "outputs": [
    {
     "name": "stdout",
     "output_type": "stream",
     "text": [
      "Частоты зашифрованного отрывка текста (первые 100):\n",
      " [('or', 71), ('of', 49), ('el', 45), ('fy', 41), ('pe', 35), ('zs', 35), ('kf', 33), ('mf', 32), ('xl', 30), ('ax', 30), ('kt', 29), ('gi', 28), ('hh', 26), ('ml', 26), ('tf', 25), (' j', 24), ('wk', 23), ('go', 23), ('xh', 23), ('f ', 22), ('ga', 21), ('he', 21), ('lx', 21), ('rn', 20), ('fm', 19), ('kh', 19), ('ao', 18), ('tn', 18), ('qu', 18), ('om', 18), ('cz', 17), ('dh', 17), ('fx', 17), ('l ', 17), ('rr', 17), ('xq', 16), ('hk', 16), ('lk', 15), ('ut', 15), ('nx', 15), ('oo', 15), ('sp', 15), ('fd', 14), ('lf', 14), ('le', 14), ('ya', 14), ('sr', 14), ('ek', 14), ('ro', 14), ('gr', 14), ('tp', 13), ('sg', 13), ('ls', 13), ('in', 13), ('so', 13), ('lg', 13), ('ug', 13), ('yv', 12), ('rl', 12), ('tx', 12), ('dz', 12), ('dw', 12), ('hu', 12), ('kl', 12), ('rm', 12), ('eo', 12), ('yf', 12), ('pn', 12), ('si', 12), ('oh', 12), ('ra', 11), ('nt', 11), ('ys', 11), ('sc', 11), ('by', 11), ('rp', 11), ('y ', 11), (' q', 11), ('fg', 11), ('zy', 11), ('cs', 10), ('hm', 10), ('nf', 10), ('hc', 10), ('io', 10), ('zm', 10), ('fs', 10), ('et', 10), ('to', 10), ('c ', 10), ('yo', 10), ('ot', 10), ('jo', 10), ('lh', 10), ('rg', 10), ('tk', 10), ('fo', 10), ('vo', 10), ('ju', 9), ('pi', 9)]\n"
     ]
    }
   ],
   "source": [
    "text_encoded_order = Counter(get_ngrams(text_encoded,2)).most_common()\n",
    "print(\"Частоты зашифрованного отрывка текста (первые 100):\\n\", text_encoded_order[:100])"
   ]
  },
  {
   "cell_type": "code",
   "execution_count": 31,
   "metadata": {},
   "outputs": [
    {
     "name": "stdout",
     "output_type": "stream",
     "text": [
      "Количество биграмм в исходном тексте (произведении): 600\n",
      "Количество биграмм в отрывке текста: 581\n"
     ]
    }
   ],
   "source": [
    "print(f\"Количество биграмм в исходном тексте (произведении): {len(EN_TOKKENS_BI)}\")\n",
    "print(f\"Количество биграмм в отрывке текста: {len(text_encoded_order)}\")"
   ]
  },
  {
   "cell_type": "markdown",
   "metadata": {},
   "source": [
    "  - Количество биграмм в исходном тексте (произведении) и на отрывке текста не совпадают. Алгоритм расшифровки частотным методом для биграмм неоднозначен. \n",
    "  - Для дальнейшей расшифвровки возьмем наиболее часто встречающиеся биграммы исходного текста в количестве равному биграммам из отрывка текста"
   ]
  },
  {
   "cell_type": "code",
   "execution_count": 32,
   "metadata": {},
   "outputs": [
    {
     "name": "stdout",
     "output_type": "stream",
     "text": [
      "Расшифрованный отрывок текста:\n",
      " etshroheele esthndaleutos tiayre cct poted t potrse esno oxe fimoude s tesno oxe fimoulathmbpepsele teiohiatarpe poonuxi bsuhek owti potay wieheele emuceb sngiohicl aayubd y s wapesad ros t ldzier creten  h gobd y s t  wosdqinretes t rewatpesubd ap i yfutswh wseininlola ta he oo d y ouelo  ce a s t w fftoevlorsksoungo tswhre cctthrie panseryoe fiieee tu ndhop tecketylmowy h iey ha heucctmoykd y n ffo zemee vetibterthe maof a ed mcise anheinfoncryov od ap i yfutswhheagheagd athiodouo  w je rveo wt reted eryoe rtfr wabkeder ouurullsbedetae fizoos bvsr s t  h i livpansn  hceadepiniqooalc ngprtrnewws t w omeed roheinn yc cancaokre cvosuw ymryov orederu sn  hem ssed y owwaisinng bne ihtrswokaisinas tqu mey hthanloo amr foedd erqurok erttiohiheele esthndalorruins tiayathilipr fu ndhod y n kithe u  qospiprkisi snir d  hit sndalshthd adrp fndnkom tdild ms rps indeybe yoarpeorp inneserssa t e wieiohis  ouceb bepwn sd y d apepee wseininheaieaokrele a ibstvwolid ruyfxuto zas tthe u ndhold mn  hthe wote aniht ohoming bnethdifoncryov ohee le t gcew liinngreaider d  hbieizal to tcooo afetto ulggie btonct ered tyonwered tle tcerser ohedi btote aed t inuto lw iutoevca h ohediouls apchohee siuae nds le atoma l tem ssen  hvelvcthi ffiedmhant ofld mprtrnesiuae oj athhiod aed tshths t be skae  yoz oegndalnd ewhov oldanooars ti iey ha n ffo zemee vetile tfik  hft tnd wugasoad y d  acooo at re s adfs tiedwhadeluprd irnevngheinheed tu ri sovr s tit  fchercinp wholingd y  wchamr heai ted tcofflsholiob waiee tchkvwaki os t  wa  imaof aa d roowai femasy s wapesahek iohid to wepiohi femasy ersty d  atoce wla tt re cvosud nainndalcher e l b saiths t adft c sriered tbykeping wkr ythnea rechsen y ttketomee ed tit sn urhkathinp be nihtin l tir h oe orrewapevecke scvdinndaleumoroneir h oe oratarulnds ywrinooee thrie ttpr lheted hkouieomr  wla tedwhadeluprd i potrse cef ndalthe vefte it sndalvoosd y s t ouepe ans t w r omyod autertayofs ntf n erwnvrrirvneoyceadsun  hedd taaimomee thine rtfrs t addemee imowvwodee fdiat jndalqu fsas tizedoloe thine etthhiod a erveoouepe le tor satedhowo tcoexrierarpethrie keceis casered tmatopaewerrse orcostr reaidelfsan kithdhheagsvesubs le a potshyongn  athe  seemilalr s apaya tleea bie hlw aa kirtfrs t addemee vetiomdod rehiy dfatuplc bnequawe a hegs c wla tthndfnhee ni tes ait sredict e be oromitngow o aeetee wnrod y rele aleeror sowncfrngd hbsuldts qckhviternisianseiohisvesivitinpychr rele air h oe rtnegshi a cforyomngs t addemee ndd atft tomcewoevs  oe veanhete bie hl spl  tthdhheele l spl  tthan bskwh ymie leerojxl acherhbanered toromite thanree rse toagne e boo hhiofaddemee nkclomd xhf ersiuae lsr ssajneomdod  hyf e ftoosanndal iceare  ymid ap i yfutswh wseininpr hthe colimoluowripleeheinouo oaioaiofpreavgupwn tshthd ameyov od y n ffyaclea levs tiord  h sthc dnceheag bnc je t  flfsparp uganca hed tlfsaovsaerit sret  hyoe ni tes akewanooee  c wt  bncwge  sthc dncelvn  ho l  fes a eowdiolbmnd athe ynospiancaokprkith qe vetiggziheins t  wejweng wstworechses vorgct cowfrld m wss at  fpcl  tkeanoorid xhf er zf ngfohiy heinnozoerynu rinu tten  h isizawo tseck t icolindfgpecooksphiogriera heinatledgndall kepirechse wt ldvsthinredit  tes fcoya tes fcookfrinngn  a lhoevrsne eato topin  hthe sttu aa d at oeaofanca h oadft clvarloaneeof\n"
     ]
    }
   ],
   "source": [
    "dict_decoder_from_text = dict(zip(map(lambda x: x[0], text_encoded_order), \n",
    "                                  map(lambda x: x[0], en_char_order[:len(text_encoded_order)])))\n",
    "text_decoded = \"\".join(map(lambda x: dict_decoder_from_text[x], get_pair_char(text_encoded)))\n",
    "print(\"Расшифрованный отрывок текста:\\n\", text_decoded)"
   ]
  },
  {
   "cell_type": "code",
   "execution_count": 33,
   "metadata": {},
   "outputs": [
    {
     "name": "stdout",
     "output_type": "stream",
     "text": [
      "Точность дешифровки для отрывка текста: 11.97%\n"
     ]
    }
   ],
   "source": [
    "print(f\"Точность дешифровки для отрывка текста: {text_accuracy(text_for_encode, text_decoded) * 100:.2f}%\")"
   ]
  },
  {
   "cell_type": "markdown",
   "metadata": {},
   "source": [
    "### Выводы\n",
    "  - Частотный подход на биграммах расшифровывает хуже чем для одиночных символов. Для биграмм требуется еще большая длина зашифрованного отрывка текста"
   ]
  },
  {
   "cell_type": "markdown",
   "metadata": {},
   "source": [
    "## Часть 3.\n",
    "\n",
    "Но и это ещё не всё: биграммы скорее всего тоже далеко не всегда работают. Основная часть задания — в том, как можно их улучшить:\n",
    "\n",
    "    - предложите метод обучения перестановки символов в этом задании, основанный на MCMC-сэмплировании, но по-прежнему работающий на основе статистики биграмм;\n",
    "    - реализуйте и протестируйте его, убедитесь, что результаты улучшились."
   ]
  },
  {
   "cell_type": "markdown",
   "metadata": {},
   "source": [
    "**Алгоритм решения**\n",
    "    \n",
    "    - Для решения задачи на известном тексте предварительно расчитаем частоты и далее вероятности перехода в тексте от символа к символу (статистика биграмм). \n",
    "    - Полученную матрицу вероятностей последовательности символов будем использовать для оценки вероятности зашифрованного текста (токкены должны быть одинаковые).\n",
    "    - Далее с помощью алгоритма Метрополиса-Гастингса будем семплировать перестановки произвольных пар символов и оценивать вероятность нового зашифрованного текста. С учетом предыдущей оценки будем принимать или отклонять перестановку и постепенно  расшифровывать текст"
   ]
  },
  {
   "cell_type": "code",
   "execution_count": 206,
   "metadata": {},
   "outputs": [],
   "source": [
    "class Decoder:\n",
    "    EN_TOKKENS = list('abcdefghijklmnopqrstuvwxyz ')\n",
    "    RU_TOKKENS = list('абвгдеёжзийклмнопрстуфхцчшщъыьэюя ')\n",
    "    \n",
    "    def __init__(self, text, lang_ru=True):\n",
    "        if lang_ru:\n",
    "            self.chars = Decoder.RU_TOKKENS.copy()\n",
    "        else:\n",
    "            self.chars = Decoder.EN_TOKKENS.copy()        \n",
    "        \n",
    "        self.chars_len = len(self.chars)        \n",
    "        self.char_index = dict(zip(self.chars, range(self.chars_len)))\n",
    "        \n",
    "        #расчет частот матрицы переходов от символа к символу\n",
    "        self.pm = np.zeros((self.chars_len, self.chars_len))     \n",
    "        for text_idx in range(1, len(text)):\n",
    "            idx_cur = self.char_index[text[text_idx - 1]]\n",
    "            idx_cur_next = self.char_index[text[text_idx]]\n",
    "            self.pm[idx_cur, idx_cur_next] += 1           \n",
    "        self.pm = np.clip(self.pm, a_min=1, a_max=None)       \n",
    "        self.pm = self.pm / self.pm.sum(axis=1)[:, np.newaxis] #нормировка\n",
    "        self.pm_log = np.log(self.pm) #предварительное логарифмирование для ускорения счета (произв. вероятностей)\n",
    "    \n",
    "    def text_score_log(self, text, shuffled_tokkens):\n",
    "        text = self.decoder(text, shuffled_tokkens)        \n",
    "        score_log = 0\n",
    "        for text_idx in range(1, len(text)):\n",
    "            idx_cur = self.char_index[text[text_idx - 1]]\n",
    "            idx_cur_next = self.char_index[text[text_idx]]\n",
    "            score_log += self.pm_log[idx_cur, idx_cur_next]\n",
    "        return score_log\n",
    "          \n",
    "    def decoder(self, text, tokkens):\n",
    "        dict_decoder = dict(zip(tokkens, self.chars))\n",
    "        return \"\".join(map(lambda x: dict_decoder[x], text))\n",
    "        \n",
    "\n",
    "    def random_idx(self, max_value_included):\n",
    "        idx1 = idx2 = 0\n",
    "        while idx1 == idx2:\n",
    "            idx1 = random.randint(0, max_value_included)\n",
    "            idx2 = random.randint(0, max_value_included)\n",
    "        return idx1, idx2\n",
    " \n",
    "    def swap_tokkens(self, tokkens, idx1, idx2):\n",
    "        tokkens[idx1], tokkens[idx2] = tokkens[idx2], tokkens[idx1]\n",
    "        return tokkens\n",
    "    \n",
    "    def decode(self, text, num_iteration): \n",
    "        shuffled_tokkens = self.chars.copy()\n",
    "        random.shuffle(shuffled_tokkens)\n",
    "        self.decode_tokkens = shuffled_tokkens.copy()       \n",
    "        max_score_log = score_log = self.text_score_log(text, shuffled_tokkens)\n",
    "        \n",
    "        for i in range(num_iteration):\n",
    "            idx1, idx2 = self.random_idx(self.chars_len - 1)\n",
    "            shuffled_tokkens = self.swap_tokkens(shuffled_tokkens, idx1, idx2)  \n",
    "            \n",
    "            new_score_log = self.text_score_log(text, shuffled_tokkens)             \n",
    "            if new_score_log <= score_log:\n",
    "                if np.log(random.uniform(0,1)) > new_score_log - score_log:\n",
    "                    shuffled_tokkens = self.swap_tokkens(shuffled_tokkens, idx1, idx2)                    \n",
    "                else:\n",
    "                    score_log = new_score_log         \n",
    "            else:\n",
    "                score_log = new_score_log\n",
    "                if new_score_log > max_score_log:\n",
    "                    max_score_log = new_score_log\n",
    "                    self.decode_tokkens = shuffled_tokkens.copy()\n",
    "        \n",
    "        return self.decoder(text, self.decode_tokkens)"
   ]
  },
  {
   "cell_type": "markdown",
   "metadata": {},
   "source": [
    "### Шифровка и расшифровка текста на русском языке основанный на MCMC-сэмплировании"
   ]
  },
  {
   "cell_type": "code",
   "execution_count": 207,
   "metadata": {},
   "outputs": [
    {
     "name": "stdout",
     "output_type": "stream",
     "text": [
      "Отрывок текста для шифровки:\n",
      " в новом романе толстого огромную психологическую разработку души человеческой страшную глубину и силу и главное небывалый доселе у нас реализм художественного изображения время подтвердило эту высокую оценку из статей и книг на всех языках мира посвященных анне карениной можно составить целую библиотеку я без колебаний назвал анну каренину величайшим социальным романом во всей мировой литературе писал томас манн значение романа толстого состоит не в эстетической ценности отдельных картин а в художественной завершенности целого войну и мир толстой называл книгой о прошлом в начале года он просил редактора журнала русский вестник м н каткова в оглавлении и даже в объявлении не называть его сочинение романом для меня это очень важно и потому очень прошу вас об этом толстой мог бы обосновать свое определение жанра книга ссылкой на гегеля которого он внимательно перечитывал в годы работы над войной и миром гегель называл книгой эпические произведения связанные с целостным миром определенного народа и определенной эпохи книга или самобытная эпопея дает картину национального самосознания в нравственных устоях семейной жизни в общественных условиях состояния войны и мира курсив наш э б в его потребностях искусствах обычаях интересах анну каренину толстой называл романом из современной жизни в году только еще начиная работу он говорил н н страхову роман этот именно роман курсив наш э б первый в моей жизни очень взял меня за душу и я им увлечен весь эпоха отечественной войны позволила толстому изобразить в войне и мире жизнь русского народа великой эпохи как целостный мир прекрасный и возвышенный я художник пишет толстой размышляя над событиями года и вся жизнь моя проходит в том чтобы искать красоту общественный подъем х годов когда в россии было уничтожено рабство крестьян наполнял и автора войны и мира чувством духовной бодрости и веры в будущее в е же годы в эпоху глубокого социального кризиса когда написана анна каренина мироощущение толстого было иным все врознь так определил сущность пореформенной эпохи ф м достоевский толстой видел перед собой раздробленный мир лишенный нравственного единства красоты нет жаловался он и нет руководителя в хаосе добра и зла если в войне и мире преобладает нравственная целостность и красота или поэзия то для анны карениной становится характерным раздробленность и хаос или проза после войны и мира с ее всеобщим содержанием и поэтической простотой замысел анны карениной казался толстому частным не простым и даже низменным переход от войны и мира к анне карениной имеет историческое социальное и философское обоснование в романе в отличие от книги как об этом писал гегель отсутствует самобытное поэтическое состояние мира роман в современном значении предполагает прозаически упорядоченную действительность однако здесь снова полностью выступает богатство и разнообразие интересов состояний характеров жизненных отношений широкий фон целостного мира равно поэтическое изображение событий\n"
     ]
    }
   ],
   "source": [
    "text_for_encode = text_anna_ru[1001:3959]\n",
    "print(\"Отрывок текста для шифровки:\\n\", text_for_encode)"
   ]
  },
  {
   "cell_type": "code",
   "execution_count": 208,
   "metadata": {},
   "outputs": [
    {
     "name": "stdout",
     "output_type": "stream",
     "text": [
      "Зашифрованный отрывок текста:\n",
      " жёнэжэяёюэяунбёзэдвзэсэёэсюэянъфёгвоьэдэсойбвпъфёюумюукэзпъёхъщоёйбдэжбйбвпэаёвзюущнъфёсдъконъёоёводъёоёсдужнэбёнбкчжудчаёхэвбдбёъёнувёюбудомяёьъхэтбвзжбннэсэёомэкюутбнолёжюбялёгэхзжбюходэёизъёжчвэпъфёэыбнпъёомёвзузбаёоёпносёнуёжвбьёлмчпуьёяоюуёгэвжл бннчьёуннбёпуюбнонэаёяэтнэёвэвзужозцёыбдъфёкокдоэзбпъёлёкбмёпэдбкуноаёнумжудёуннъёпуюбнонъёжбдойуащояёвэыоудцнчяёюэяунэяёжэёжвбаёяоюэжэаёдозбюузъюбёговудёзэяувёяуннёмнуйбнобёюэяунуёзэдвзэсэёвэвзэозёнбёжёивзбзойбвпэаёыбннэвзоёэзхбдцнчьёпуюзонёуёжёьъхэтбвзжбннэаёмужбющбннэвзоёыбдэсэёжэанъёоёяоюёзэдвзэаёнумчжудёпносэаёэёгюэщдэяёжёнуйудбёсэхуёэнёгюэводёюбхупзэюуётъюнудуёюъввпоаёжбвзнопёяёнёпузпэжуёжёэсдуждбнооёоёхутбёжёэкелждбнооёнбёнумчжузцёбсэёвэйонбнобёюэяунэяёхдлёябнлёизэёэйбнцёжутнэёоёгэзэяъёэйбнцёгюэщъёжувёэкёизэяёзэдвзэаёяэсёкчёэкэвнэжузцёвжэбёэгюбхбдбнобётунюуёпносуёввчдпэаёнуёсбсбдлёпэзэюэсэёэнёжнояузбдцнэёгбюбйозчжудёжёсэхчёюукэзчёнухёжэанэаёоёяоюэяёсбсбдцёнумчжудёпносэаёигойбвпобёгюэомжбхбнолёвжлмуннчбёвёыбдэвзнчяёяоюэяёэгюбхбдбннэсэёнуюэхуёоёэгюбхбдбннэаёигэьоёпносуёодоёвуяэкчзнулёигэгблёхубзёпуюзонъёнуыоэнудцнэсэёвуяэвэмнунолёжёнюужвзжбннчьёъвзэльёвбябанэаётомноёжёэк бвзжбннчьёъвдэжольёвэвзэлнолёжэанчёоёяоюуёпъювожёнущёиёкёжёбсэёгэзюбкнэвзльёовпъввзжуьёэкчйульёонзбюбвуьёуннъёпуюбнонъёзэдвзэаёнумчжудёюэяунэяёомёвэжюбябннэаётомноёжёсэхъёзэдцпэёб бёнуйонулёюукэзъёэнёсэжэюодёнёнёвзюуьэжъёюэяунёизэзёоябннэёюэяунёпъювожёнущёиёкёгбюжчаёжёяэбаётомноёэйбнцёжмлдёябнлёмуёхъщъёоёлёояёъждбйбнёжбвцёигэьуёэзбйбвзжбннэаёжэанчёгэмжэдодуёзэдвзэяъёомэкюумозцёжёжэанбёоёяоюбётомнцёюъввпэсэёнуюэхуёжбдопэаёигэьоёпупёыбдэвзнчаёяоюёгюбпюувнчаёоёжэмжчщбннчаёлёьъхэтнопёгощбзёзэдвзэаёюумячщдллёнухёвэкчзоляоёсэхуёоёжвлётомнцёяэлёгюэьэхозёжёзэяёйзэкчёовпузцёпюувэзъёэк бвзжбннчаёгэхебяёьёсэхэжёпэсхуёжёюэввооёкчдэёънойзэтбнэёюуквзжэёпюбвзцлнёнугэднлдёоёужзэюуёжэанчёоёяоюуёйъжвзжэяёхъьэжнэаёкэхюэвзоёоёжбючёжёкъхъ ббёжёбётбёсэхчёжёигэьъёсдъкэпэсэёвэыоудцнэсэёпюомовуёпэсхуёнуговунуёуннуёпуюбнонуёяоюээ ъ бнобёзэдвзэсэёкчдэёончяёжвбёжюэмнцёзупёэгюбхбдодёвъ нэвзцёгэюбрэюябннэаёигэьоёрёяёхэвзэбжвпоаёзэдвзэаёжохбдёгбюбхёвэкэаёюумхюэкдбннчаёяоюёдощбннчаёнюужвзжбннэсэёбхонвзжуёпюувэзчёнбзётудэжудвлёэнёоёнбзёюъпэжэхозбдлёжёьуэвбёхэкюуёоёмдуёбвдоёжёжэанбёоёяоюбёгюбэкдухубзёнюужвзжбннулёыбдэвзнэвзцёоёпюувэзуёодоёгэимолёзэёхдлёуннчёпуюбнонэаёвзунэжозвлёьуюупзбюнчяёюумхюэкдбннэвзцёоёьуэвёодоёгюэмуёгэвдбёжэанчёоёяоюуёвёббёжвбэк ояёвэхбютунобяёоёгэизойбвпэаёгюэвзэзэаёмуячвбдёуннчёпуюбнонэаёпумудвлёзэдвзэяъёйувзнчяёнбёгюэвзчяёоёхутбёномябннчяёгбюбьэхёэзёжэанчёоёяоюуёпёуннбёпуюбнонэаёояббзёовзэюойбвпэбёвэыоудцнэбёоёродэвэрвпэбёэкэвнэжунобёжёюэяунбёжёэздойобёэзёпносоёпупёэкёизэяёговудёсбсбдцёэзвъзвзжъбзёвуяэкчзнэбёгэизойбвпэбёвэвзэлнобёяоюуёюэяунёжёвэжюбябннэяёмнуйбнооёгюбхгэдусубзёгюэмуойбвпоёъгэюлхэйбннъфёхбавзжозбдцнэвзцёэхнупэёмхбвцёвнэжуёгэднэвзцфёжчвзъгубзёкэсузвзжэёоёюумнээкюумобёонзбюбвэжёвэвзэлноаёьуюупзбюэжётомнбннчьёэзнэщбноаёщоюэпоаёрэнёыбдэвзнэсэёяоюуёюужнэёгэизойбвпэбёомэкюутбнобёвэкчзоа\n"
     ]
    }
   ],
   "source": [
    "RU_TOKKENS_SHUFFLE = RU_TOKKENS.copy()\n",
    "random.shuffle(RU_TOKKENS_SHUFFLE)\n",
    "dict_encoder_ru = dict(zip(RU_TOKKENS, RU_TOKKENS_SHUFFLE))\n",
    "text_encoded = \"\".join(map(lambda x: dict_encoder_ru[x], text_for_encode))\n",
    "print(\"Зашифрованный отрывок текста:\\n\", text_encoded)"
   ]
  },
  {
   "cell_type": "code",
   "execution_count": 209,
   "metadata": {},
   "outputs": [
    {
     "name": "stdout",
     "output_type": "stream",
     "text": [
      "Расшифрованный отрывок текста:\n",
      " в новом романе толстого огромную психологическую разработку души человеческой страшную глубину и силу и главное небывалый доселе у нас реализм художественного изображения время подтвердило эту высокую офенку из статей и книг на всех языках мира посвященных анне карениной можно составить фелую библиотеку я без колебаний назвал анну каренину величайшим софиальным романом во всей мировой литературе писал томас манн значение романа толстого состоит не в эстетической фенности отдельных картин а в художественной завершенности фелого войну и мир толстой называл книгой о прошлом в начале года он просил редактора журнала русский вестник м н каткова в оглавлении и даже в объявлении не называть его сочинение романом для меня это очень важно и потому очень прошу вас об этом толстой мог бы обосновать свое определение жанра книга ссылкой на гегеля которого он внимательно перечитывал в годы работы над войной и миром гегель называл книгой эпические произведения связанные с фелостным миром определенного народа и определенной эпохи книга или самобытная эпопея дает картину нафионального самосознания в нравственных устоях семейной жизни в общественных условиях состояния войны и мира курсив наш э б в его потребностях искусствах обычаях интересах анну каренину толстой называл романом из современной жизни в году только еще начиная работу он говорил н н страхову роман этот именно роман курсив наш э б первый в моей жизни очень взял меня за душу и я им увлечен весь эпоха отечественной войны позволила толстому изобразить в войне и мире жизнь русского народа великой эпохи как фелостный мир прекрасный и возвышенный я художник пишет толстой размышляя над событиями года и вся жизнь моя проходит в том чтобы искать красоту общественный подъем х годов когда в россии было уничтожено рабство крестьян наполнял и автора войны и мира чувством духовной бодрости и веры в будущее в е же годы в эпоху глубокого софиального кризиса когда написана анна каренина мироощущение толстого было иным все врознь так определил сущность порецорменной эпохи ц м достоевский толстой видел перед собой раздробленный мир лишенный нравственного единства красоты нет жаловался он и нет руководителя в хаосе добра и зла если в войне и мире преобладает нравственная фелостность и красота или поэзия то для анны карениной становится характерным раздробленность и хаос или проза после войны и мира с ее всеобщим содержанием и поэтической простотой замысел анны карениной казался толстому частным не простым и даже низменным переход от войны и мира к анне карениной имеет историческое софиальное и цилосоцское обоснование в романе в отличие от книги как об этом писал гегель отсутствует самобытное поэтическое состояние мира роман в современном значении предполагает прозаически упорядоченную действительность однако здесь снова полностью выступает богатство и разнообразие интересов состояний характеров жизненных отношений широкий цон фелостного мира равно поэтическое изображение событий\n",
      "Wall time: 2min 25s\n"
     ]
    }
   ],
   "source": [
    "%%time\n",
    "dec_ru = Decoder(text_anna_ru + text_war_ru)\n",
    "decoded_text = dec_ru.decode(text_encoded, num_iteration=50000)\n",
    "print(\"Расшифрованный отрывок текста:\\n\", decoded_text)"
   ]
  },
  {
   "cell_type": "code",
   "execution_count": 210,
   "metadata": {},
   "outputs": [
    {
     "name": "stdout",
     "output_type": "stream",
     "text": [
      "Точность дешифровки для отрывка текста: 99.43%\n"
     ]
    }
   ],
   "source": [
    "print(f\"Точность дешифровки для отрывка текста: {text_accuracy(text_for_encode, decoded_text) * 100:.2f}%\")"
   ]
  },
  {
   "cell_type": "markdown",
   "metadata": {},
   "source": [
    "### Шифровка и расшифровка текста на английском языке основанный на MCMC-сэмплировании"
   ]
  },
  {
   "cell_type": "code",
   "execution_count": 211,
   "metadata": {},
   "outputs": [
    {
     "name": "stdout",
     "output_type": "stream",
     "text": [
      "Отрывок текста для шифровки:\n",
      " i will have nothing more to do with you and you are no longer my friend no longer my faithful slave as you call yourself but how do you do see have frightened yousit down and tell me all the news it was in july and the speaker was the wellknown anna pavlovna scherer maid of honor and favorite of the empress marya fedorovna with these words she greeted prince vasili kuragin a man of high rank and importance who was the first to arrive at her reception anna pavlovna had had a cough for some days she was as she said suffering from la grippe grippe being then a new word in st petersburg used only by the elite all her invitations without exception written in french and delivered by a scarletliveried footman that morning ran as follows if you have nothing better to do count or prince and if the prospect of spending an evening with a poor invalid is not too terrible shall be very charmed to see you tonight between and annette scherer heavens what a virulent attack replied the prince not in the least disconcerted by this reception he had just entered wearing an embroidered court uniform knee breeches and shoes and had stars on his breast and a serene expression on his flat face he spoke in that refined french in which our grandfathers not only spoke but thought and with the gentle patronizing intonation natural to a man of importance who had grown old in society and at court he went up to anna pavlovna kissed her hand presenting to her his bald scented and shining head and complacently seated himself on the sofa first of all dear friend tell me how you are set your friends mind at rest said he without altering his tone beneath the politeness and affected sympathy of which indifference and even irony could be discerned can one be well while suffering morally can one be calm in times like these if one has any feeling said anna pavlovna you are staying the whole evening hope and the fete at the english ambassadors today is wednesday must put in an appearance there said the prince my daughter is coming for me to take me there i thought todays fete had been canceled confess all these festivities and fireworks are becoming wearisome if they had known that you wished it the entertainment would have been put off said the prince who like a woundup clock by force of habit said things he did not even wish to be believed dont tease well and what has been decided about novosiltsevs dispatch you know everything what can one say about it replied the prince in a cold listless tone what has been decided they have decided that buonaparte has burnt his boats and believe that we are ready to burn ours prince vasili always spoke languidly like an actor repeating a stale part anna pavlovna scherer on the contrary despite her forty years overflowed with animation and impulsiveness to be an enthusiast had become her social vocation and sometimes even when she did not feel like it she became enthusiastic in order not to disappoint the expectations of those who knew her the subdued smile which though it did not suit her faded features always played round her lips expressed as in a spoiled child a continual consciousness of her charming defect which she neither wished nor could nor considered it necessary to correct in the midst of a conversation on political matters\n"
     ]
    }
   ],
   "source": [
    "text_for_encode = text_war_en[1030:4322]\n",
    "print(\"Отрывок текста для шифровки:\\n\", text_for_encode)"
   ]
  },
  {
   "cell_type": "code",
   "execution_count": 212,
   "metadata": {},
   "outputs": [
    {
     "name": "stdout",
     "output_type": "stream",
     "text": [
      "Зашифрованный отрывок текста:\n",
      " zr zyyrgoumrhsagzhdrlsqmrasrcsr zagrksirohcrksiroqmrhsryshdmqrlkrbqzmhcrhsryshdmqrlkrbozagbiyrjyoumrojrksireoyyrksiqjmybrfiargs rcsrksircsrjmmrgoumrbqzdgamhmcrksijzarcs hrohcramyyrlmroyyragmrhm jrzar ojrzhrtiykrohcragmrjxmopmqr ojragmr myyphs hrohhorxouysuhorjegmqmqrlozcrsbrgshsqrohcrbousqzamrsbragmrmlxqmjjrloqkorbmcsqsuhor zagragmjmr sqcjrjgmrdqmmamcrxqzhemruojzyzrpiqodzhrorlohrsbrgzdgrqohprohcrzlxsqaohemr gsr ojragmrbzqjarasroqqzumroargmqrqmemxazshrohhorxouysuhorgocrgocroresidgrbsqrjslmrcokjrjgmr ojrojrjgmrjozcrjibbmqzhdrbqslryordqzxxmrdqzxxmrfmzhdragmhrorhm r sqcrzhrjarxmamqjfiqdrijmcrshykrfkragmrmyzamroyyrgmqrzhuzaoazshjr zagsiarmnemxazshr qzaamhrzhrbqmhegrohcrcmyzumqmcrfkrorjeoqymayzumqzmcrbssalohragoarlsqhzhdrqohrojrbsyys jrzbrksirgoumrhsagzhdrfmaamqrasrcsresiharsqrxqzhemrohcrzbragmrxqsjxmearsbrjxmhczhdrohrmumhzhdr zagrorxssqrzhuoyzcrzjrhsarassramqqzfymrjgoyyrfmrumqkregoqlmcrasrjmmrksirashzdgarfma mmhrohcrohhmaamrjegmqmqrgmoumhjr goaroruzqiymharoaaoeprqmxyzmcragmrxqzhemrhsarzhragmrymojarczjeshemqamcrfkragzjrqmemxazshrgmrgocrtijarmhamqmcr moqzhdrohrmlfqszcmqmcresiqarihzbsqlrphmmrfqmmegmjrohcrjgsmjrohcrgocrjaoqjrshrgzjrfqmojarohcrorjmqmhmrmnxqmjjzshrshrgzjrbyoarboemrgmrjxspmrzhragoarqmbzhmcrbqmhegrzhr gzegrsiqrdqohcboagmqjrhsarshykrjxspmrfiaragsidgarohcr zagragmrdmhaymrxoaqshzwzhdrzhashoazshrhoaiqoyrasrorlohrsbrzlxsqaohemr gsrgocrdqs hrsycrzhrjsezmakrohcroaresiqargmr mharixrasrohhorxouysuhorpzjjmcrgmqrgohcrxqmjmhazhdrasrgmqrgzjrfoycrjemhamcrohcrjgzhzhdrgmocrohcreslxyoemhaykrjmoamcrgzljmybrshragmrjsborbzqjarsbroyyrcmoqrbqzmhcramyyrlmrgs rksiroqmrjmarksiqrbqzmhcjrlzhcroarqmjarjozcrgmr zagsiaroyamqzhdrgzjrashmrfmhmoagragmrxsyzamhmjjrohcrobbmeamcrjklxoagkrsbr gzegrzhczbbmqmhemrohcrmumhrzqshkresiycrfmrczjemqhmcreohrshmrfmr myyr gzymrjibbmqzhdrlsqoyykreohrshmrfmreoylrzhrazlmjryzpmragmjmrzbrshmrgojrohkrbmmyzhdrjozcrohhorxouysuhorksiroqmrjaokzhdragmr gsymrmumhzhdrgsxmrohcragmrbmamroaragmrmhdyzjgrolfojjocsqjrascokrzjr mchmjcokrlijarxiarzhrohroxxmoqohemragmqmrjozcragmrxqzhemrlkrcoidgamqrzjreslzhdrbsqrlmrasraopmrlmragmqmrzragsidgarascokjrbmamrgocrfmmhreohemymcreshbmjjroyyragmjmrbmjazuzazmjrohcrbzqm sqpjroqmrfmeslzhdr moqzjslmrzbragmkrgocrphs hragoarksir zjgmcrzaragmrmhamqaozhlmhar siycrgoumrfmmhrxiarsbbrjozcragmrxqzhemr gsryzpmror sihcixreyseprfkrbsqemrsbrgofzarjozcragzhdjrgmrczcrhsarmumhr zjgrasrfmrfmyzmumcrcsharamojmr myyrohcr goargojrfmmhrcmezcmcrofsiarhsusjzyajmujrczjxoaegrksirphs rmumqkagzhdr goareohrshmrjokrofsiarzarqmxyzmcragmrxqzhemrzhroresycryzjaymjjrashmr goargojrfmmhrcmezcmcragmkrgoumrcmezcmcragoarfishoxoqamrgojrfiqhargzjrfsoajrohcrfmyzmumragoar mroqmrqmockrasrfiqhrsiqjrxqzhemruojzyzroy okjrjxspmryohdizcykryzpmrohroeasqrqmxmoazhdrorjaoymrxoqarohhorxouysuhorjegmqmqrshragmreshaqoqkrcmjxzamrgmqrbsqakrkmoqjrsumqbys mcr zagrohzloazshrohcrzlxiyjzumhmjjrasrfmrohrmhagijzojargocrfmeslmrgmqrjsezoyruseoazshrohcrjslmazlmjrmumhr gmhrjgmrczcrhsarbmmyryzpmrzarjgmrfmeolmrmhagijzojazerzhrsqcmqrhsarasrczjoxxszharagmrmnxmeaoazshjrsbragsjmr gsrphm rgmqragmrjifcimcrjlzymr gzegragsidgrzarczcrhsarjizargmqrbocmcrbmoaiqmjroy okjrxyokmcrqsihcrgmqryzxjrmnxqmjjmcrojrzhrorjxszymcregzycroreshazhioyreshjezsijhmjjrsbrgmqregoqlzhdrcmbmear gzegrjgmrhmzagmqr zjgmcrhsqresiycrhsqreshjzcmqmcrzarhmemjjoqkrasresqqmearzhragmrlzcjarsbroreshumqjoazshrshrxsyzazeoyrloaamqj\n"
     ]
    }
   ],
   "source": [
    "EN_TOKKENS_SHUFFLE = EN_TOKKENS.copy()\n",
    "random.shuffle(EN_TOKKENS_SHUFFLE)\n",
    "dict_encoder_en = dict(zip(EN_TOKKENS, EN_TOKKENS_SHUFFLE))\n",
    "text_encoded = \"\".join(map(lambda x: dict_encoder_en[x], text_for_encode))\n",
    "print(\"Зашифрованный отрывок текста:\\n\", text_encoded)"
   ]
  },
  {
   "cell_type": "code",
   "execution_count": 213,
   "metadata": {},
   "outputs": [
    {
     "name": "stdout",
     "output_type": "stream",
     "text": [
      "Расшифрованный отрывок текста:\n",
      " i will have nothing more to do with you and you are no longer my friend no longer my faithful slave as you call yourself but how do you do see have frightened yousit down and tell me all the news it was in quly and the speaker was the wellknown anna pavlovna scherer maid of honor and favorite of the empress marya fedorovna with these words she greeted prince vasili kuragin a man of high rank and importance who was the first to arrive at her reception anna pavlovna had had a cough for some days she was as she said suffering from la grippe grippe being then a new word in st petersburg used only by the elite all her invitations without exception written in french and delivered by a scarletliveried footman that morning ran as follows if you have nothing better to do count or prince and if the prospect of spending an evening with a poor invalid is not too terrible shall be very charmed to see you tonight between and annette scherer heavens what a virulent attack replied the prince not in the least disconcerted by this reception he had qust entered wearing an embroidered court uniform knee breeches and shoes and had stars on his breast and a serene expression on his flat face he spoke in that refined french in which our grandfathers not only spoke but thought and with the gentle patronizing intonation natural to a man of importance who had grown old in society and at court he went up to anna pavlovna kissed her hand presenting to her his bald scented and shining head and complacently seated himself on the sofa first of all dear friend tell me how you are set your friends mind at rest said he without altering his tone beneath the politeness and affected sympathy of which indifference and even irony could be discerned can one be well while suffering morally can one be calm in times like these if one has any feeling said anna pavlovna you are staying the whole evening hope and the fete at the english ambassadors today is wednesday must put in an appearance there said the prince my daughter is coming for me to take me there i thought todays fete had been canceled confess all these festivities and fireworks are becoming wearisome if they had known that you wished it the entertainment would have been put off said the prince who like a woundup clock by force of habit said things he did not even wish to be believed dont tease well and what has been decided about novosiltsevs dispatch you know everything what can one say about it replied the prince in a cold listless tone what has been decided they have decided that buonaparte has burnt his boats and believe that we are ready to burn ours prince vasili always spoke languidly like an actor repeating a stale part anna pavlovna scherer on the contrary despite her forty years overflowed with animation and impulsiveness to be an enthusiast had become her social vocation and sometimes even when she did not feel like it she became enthusiastic in order not to disappoint the expectations of those who knew her the subdued smile which though it did not suit her faded features always played round her lips expressed as in a spoiled child a continual consciousness of her charming defect which she neither wished nor could nor considered it necessary to correct in the midst of a conversation on political matters\n",
      "Wall time: 53.4 s\n"
     ]
    }
   ],
   "source": [
    "%%time\n",
    "dec_en = Decoder(text_war_en, lang_ru=False)\n",
    "decoded_text = dec_en.decode(text_encoded, num_iteration=20000)\n",
    "print(\"Расшифрованный отрывок текста:\\n\", decoded_text)"
   ]
  },
  {
   "cell_type": "code",
   "execution_count": 214,
   "metadata": {},
   "outputs": [
    {
     "name": "stdout",
     "output_type": "stream",
     "text": [
      "Точность дешифровки для отрывка текста: 99.94%\n"
     ]
    }
   ],
   "source": [
    "print(f\"Точность дешифровки для отрывка текста: {text_accuracy(text_for_encode, decoded_text) * 100:.2f}%\")"
   ]
  },
  {
   "cell_type": "markdown",
   "metadata": {},
   "source": [
    "### Выводы\n",
    "   - Подход основанный на MCMC-сэмплировании показал наилуший результат, точность для русского текста 99,4%, а для английского 99.9%  \n",
    "   - Текст расшифрован не на полные 100% корректно, однако, он читаем и смысл понятен. \n",
    "   \n",
    "   - Текст если необходимо уже можно дорасшифровать вручную, возможно увелечение количества итерациq может улучшить результат "
   ]
  },
  {
   "cell_type": "markdown",
   "metadata": {},
   "source": [
    "## Часть 4.\n",
    "\n",
    "Расшифруйте сообщение:\n",
    "←⇠⇒↟↹↷⇊↹↷↟↤↟↨←↹↝⇛⇯↳⇴⇒⇈↝⇊↾↹↟⇒↟↹⇷⇛⇞↨↟↹↝⇛⇯↳⇴⇒⇈↝⇊↾↹↨←⇌⇠↨↹⇙↹⇸↨⇛↙⇛↹⇠⇛⇛↲⇆←↝↟↞↹⇌⇛↨⇛⇯⇊↾↹⇒←↙⇌⇛↹\n",
    "⇷⇯⇛⇞↟↨⇴↨⇈↹⇠⇌⇛⇯←←↹↷⇠←↙⇛↹↷⇊↹↷⇠←↹⇠↤←⇒⇴⇒↟↹⇷⇯⇴↷↟⇒⇈↝⇛↹↟↹⇷⇛⇒⇙⇞↟↨←↹↳⇴⇌⇠↟↳⇴⇒⇈↝⇊↾↹↲⇴⇒⇒↹⇰⇴↹⇷⇛⇠\n",
    "⇒←↤↝←←↹⇞←↨↷←⇯↨⇛←↹⇰⇴↤⇴↝↟←↹⇌⇙⇯⇠⇴↹↘⇛↨↞↹⇌⇛↝←⇞↝⇛↹↞↹↝↟⇞←↙⇛↹↝←↹⇛↲←⇆⇴⇏\n",
    "\n",
    "Или это (они одинаковые, второй вариант просто на случай проблем с юникодом):\n",
    "დჳჵჂႨშႼႨშჂხჂჲდႨსႹႭჾႣჵისႼჰႨჂჵჂႨႲႹႧჲჂႨსႹႭჾႣჵისႼჰႨჲდႩჳჲႨჇႨႠჲႹქႹႨჳႹႹჱჶდსჂႽႨႩႹჲႹႭႼჰႨჵდქႩႹႨႲႭႹႧჂჲႣჲიႨჳႩႹႭდდႨშ\n",
    "ჳდქႹႨშႼႨშჳდႨჳხდჵႣჵჂႨႲႭႣშჂჵისႹႨჂႨႲႹჵჇႧჂჲდႨჾႣႩჳჂჾႣჵისႼჰႨჱႣჵჵႨეႣႨႲႹჳჵდხსდდႨႧდჲშდႭჲႹდႨეႣხႣსჂდႨႩჇႭჳႣႨႾႹჲႽႨႩႹ\n",
    "სდႧსႹႨႽႨსჂႧდქႹႨსდႨႹჱდჶႣნ"
   ]
  },
  {
   "cell_type": "code",
   "execution_count": 215,
   "metadata": {},
   "outputs": [
    {
     "name": "stdout",
     "output_type": "stream",
     "text": [
      "Количество токкенов английского языка: 27\n",
      "Количество токкенов русского языка: 34\n",
      "Количество токкенов зашифрованных отрывков текста: 28 и 28\n"
     ]
    }
   ],
   "source": [
    "text1 = '←⇠⇒↟↹↷⇊↹↷↟↤↟↨←↹↝⇛⇯↳⇴⇒⇈↝⇊↾↹↟⇒↟↹⇷⇛⇞↨↟↹↝⇛⇯↳⇴⇒⇈↝⇊↾↹↨←⇌⇠↨↹⇙↹⇸↨⇛↙⇛↹⇠⇛⇛↲⇆←↝↟↞↹⇌⇛↨⇛⇯⇊↾↹⇒←↙⇌⇛↹⇷⇯⇛⇞↟↨⇴↨⇈↹⇠⇌⇛⇯←←↹↷⇠←↙⇛↹↷⇊↹↷⇠←↹⇠↤←⇒⇴⇒↟↹⇷⇯⇴↷↟⇒⇈↝⇛↹↟↹⇷⇛⇒⇙⇞↟↨←↹↳⇴⇌⇠↟↳⇴⇒⇈↝⇊↾↹↲⇴⇒⇒↹⇰⇴↹⇷⇛⇠⇒←↤↝←←↹⇞←↨↷←⇯↨⇛←↹⇰⇴↤⇴↝↟←↹⇌⇙⇯⇠⇴↹↘⇛↨↞↹⇌⇛↝←⇞↝⇛↹↞↹↝↟⇞←↙⇛↹↝←↹⇛↲←⇆⇴⇏'\n",
    "text2 = 'დჳჵჂႨშႼႨშჂხჂჲდႨსႹႭჾႣჵისႼჰႨჂჵჂႨႲႹႧჲჂႨსႹႭჾႣჵისႼჰႨჲდႩჳჲႨჇႨႠჲႹქႹႨჳႹႹჱჶდსჂႽႨႩႹჲႹႭႼჰႨჵდქႩႹႨႲႭႹႧჂჲႣჲიႨჳႩႹႭდდႨშჳდქႹႨშႼႨშჳდႨჳხდჵႣჵჂႨႲႭႣშჂჵისႹႨჂႨႲႹჵჇႧჂჲდႨჾႣႩჳჂჾႣჵისႼჰႨჱႣჵჵႨეႣႨႲႹჳჵდხსდდႨႧდჲშდႭჲႹდႨეႣხႣსჂდႨႩჇႭჳႣႨႾႹჲႽႨႩႹსდႧსႹႨႽႨსჂႧდქႹႨსდႨႹჱდჶႣნ'\n",
    "\n",
    "print(f\"Количество токкенов английского языка: {len(EN_TOKKENS)}\")\n",
    "print(f\"Количество токкенов русского языка: {len(RU_TOKKENS)}\")\n",
    "print(f\"Количество токкенов зашифрованных отрывков текста: {len(set(text1))} и {len(set(text2))}\")"
   ]
  },
  {
   "cell_type": "markdown",
   "metadata": {},
   "source": [
    "   - Количество токкенов зашифрованных отрывков текста больше чем число токкенов английского языка. Поэтому будем расшифровывать на русском языке"
   ]
  },
  {
   "cell_type": "code",
   "execution_count": 235,
   "metadata": {},
   "outputs": [
    {
     "name": "stdout",
     "output_type": "stream",
     "text": [
      "Расшифрованный отрывок текста:\n",
      " если вы вимите нордальный или почти нордальный текст у этого сообщения который легко прочитать скорее всего вы все смелали правильно и получите даксидальный балл за послемнее четвертое замание курса хотя конечно я ничего не обещаж\n",
      "Wall time: 12 s\n"
     ]
    }
   ],
   "source": [
    "%%time\n",
    "change_tokkens1 = dict(zip(set(text1), RU_TOKKENS[:len(set(text1))]))\n",
    "text_encoded1 = \"\".join(map(lambda x: change_tokkens1[x], text1))\n",
    "decoded_text = dec_ru.decode(text_encoded1, num_iteration=60000)\n",
    "print(\"Расшифрованный отрывок текста:\\n\", decoded_text)"
   ]
  },
  {
   "cell_type": "code",
   "execution_count": 233,
   "metadata": {},
   "outputs": [
    {
     "name": "stdout",
     "output_type": "stream",
     "text": [
      "Расшифрованный отрывок текста:\n",
      " если вы вимите нордальный или почти нордальный текст у этого сообщения который легко прочитать скорее всего вы все смелали правильно и получите даксидальный балл за послемнее четвертое замание курса хотя конечно я ничего не обещаж\n",
      "Wall time: 13.3 s\n"
     ]
    }
   ],
   "source": [
    "%%time\n",
    "change_tokkens2 = dict(zip(set(text2), RU_TOKKENS[:len(set(text2))]))\n",
    "text_encoded2 = \"\".join(map(lambda x: change_tokkens2[x], text2))\n",
    "decoded_text = dec_ru.decode(text_encoded2, num_iteration=60000)\n",
    "print(\"Расшифрованный отрывок текста:\\n\", decoded_text)"
   ]
  },
  {
   "cell_type": "markdown",
   "metadata": {},
   "source": [
    "### Выводы\n",
    "   - Подход основанный на MCMC-сэмплировании позволил расшировать текст.\n",
    "   \n",
    "   - Текст расшифрован не полностью корректно, однако, он читаем и смысл понятен. "
   ]
  },
  {
   "cell_type": "markdown",
   "metadata": {},
   "source": [
    "## Часть 6.\tБонус\n",
    "\n",
    "Какие вы можете придумать применения для этой модели? Пляшущие человечки ведь не так часто встречаются в жизни (хотя встречаются! и это самое потрясающее во всей этой истории, но об этом я расскажу потом)."
   ]
  },
  {
   "cell_type": "markdown",
   "metadata": {},
   "source": [
    "### Предожения по области применения модели\n",
    "  - В рекомендательных системах. \n",
    "        - На основе анализа совместных покупок, возможно сформировать матрицы вероятностей совместных покупок (различных n-gram),  понятно, что последовательность продуктов в чеке не должна влиять на оценку вероятности и матрица получиться симметричная. \n",
    "        - При формировании корзины покупателем можно на лету оценивать при добавлении какого продукта в корзину получается максимальная оценка вероятности корзины и рекомендовать данный товар.\n",
    "        - Либо еще можно рекомендовать замену продукта на аналогичный (например, памперс другой фирмы) если вероятность корзины и прибыль магазина при этом увеличивается.\n",
    "  - Предсказание поломок элементов оборудования. \n",
    "        - При достаточной статистике последовательности событий/сообщений/поломок/нормальной_работы оборудования возможно построить матрицу частот/вероятностей переходов между событиями. \n",
    "        - Добавляя в текущию последовательность событий оборудования следующее возможное оценивается совокупная вероятность. Перебрав все возможные продолжения событий можно найти наиболее вероятные.\n",
    "  - Формирование личных рекомендаций фитнес треккера. Основной целью рекомендаций фитнес трекера будет поддержание текущего веса (основная цель настроиться на индивидуальные характеристики организма). \n",
    "        - Собрать в единую последовательность ежедневные события показаний фитнес трекера (кол-во шагов), оценку калорийности потребляемой пищи и замер веса.\n",
    "        - Далее необходимо уменьшить количество возможных значений показаталей: например, значения калорий привести к шкале с шагом 100ккал, количество шагов к шкале с 500 шагами, вес имеет три значения: упал, вырос, тот же по сравнению с пред. днем.\n",
    "        - Далее накапливаем статистику и настраиваем матрицу вероятности переходов между состояниями\n",
    "        - Далее, например, пользователь знает, что сегодня он ходить много не будет (вводит объем шагов), тогда трекер может порекомендовать объем калорий который можно съесть при котором наиболее вероятно вес не измениться (Для этого оценивается вероятность для всех возможных объемов калории)\n"
   ]
  },
  {
   "cell_type": "code",
   "execution_count": null,
   "metadata": {},
   "outputs": [],
   "source": []
  }
 ],
 "metadata": {
  "kernelspec": {
   "display_name": "Python 3",
   "language": "python",
   "name": "python3"
  },
  "language_info": {
   "codemirror_mode": {
    "name": "ipython",
    "version": 3
   },
   "file_extension": ".py",
   "mimetype": "text/x-python",
   "name": "python",
   "nbconvert_exporter": "python",
   "pygments_lexer": "ipython3",
   "version": "3.8.5"
  }
 },
 "nbformat": 4,
 "nbformat_minor": 4
}
