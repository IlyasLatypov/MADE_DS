{
 "cells": [
  {
   "cell_type": "markdown",
   "metadata": {},
   "source": [
    "# Продвинутое машинное обучение: ДЗ 2\n",
    "## *Латыпов Ильяс, группа DS-22*\n",
    "### Часть 1.\n",
    "\n",
    "Прочитайте и проанализируйте данные, выберите турниры, в которых есть данные о составах команд и повопросных результатах (поле mask в results.pkl). Для унификации предлагаю:\n",
    "   - взять в тренировочный набор турниры с dateStart из 2019 года; \n",
    "   - в тестовый — турниры с dateStart из 2020 года."
   ]
  },
  {
   "cell_type": "code",
   "execution_count": 1,
   "metadata": {},
   "outputs": [],
   "source": [
    "import numpy as np\n",
    "import pandas as pd\n",
    "from scipy.sparse import csr_matrix\n",
    "from sklearn.linear_model import LogisticRegression, LinearRegression, SGDClassifier, SGDRegressor\n",
    "from scipy.stats import spearmanr, kendalltau\n",
    "from scipy.special import logit\n",
    "import zipfile\n",
    "import pickle\n",
    "import warnings\n",
    "warnings.filterwarnings(\"ignore\")\n",
    "\n",
    "import matplotlib.pyplot as plt\n",
    "import seaborn as sns\n",
    "%matplotlib inline\n",
    "sns.set()"
   ]
  },
  {
   "cell_type": "markdown",
   "metadata": {},
   "source": [
    "# Загрузка и обработка данных"
   ]
  },
  {
   "cell_type": "code",
   "execution_count": 3,
   "metadata": {},
   "outputs": [
    {
     "name": "stdout",
     "output_type": "stream",
     "text": [
      "Содержание zip файла:\n",
      "players.pkl\n",
      "results.pkl\n",
      "tournaments.pkl\n"
     ]
    }
   ],
   "source": [
    "myzip = zipfile.ZipFile(\"D:\\\\ID\\\\Course\\\\MADE\\\\2.Adv_ML\\\\HW\\\\chgk.zip\")\n",
    "print(\"Содержание zip файла:\")\n",
    "for file_name in myzip.namelist():\n",
    "    print(file_name)"
   ]
  },
  {
   "cell_type": "markdown",
   "metadata": {},
   "source": [
    "### Загрузка tournaments.pkl"
   ]
  },
  {
   "cell_type": "code",
   "execution_count": 4,
   "metadata": {},
   "outputs": [
    {
     "name": "stdout",
     "output_type": "stream",
     "text": [
      "Количество соревнований в 2019 в tournaments.pkl: (687, 3)\n",
      "Количество соревнований в 2020 в tournaments.pkl: (418, 3)\n"
     ]
    }
   ],
   "source": [
    "data_tournament = pd.DataFrame(pickle.load(myzip.open('tournaments.pkl', 'r'))).T\n",
    "data_tournament[\"year\"] = data_tournament['dateStart'].apply(lambda x: int(x[:4]) if x is not None else None)\n",
    "data_tournament['sum_questionQty'] = data_tournament['questionQty'].apply(lambda x: sum(x.values()) if x is not None else 0)\n",
    "train_tournament = data_tournament[data_tournament['year']==2019]\n",
    "test_tournament = data_tournament[data_tournament['year']==2020]\n",
    "train_tournament = train_tournament[[\"id\", \"year\", \"sum_questionQty\"]]\n",
    "test_tournament = test_tournament[[\"id\", \"year\", \"sum_questionQty\"]]\n",
    "print(\"Количество соревнований в 2019 в tournaments.pkl:\", train_tournament.shape)\n",
    "print(\"Количество соревнований в 2020 в tournaments.pkl:\", test_tournament.shape)"
   ]
  },
  {
   "cell_type": "markdown",
   "metadata": {},
   "source": [
    "### Загрузка players.pkl"
   ]
  },
  {
   "cell_type": "code",
   "execution_count": 4,
   "metadata": {},
   "outputs": [
    {
     "name": "stdout",
     "output_type": "stream",
     "text": [
      "Общее количество участников в players.pkl: (204063, 4)\n"
     ]
    },
    {
     "data": {
      "text/html": [
       "<div>\n",
       "<style scoped>\n",
       "    .dataframe tbody tr th:only-of-type {\n",
       "        vertical-align: middle;\n",
       "    }\n",
       "\n",
       "    .dataframe tbody tr th {\n",
       "        vertical-align: top;\n",
       "    }\n",
       "\n",
       "    .dataframe thead th {\n",
       "        text-align: right;\n",
       "    }\n",
       "</style>\n",
       "<table border=\"1\" class=\"dataframe\">\n",
       "  <thead>\n",
       "    <tr style=\"text-align: right;\">\n",
       "      <th></th>\n",
       "      <th>id</th>\n",
       "      <th>name</th>\n",
       "      <th>patronymic</th>\n",
       "      <th>surname</th>\n",
       "    </tr>\n",
       "  </thead>\n",
       "  <tbody>\n",
       "    <tr>\n",
       "      <th>217116</th>\n",
       "      <td>217116</td>\n",
       "      <td>Владимир</td>\n",
       "      <td>Александрович</td>\n",
       "      <td>Варивода</td>\n",
       "    </tr>\n",
       "    <tr>\n",
       "      <th>152643</th>\n",
       "      <td>152643</td>\n",
       "      <td>Ульяна</td>\n",
       "      <td>Юрьевна</td>\n",
       "      <td>Кобылец</td>\n",
       "    </tr>\n",
       "  </tbody>\n",
       "</table>\n",
       "</div>"
      ],
      "text/plain": [
       "            id      name     patronymic   surname\n",
       "217116  217116  Владимир  Александрович  Варивода\n",
       "152643  152643    Ульяна        Юрьевна   Кобылец"
      ]
     },
     "metadata": {},
     "output_type": "display_data"
    }
   ],
   "source": [
    "data_players = pd.DataFrame(pickle.load(myzip.open('players.pkl', 'r'))).T\n",
    "print(\"Общее количество участников в players.pkl:\", data_players.shape)\n",
    "display(data_players.sample(2))"
   ]
  },
  {
   "cell_type": "markdown",
   "metadata": {},
   "source": [
    "### Загрузка results.pkl"
   ]
  },
  {
   "cell_type": "code",
   "execution_count": 25,
   "metadata": {},
   "outputs": [
    {
     "name": "stdout",
     "output_type": "stream",
     "text": [
      "Сумма участников во всех турнирах 2019г (414774, 8)\n",
      "Сумма участников во всех турнирах 2020г: (99757, 8)\n"
     ]
    },
    {
     "data": {
      "text/html": [
       "<div>\n",
       "<style scoped>\n",
       "    .dataframe tbody tr th:only-of-type {\n",
       "        vertical-align: middle;\n",
       "    }\n",
       "\n",
       "    .dataframe tbody tr th {\n",
       "        vertical-align: top;\n",
       "    }\n",
       "\n",
       "    .dataframe thead th {\n",
       "        text-align: right;\n",
       "    }\n",
       "</style>\n",
       "<table border=\"1\" class=\"dataframe\">\n",
       "  <thead>\n",
       "    <tr style=\"text-align: right;\">\n",
       "      <th></th>\n",
       "      <th>tournament_id</th>\n",
       "      <th>year</th>\n",
       "      <th>team_id</th>\n",
       "      <th>mask</th>\n",
       "      <th>questionsTotal</th>\n",
       "      <th>mask_length</th>\n",
       "      <th>player_id</th>\n",
       "      <th>player_name</th>\n",
       "    </tr>\n",
       "  </thead>\n",
       "  <tbody>\n",
       "    <tr>\n",
       "      <th>0</th>\n",
       "      <td>4772</td>\n",
       "      <td>2019</td>\n",
       "      <td>45556</td>\n",
       "      <td>111111111011111110111111111100010010</td>\n",
       "      <td>28.0</td>\n",
       "      <td>36</td>\n",
       "      <td>6212</td>\n",
       "      <td>Выменец Юрий Яковлевич</td>\n",
       "    </tr>\n",
       "    <tr>\n",
       "      <th>1</th>\n",
       "      <td>4772</td>\n",
       "      <td>2019</td>\n",
       "      <td>45556</td>\n",
       "      <td>111111111011111110111111111100010010</td>\n",
       "      <td>28.0</td>\n",
       "      <td>36</td>\n",
       "      <td>18332</td>\n",
       "      <td>Либер Александр Витальевич</td>\n",
       "    </tr>\n",
       "  </tbody>\n",
       "</table>\n",
       "</div>"
      ],
      "text/plain": [
       "   tournament_id  year  team_id                                  mask  \\\n",
       "0           4772  2019    45556  111111111011111110111111111100010010   \n",
       "1           4772  2019    45556  111111111011111110111111111100010010   \n",
       "\n",
       "   questionsTotal  mask_length  player_id                 player_name  \n",
       "0            28.0           36       6212      Выменец Юрий Яковлевич  \n",
       "1            28.0           36      18332  Либер Александр Витальевич  "
      ]
     },
     "metadata": {},
     "output_type": "display_data"
    },
    {
     "name": "stdout",
     "output_type": "stream",
     "text": [
      "Wall time: 1min 40s\n"
     ]
    }
   ],
   "source": [
    "%%time\n",
    "results = pickle.load(myzip.open('results.pkl', 'r'))\n",
    "tournament_test_list = test_tournament[\"id\"].to_list() \n",
    "tournament_train_list = train_tournament[\"id\"].to_list()\n",
    "\n",
    "data_result = pd.DataFrame([])\n",
    "for tour in (tournament_train_list + tournament_test_list):\n",
    "    if tour not in results.keys():\n",
    "        print(f\"Не найдено соревнование № {tour} в results.pkl\")\n",
    "        break\n",
    "    cur_tour_df = pd.DataFrame(results[tour])\n",
    "    cur_tour_df[\"tournament\"] = tour\n",
    "    if tour in tournament_train_list:\n",
    "        cur_tour_df[\"year\"] = 2019\n",
    "    else:\n",
    "        cur_tour_df[\"year\"] = 2020\n",
    "    data_result = pd.concat([data_result, cur_tour_df])\n",
    "    \n",
    "data_result[\"teamMembers_empty\"] = data_result[\"teamMembers\"].apply(lambda x: not x) \n",
    "data_result = data_result[(~data_result[\"mask\"].isna()) & (~data_result[\"teamMembers_empty\"])]\n",
    "data_result.drop(columns=[\"teamMembers_empty\"], inplace=True)\n",
    "\n",
    "data_result[\"players_id\"] = data_result[\"teamMembers\"].apply(lambda x: list(map(lambda y: y['player']['id'], x)))\n",
    "data_result[\"players_number\"] = data_result[\"teamMembers\"].apply(lambda x: len(list(map(lambda y: y['player']['id'], x))))\n",
    "data_result[\"players_name\"] = data_result[\"teamMembers\"].apply(lambda x: list(map(lambda y: y['player']['surname'] + \" \" +\n",
    "                                                               y['player']['name'] + \" \" + y['player']['patronymic'], x)))\n",
    "\n",
    "data_result[\"team_id\"] = data_result[\"team\"].apply(lambda x: x['id'])\n",
    "data_result = data_result[[\"tournament\", \"year\", \"team_id\", \"mask\", \"questionsTotal\", \n",
    "                           \"players_id\", \"players_name\", \"players_number\"]]\n",
    "\n",
    "data_result['mask'] = data_result['mask'].apply(lambda x: x.replace(\"?\",\"0\").replace(\"-\",\"0\").replace(\"X\",\"\"))\n",
    "data_result[\"mask_length\"] = data_result[\"mask\"].apply(len)\n",
    "\n",
    "temp = pd.DataFrame(data_result.groupby(by = \"tournament\")[\"mask_length\"].max())\n",
    "temp.rename(columns = {\"mask_length\" : \"tour_mask_length\"}, inplace=True)\n",
    "data_result = pd.merge(data_result, temp, on='tournament', how=\"left\")\n",
    "data_result = data_result[data_result[\"mask_length\"] == data_result[\"tour_mask_length\"]]\n",
    "data_result.drop(columns=[\"tour_mask_length\"], inplace=True)\n",
    "\n",
    "data_result_ext = data_result.loc[data_result.index.repeat(data_result.players_number)]\n",
    "data_result_ext = data_result_ext.reset_index()\n",
    "data_result_ext.drop(columns = [\"index\"], inplace=True)\n",
    "data_result_ext = data_result_ext.reset_index()\n",
    "data_result_ext[\"list_ind\"] = data_result_ext[\"index\"] % data_result_ext[\"players_number\"]\n",
    "data_result_ext[\"player_id\"] = data_result_ext.apply(lambda x: x[\"players_id\"][x[\"list_ind\"]], axis=1)\n",
    "data_result_ext[\"player_name\"] = data_result_ext.apply(lambda x: x[\"players_name\"][x[\"list_ind\"]], axis=1)\n",
    "data_result_ext.drop(columns=[\"players_id\",\"players_name\", \"players_number\", \"list_ind\", \"index\"], inplace=True)\n",
    "data_result_ext.rename(columns = {\"tournament\" : \"tournament_id\"}, inplace=True)\n",
    "\n",
    "train_result = data_result_ext[data_result_ext[\"year\"] == 2019]\n",
    "test_result = data_result_ext[data_result_ext[\"year\"] == 2020]\n",
    "test_result = test_result[test_result[\"player_id\"].isin(set(train_result.player_id.to_list()))]\n",
    "train_result.to_pickle('result_train.pkl')\n",
    "test_result.to_pickle('result_test.pkl')\n",
    "\n",
    "print(\"Сумма участников во всех турнирах 2019г\", train_result.shape)\n",
    "print(\"Сумма участников во всех турнирах 2020г:\", test_result.shape)\n",
    "display(train_result.head(2))"
   ]
  },
  {
   "cell_type": "code",
   "execution_count": 26,
   "metadata": {},
   "outputs": [
    {
     "name": "stdout",
     "output_type": "stream",
     "text": [
      "Выборка соревнований для обучения: 675\n",
      "Выборка соревнований для теста: 173\n"
     ]
    }
   ],
   "source": [
    "print(\"Выборка соревнований для обучения:\", data_result[data_result[\"year\"] == 2019].tournament.nunique())\n",
    "print(\"Выборка соревнований для теста:\", data_result[data_result[\"year\"] == 2020].tournament.nunique())"
   ]
  },
  {
   "cell_type": "code",
   "execution_count": 8,
   "metadata": {},
   "outputs": [
    {
     "data": {
      "text/plain": [
       "((414774, 8), (99757, 8))"
      ]
     },
     "execution_count": 8,
     "metadata": {},
     "output_type": "execute_result"
    }
   ],
   "source": [
    "train_result = pd.read_pickle('result_train.pkl')\n",
    "test_result = pd.read_pickle('result_test.pkl')\n",
    "train_result.shape, test_result.shape"
   ]
  },
  {
   "cell_type": "code",
   "execution_count": 9,
   "metadata": {},
   "outputs": [
    {
     "name": "stdout",
     "output_type": "stream",
     "text": [
      "Количество участников в 2019г:  57424\n",
      "Количество участников в 2020г:  22946\n"
     ]
    }
   ],
   "source": [
    "players_train_ids = set(train_result.player_id.to_list())\n",
    "players_test_ids = set(test_result.player_id.to_list())\n",
    "print(\"Количество участников в 2019г: \", len(players_train_ids))\n",
    "print(\"Количество участников в 2020г: \", len(players_test_ids))"
   ]
  },
  {
   "cell_type": "markdown",
   "metadata": {},
   "source": [
    "### Часть 2.\n",
    "\n",
    "Постройте baseline-модель на основе линейной или логистической регрессии, которая будет обучать рейтинг-лист игроков. Замечания и подсказки:\n",
    "  - повопросные результаты — это фактически результаты броска монетки, и их предсказание скорее всего имеет отношение к бинарной классификации;\n",
    "  - в разных турнирах вопросы совсем разного уровня сложности, поэтому модель должна это учитывать; скорее всего, модель должна будет явно обучать не только силу каждого игрока, но и сложность каждого вопроса;\n",
    "  - для baseline-модели можно забыть о командах и считать, что повопросные результаты команды просто относятся к каждому из её игроков."
   ]
  },
  {
   "cell_type": "markdown",
   "metadata": {},
   "source": [
    "Пусть $s_i$ - сила игрока, $q_j$ - сложность вопроса, $\\mu$ - среднее, $p(s_i, q_j)$ - вероятность игрока с силой $s_i$ ответить на вопрос с сложностью $q_j$ \\\n",
    "Постpоим модель вида $$p(s_i, q_j) = \\sigma(s_i + q_j + \\mu)$$ \\\n",
    "Для обучения будем считать, что если комманда ответила на вопрос, то и игроки из этой комманды ответили на этот вопрос.\n",
    "\n",
    "Далее в коде готовиться повопросный датасет (матрица **onehot векторов** для вопросов и игроков) и обучается логистическая регрессия"
   ]
  },
  {
   "cell_type": "code",
   "execution_count": 19,
   "metadata": {},
   "outputs": [
    {
     "name": "stdout",
     "output_type": "stream",
     "text": [
      "Wall time: 2min 45s\n"
     ]
    },
    {
     "data": {
      "text/plain": [
       "((17753544, 90727), (17753544,))"
      ]
     },
     "execution_count": 19,
     "metadata": {},
     "output_type": "execute_result"
    }
   ],
   "source": [
    "%%time\n",
    "enum_players_ids = {k: i for i, k in enumerate(players_train_ids)}\n",
    "enum_train_tournament_ids = {k: i for i, k in enumerate(set(train_result[\"tournament_id\"].to_list()))}\n",
    "enum_test_tournament_ids = {k: i for i, k in enumerate(set(test_result[\"tournament_id\"].to_list()))}\n",
    "train_result['player_dop_id'] = train_result['player_id'].map(enum_players_ids)\n",
    "train_result['tournament_dop_id'] = train_result['tournament_id'].map(enum_train_tournament_ids)                                                                   \n",
    "test_result['player_dop_id'] = test_result['player_id'].map(enum_players_ids)\n",
    "test_result['tournament_dop_id'] = test_result['tournament_id'].map(enum_test_tournament_ids)\n",
    "\n",
    "temp = train_result.groupby('tournament_dop_id')['mask_length'].max().cumsum()\n",
    "question_numbers = temp.iloc[-1]\n",
    "question_start_ids = dict(temp - temp[0])\n",
    "X = list()\n",
    "y = list()\n",
    "for ind in range(train_result.shape[0]):\n",
    "    question_start_id = question_start_ids[train_result.iloc[ind][\"tournament_dop_id\"]]\n",
    "    player_id = train_result.iloc[ind]['player_dop_id']\n",
    "    mask = train_result.iloc[ind]['mask']\n",
    "    for i, question_result in enumerate(mask):\n",
    "        X.append([question_start_id + i, player_id])                \n",
    "        if question_result == '0':\n",
    "            y.append(0)\n",
    "        else:\n",
    "            y.append(1)\n",
    "        \n",
    "X = np.array(X)\n",
    "y = np.array(y)\n",
    "\n",
    "def convert_to_csr_matrix(X, question_numbers):\n",
    "    x_rows = np.repeat(np.arange(X.shape[0]), 2)\n",
    "    x_new = X.copy()\n",
    "    x_new[:,1] += question_numbers #+ 1\n",
    "    csr_x = csr_matrix((np.ones(X.shape[0] * 2, dtype=np.uint8), (x_rows, x_new.ravel())), dtype=np.uint8)\n",
    "    return csr_x\n",
    "\n",
    "X_csr = convert_to_csr_matrix(X, question_numbers)\n",
    "X_csr.shape, y.shape"
   ]
  },
  {
   "cell_type": "markdown",
   "metadata": {},
   "source": [
    "Составлена матрица для обучения состоящия из onehot векторов для вопросов и игроков, проверим совпадение кол-ва столбцов"
   ]
  },
  {
   "cell_type": "code",
   "execution_count": 20,
   "metadata": {},
   "outputs": [
    {
     "data": {
      "text/plain": [
       "(33303, 57424, 90727)"
      ]
     },
     "execution_count": 20,
     "metadata": {},
     "output_type": "execute_result"
    }
   ],
   "source": [
    "question_numbers, len(players_train_ids), len(players_train_ids) + question_numbers"
   ]
  },
  {
   "cell_type": "code",
   "execution_count": 56,
   "metadata": {},
   "outputs": [
    {
     "name": "stdout",
     "output_type": "stream",
     "text": [
      "Mean accuracy: 0.7606019395338756\n",
      "Wall time: 7min 28s\n"
     ]
    }
   ],
   "source": [
    "%%time\n",
    "model = SGDClassifier(loss=\"log\", fit_intercept=True, tol=0.00001, alpha = 0.0000001, n_jobs = -1)\n",
    "model.fit(X_csr, y)\n",
    "pickle.dump(model, open('SGDClassifier_LogR.pkl', 'wb'))\n",
    "print(\"Mean accuracy:\", model.score(X_csr, y))"
   ]
  },
  {
   "cell_type": "code",
   "execution_count": 23,
   "metadata": {},
   "outputs": [
    {
     "name": "stdout",
     "output_type": "stream",
     "text": [
      "Среднее (intercept) модели: -1.4627860583493275\n",
      "Диапазон весов для описания рейтинга игроков: -3.5650055467144 до 3.8179075302495775\n",
      "Диапазон весов для описания сложности вопросов: -4.976105753534145 до 5.691147393197159\n"
     ]
    }
   ],
   "source": [
    "model = pickle.load(open('SGDClassifier_LogR.pkl', 'rb'))\n",
    "\n",
    "mu_w = model.intercept_[0]\n",
    "players_w = model.coef_[0, question_numbers:]\n",
    "question_w = model.coef_[0, :question_numbers]\n",
    "print('Среднее (intercept) модели:', mu_w)\n",
    "print(f'Диапазон весов для описания рейтинга игроков: {players_w.min()} до {players_w.max()}')\n",
    "print(f'Диапазон весов для описания сложности вопросов: {question_w.min()} до {question_w.max()}')"
   ]
  },
  {
   "cell_type": "markdown",
   "metadata": {},
   "source": [
    "Для получения рейтинга игроков в диапазоне (0, 1) к полученным весам onehot векторов применим функцию сигмоиду"
   ]
  },
  {
   "cell_type": "code",
   "execution_count": 24,
   "metadata": {},
   "outputs": [
    {
     "data": {
      "text/html": [
       "<div>\n",
       "<style scoped>\n",
       "    .dataframe tbody tr th:only-of-type {\n",
       "        vertical-align: middle;\n",
       "    }\n",
       "\n",
       "    .dataframe tbody tr th {\n",
       "        vertical-align: top;\n",
       "    }\n",
       "\n",
       "    .dataframe thead th {\n",
       "        text-align: right;\n",
       "    }\n",
       "</style>\n",
       "<table border=\"1\" class=\"dataframe\">\n",
       "  <thead>\n",
       "    <tr style=\"text-align: right;\">\n",
       "      <th></th>\n",
       "      <th>player_dop_id</th>\n",
       "      <th>player_name</th>\n",
       "      <th>rating</th>\n",
       "    </tr>\n",
       "  </thead>\n",
       "  <tbody>\n",
       "    <tr>\n",
       "      <th>0</th>\n",
       "      <td>9646</td>\n",
       "      <td>Руссо Максим Михайлович</td>\n",
       "      <td>0.978499</td>\n",
       "    </tr>\n",
       "    <tr>\n",
       "      <th>1</th>\n",
       "      <td>1452</td>\n",
       "      <td>Брутер Александра Владимировна</td>\n",
       "      <td>0.974202</td>\n",
       "    </tr>\n",
       "    <tr>\n",
       "      <th>2</th>\n",
       "      <td>10176</td>\n",
       "      <td>Семушин Иван Николаевич</td>\n",
       "      <td>0.973901</td>\n",
       "    </tr>\n",
       "    <tr>\n",
       "      <th>3</th>\n",
       "      <td>9831</td>\n",
       "      <td>Савченков Михаил Владимирович</td>\n",
       "      <td>0.971302</td>\n",
       "    </tr>\n",
       "    <tr>\n",
       "      <th>4</th>\n",
       "      <td>10660</td>\n",
       "      <td>Сорожкин Артём Сергеевич</td>\n",
       "      <td>0.969905</td>\n",
       "    </tr>\n",
       "    <tr>\n",
       "      <th>5</th>\n",
       "      <td>10700</td>\n",
       "      <td>Спешков Сергей Леонидович</td>\n",
       "      <td>0.969595</td>\n",
       "    </tr>\n",
       "    <tr>\n",
       "      <th>6</th>\n",
       "      <td>7120</td>\n",
       "      <td>Мереминский Станислав Григорьевич</td>\n",
       "      <td>0.963511</td>\n",
       "    </tr>\n",
       "    <tr>\n",
       "      <th>7</th>\n",
       "      <td>51130</td>\n",
       "      <td>Саксонов Антон Владимирович</td>\n",
       "      <td>0.961107</td>\n",
       "    </tr>\n",
       "    <tr>\n",
       "      <th>8</th>\n",
       "      <td>6276</td>\n",
       "      <td>Либер Александр Витальевич</td>\n",
       "      <td>0.961070</td>\n",
       "    </tr>\n",
       "    <tr>\n",
       "      <th>9</th>\n",
       "      <td>2368</td>\n",
       "      <td>Гилёв Алексей Владимирович</td>\n",
       "      <td>0.960886</td>\n",
       "    </tr>\n",
       "    <tr>\n",
       "      <th>10</th>\n",
       "      <td>9154</td>\n",
       "      <td>Прокофьева Ирина Сергеевна</td>\n",
       "      <td>0.960884</td>\n",
       "    </tr>\n",
       "    <tr>\n",
       "      <th>11</th>\n",
       "      <td>6180</td>\n",
       "      <td>Левандовский Михаил Ильич</td>\n",
       "      <td>0.960127</td>\n",
       "    </tr>\n",
       "    <tr>\n",
       "      <th>12</th>\n",
       "      <td>6817</td>\n",
       "      <td>Марков Александр Валерьевич</td>\n",
       "      <td>0.959321</td>\n",
       "    </tr>\n",
       "    <tr>\n",
       "      <th>13</th>\n",
       "      <td>7910</td>\n",
       "      <td>Николенко Сергей Игоревич</td>\n",
       "      <td>0.959132</td>\n",
       "    </tr>\n",
       "    <tr>\n",
       "      <th>14</th>\n",
       "      <td>7522</td>\n",
       "      <td>Мосягин Александр Владимирович</td>\n",
       "      <td>0.958657</td>\n",
       "    </tr>\n",
       "    <tr>\n",
       "      <th>15</th>\n",
       "      <td>38062</td>\n",
       "      <td>Мокин Игорь Викторович</td>\n",
       "      <td>0.958589</td>\n",
       "    </tr>\n",
       "    <tr>\n",
       "      <th>16</th>\n",
       "      <td>7947</td>\n",
       "      <td>Новиков Илья Сергеевич</td>\n",
       "      <td>0.957933</td>\n",
       "    </tr>\n",
       "    <tr>\n",
       "      <th>17</th>\n",
       "      <td>22085</td>\n",
       "      <td>Горелова Наталья Евгеньевна</td>\n",
       "      <td>0.957729</td>\n",
       "    </tr>\n",
       "    <tr>\n",
       "      <th>18</th>\n",
       "      <td>5696</td>\n",
       "      <td>Кудряшова Наталья Алексеевна</td>\n",
       "      <td>0.957098</td>\n",
       "    </tr>\n",
       "    <tr>\n",
       "      <th>19</th>\n",
       "      <td>4564</td>\n",
       "      <td>Карякин Дмитрий Александрович</td>\n",
       "      <td>0.957085</td>\n",
       "    </tr>\n",
       "  </tbody>\n",
       "</table>\n",
       "</div>"
      ],
      "text/plain": [
       "    player_dop_id                        player_name    rating\n",
       "0            9646            Руссо Максим Михайлович  0.978499\n",
       "1            1452     Брутер Александра Владимировна  0.974202\n",
       "2           10176            Семушин Иван Николаевич  0.973901\n",
       "3            9831      Савченков Михаил Владимирович  0.971302\n",
       "4           10660           Сорожкин Артём Сергеевич  0.969905\n",
       "5           10700          Спешков Сергей Леонидович  0.969595\n",
       "6            7120  Мереминский Станислав Григорьевич  0.963511\n",
       "7           51130        Саксонов Антон Владимирович  0.961107\n",
       "8            6276         Либер Александр Витальевич  0.961070\n",
       "9            2368         Гилёв Алексей Владимирович  0.960886\n",
       "10           9154         Прокофьева Ирина Сергеевна  0.960884\n",
       "11           6180          Левандовский Михаил Ильич  0.960127\n",
       "12           6817        Марков Александр Валерьевич  0.959321\n",
       "13           7910          Николенко Сергей Игоревич  0.959132\n",
       "14           7522     Мосягин Александр Владимирович  0.958657\n",
       "15          38062             Мокин Игорь Викторович  0.958589\n",
       "16           7947             Новиков Илья Сергеевич  0.957933\n",
       "17          22085        Горелова Наталья Евгеньевна  0.957729\n",
       "18           5696       Кудряшова Наталья Алексеевна  0.957098\n",
       "19           4564      Карякин Дмитрий Александрович  0.957085"
      ]
     },
     "execution_count": 24,
     "metadata": {},
     "output_type": "execute_result"
    }
   ],
   "source": [
    "def sigmoid(x):\n",
    "    return 1 / (1 + np.exp(-x))\n",
    "\n",
    "rating = {ind:weight for ind, weight in enumerate(model.coef_[0, question_numbers:])}\n",
    "ratings = train_result[['player_dop_id', 'player_name']].drop_duplicates()\n",
    "ratings['rating'] = ratings['player_dop_id'].apply(lambda x: sigmoid(rating[x]))\n",
    "ratings = ratings.sort_values(by='rating', ascending=False)\n",
    "ratings = ratings.reset_index(drop=True)\n",
    "ratings.head(20)"
   ]
  },
  {
   "cell_type": "markdown",
   "metadata": {},
   "source": [
    "### Часть 3.\n",
    "\n",
    "Качество рейтинг-системы оценивается качеством предсказаний результатов турниров. Но сами повопросные результаты наши модели предсказывать вряд ли смогут, ведь неизвестно, насколько сложными окажутся вопросы в будущих турнирах; да и не нужны эти предсказания сами по себе. Поэтому:\n",
    "  - предложите способ предсказать результаты нового турнира с известными составами, но неизвестными вопросами, в виде ранжирования команд;\n",
    "  - в качестве метрики качества на тестовом наборе давайте считать ранговые корреляции Спирмена и Кендалла (их можно взять в пакете scipy) между реальным ранжированием в результатах турнира и предсказанным моделью, усреднённые по тестовому множеству турниров"
   ]
  },
  {
   "cell_type": "markdown",
   "metadata": {},
   "source": [
    "Для расчета метрики будем считать, что если комманда ответила на вопрос то хотя бы один игрок из комманды ответил на вопрос. \\\n",
    "Тогда вероятность комманды ответить на вопрос:\n",
    "\n",
    "$$p(team_k, q_j) = 1 - \\prod_{i = 1}^{N}(1 - p(s_i, q_j)) = 1 - \\prod_{i = 1}^{N}(1 - \\sigma(s_i + q_j + \\mu))$$\n",
    "\n",
    "В случае если вопрос неизвестен $(q*)$, то в качестве оценки возможно расчитать вероятность ответа комманды на вопрос средней сложности. Но так как на ранжирование комманд сложность вопроса не влияет, то ее и среднее($\\mu$) можно занулить\n",
    "$$p(team_k, q*) = 1 - \\prod_{i = 1}^{N}(1 - p(s_i, q*)) = 1 - \\prod_{i = 1}^{N}(1 - \\sigma(s_i))$$"
   ]
  },
  {
   "cell_type": "code",
   "execution_count": 25,
   "metadata": {},
   "outputs": [
    {
     "data": {
      "text/html": [
       "<div>\n",
       "<style scoped>\n",
       "    .dataframe tbody tr th:only-of-type {\n",
       "        vertical-align: middle;\n",
       "    }\n",
       "\n",
       "    .dataframe tbody tr th {\n",
       "        vertical-align: top;\n",
       "    }\n",
       "\n",
       "    .dataframe thead th {\n",
       "        text-align: right;\n",
       "    }\n",
       "</style>\n",
       "<table border=\"1\" class=\"dataframe\">\n",
       "  <thead>\n",
       "    <tr style=\"text-align: right;\">\n",
       "      <th></th>\n",
       "      <th>tournament_team_id</th>\n",
       "      <th>questionsTotal</th>\n",
       "      <th>team_rating</th>\n",
       "      <th>tournament_id</th>\n",
       "      <th>team_id</th>\n",
       "    </tr>\n",
       "  </thead>\n",
       "  <tbody>\n",
       "    <tr>\n",
       "      <th>0</th>\n",
       "      <td>4957_10285</td>\n",
       "      <td>14.0</td>\n",
       "      <td>0.999979</td>\n",
       "      <td>4957</td>\n",
       "      <td>10285</td>\n",
       "    </tr>\n",
       "    <tr>\n",
       "      <th>1</th>\n",
       "      <td>4957_1799</td>\n",
       "      <td>12.0</td>\n",
       "      <td>0.999971</td>\n",
       "      <td>4957</td>\n",
       "      <td>1799</td>\n",
       "    </tr>\n",
       "    <tr>\n",
       "      <th>2</th>\n",
       "      <td>4957_2</td>\n",
       "      <td>21.0</td>\n",
       "      <td>1.000000</td>\n",
       "      <td>4957</td>\n",
       "      <td>2</td>\n",
       "    </tr>\n",
       "    <tr>\n",
       "      <th>3</th>\n",
       "      <td>4957_2421</td>\n",
       "      <td>12.0</td>\n",
       "      <td>0.999955</td>\n",
       "      <td>4957</td>\n",
       "      <td>2421</td>\n",
       "    </tr>\n",
       "  </tbody>\n",
       "</table>\n",
       "</div>"
      ],
      "text/plain": [
       "  tournament_team_id  questionsTotal  team_rating  tournament_id  team_id\n",
       "0         4957_10285            14.0     0.999979           4957    10285\n",
       "1          4957_1799            12.0     0.999971           4957     1799\n",
       "2             4957_2            21.0     1.000000           4957        2\n",
       "3          4957_2421            12.0     0.999955           4957     2421"
      ]
     },
     "execution_count": 25,
     "metadata": {},
     "output_type": "execute_result"
    }
   ],
   "source": [
    "# Предварительно расчитаем коммандные ранги (вероятности ответа на неизвестный вопрос) на тестовом датасете \n",
    "test_result = pd.merge(test_result, ratings[[\"rating\",\"player_dop_id\"]], on='player_dop_id', how=\"left\")\n",
    "test_result[\"tournament_team_id\"] = test_result.apply(lambda x: str(x[\"tournament_id\"]) + \"_\" + str(x[\"team_id\"]), axis=1)\n",
    "train_result = pd.merge(train_result, ratings[[\"rating\",\"player_dop_id\"]], on='player_dop_id', how=\"left\")\n",
    "train_result[\"tournament_team_id\"] = train_result.apply(lambda x: str(x[\"tournament_id\"]) + \"_\" + str(x[\"team_id\"]), axis=1)\n",
    "\n",
    "def team_rating(x):\n",
    "    return (1 - np.prod(1 - x))\n",
    "\n",
    "def result_gr(df_result):\n",
    "    df_result_gr = pd.DataFrame(df_result.groupby(by = \"tournament_team_id\").questionsTotal.max())\n",
    "    temp = pd.DataFrame(df_result.groupby(by = \"tournament_team_id\").rating.agg([team_rating]))\n",
    "    df_result_gr = pd.merge(df_result_gr, temp, how=\"left\", left_index=True, right_index=True)\n",
    "    df_result_gr = df_result_gr.reset_index()\n",
    "    df_result_gr[\"tournament_id\"] = df_result_gr[\"tournament_team_id\"].apply(lambda x: int(x.split(\"_\")[0]))\n",
    "    df_result_gr[\"team_id\"] = df_result_gr[\"tournament_team_id\"].apply(lambda x: int(x.split(\"_\")[1]))\n",
    "    return df_result_gr\n",
    "\n",
    "test_result_gr = result_gr(test_result)\n",
    "test_result_gr.head(4)"
   ]
  },
  {
   "cell_type": "code",
   "execution_count": 112,
   "metadata": {},
   "outputs": [
    {
     "name": "stdout",
     "output_type": "stream",
     "text": [
      "Ранговая корреляция Спирмена на тестовых данных: 0.74872\n",
      "Ранговая корреляция Кендалла на тестовых данных: 0.59325\n"
     ]
    }
   ],
   "source": [
    "def spearmanr_calc(x):\n",
    "    return spearmanr(x[\"questionsTotal\"], x[\"team_rating\"]).correlation\n",
    "\n",
    "def kendalltau_calc(x):\n",
    "    return kendalltau(x[\"questionsTotal\"], x[\"team_rating\"]).correlation\n",
    "\n",
    "spearmanr_score_test = round(test_result_gr.groupby(\"tournament_id\").apply(spearmanr_calc).mean(),5)\n",
    "kendalltau_score_test = round(test_result_gr.groupby(\"tournament_id\").apply(kendalltau_calc).mean(),5)\n",
    "\n",
    "print(f\"Ранговая корреляция Спирмена на тестовых данных: {spearmanr_score_test}\")\n",
    "print(f\"Ранговая корреляция Кендалла на тестовых данных: {kendalltau_score_test}\")"
   ]
  },
  {
   "cell_type": "code",
   "execution_count": 114,
   "metadata": {},
   "outputs": [
    {
     "name": "stdout",
     "output_type": "stream",
     "text": [
      "Ранговая корреляция Спирмена на тренировочных данных: 0.78327\n",
      "Ранговая корреляция Кендалла на тренировочных данных: 0.62835\n"
     ]
    }
   ],
   "source": [
    "train_result_gr = result_gr(train_result)\n",
    "\n",
    "spearmanr_score_train = round(train_result_gr.groupby(\"tournament_id\").apply(spearmanr_calc).mean(),5)\n",
    "kendalltau_score_train = round(train_result_gr.groupby(\"tournament_id\").apply(kendalltau_calc).mean(),5)    \n",
    "print(f\"Ранговая корреляция Спирмена на тренировочных данных: {spearmanr_score_train}\")\n",
    "print(f\"Ранговая корреляция Кендалла на тренировочных данных: {kendalltau_score_train}\")"
   ]
  },
  {
   "cell_type": "markdown",
   "metadata": {},
   "source": [
    "### Часть 4.\n",
    "\n",
    "Теперь главное: ЧГК — это всё-таки командная игра. Поэтому:\n",
    "  - предложите способ учитывать то, что на вопрос отвечают сразу несколько игроков; скорее всего, понадобятся скрытые переменные; не стесняйтесь делать упрощающие предположения, но теперь переменные “игрок X ответил на вопрос Y” при условии данных должны стать зависимыми для игроков одной и той же команды;\n",
    "  - разработайте EM-схему для обучения этой модели, реализуйте её в коде;\n",
    "  - обучите несколько итераций, убедитесь, что целевые метрики со временем растут (скорее всего, ненамного, но расти должны), выберите лучшую модель, используя целевые метрики."
   ]
  },
  {
   "cell_type": "markdown",
   "metadata": {},
   "source": [
    "Введем скрытую переменную $z_{ij}$ - правильный ответ игрока $i$ на вопрос $j$ при условии правильного ответа комманды. \n",
    "\n",
    "  - $p(z_{ij}=1|team_{k}=1)$\n",
    "\n",
    "Основные предположения: \n",
    "1. Комманда ответила на вопрос то хотя бы один игрок из комманды ответил на вопрос. Поэтому силу комманды оценим как: \\\n",
    "$p(team_k=1, q_j) = 1 - \\prod_{i = 1}^{N}(1 - p(z_{ij}=1))$ \\\n",
    "$p(z_{ij}=1) = \\sigma(s_i + q_j + \\mu)$\n",
    "2. Если игрок ответил на вопрос то и комманда ответила на вопрос \\\n",
    "$p(team_k=1, z_{ij}=1) = 1$\n",
    "2. Команда не ответила на вопрос то все игроки не смогли ответить на него \\\n",
    "$p(z_{ij}=1|team_{k}=0) = 0$\n",
    "3. Ответы игроков на вопрос независят друг от друга\n",
    "\n",
    "По теореме Байеса:\n",
    "\n",
    "\n",
    "$$p(z_{ij}=1|team_{k}=1) = \\frac{p(team_{k}=1|z_{ij}=1)p(z_{ij}=1)}{p(team_k=1, q_j)} = \n",
    "\\frac{\\sigma(s_i + q_j + \\mu))}{1 -  \\prod_{i = 1}^{N}(1 - \\sigma(s_i + q_j + \\mu))}$$\n",
    "\n",
    "EM-алгоритм:\n",
    "- M шаг. Оценка $p(z_{ij})$ с применением логистической регрессии \n",
    " $$p(z_{ij}=1) = \\sigma(s_i + q_j + \\mu)$$\n",
    "- E шаг. Оценка $p(z_{ij}=1|team_{k}=1)$\n",
    "\n",
    "$$p(z_{ij}=1|team_{k}=1) = \\frac{\\sigma(s_i + q_j + \\mu))}{1 -  \\prod_{i = 1}^{N}(1 - \\sigma(s_i + q_j + \\mu))}$$"
   ]
  },
  {
   "cell_type": "code",
   "execution_count": 28,
   "metadata": {},
   "outputs": [],
   "source": [
    "# Функция для расчета ранговой корреляция Спирмена и Кендалла\n",
    "def calc_metrics(df_result_train, df_result_test):\n",
    "    df_result_gr = result_gr(df_result_train)\n",
    "    spearmanr_score_train = round(df_result_gr.groupby(\"tournament_id\").apply(spearmanr_calc).mean(),5)\n",
    "    kendalltau_score_train = round(df_result_gr.groupby(\"tournament_id\").apply(kendalltau_calc).mean(),5)\n",
    "    \n",
    "    df_result_gr = result_gr(df_result_test)\n",
    "    spearmanr_score_test = round(df_result_gr.groupby(\"tournament_id\").apply(spearmanr_calc).mean(),5)\n",
    "    kendalltau_score_test = round(df_result_gr.groupby(\"tournament_id\").apply(kendalltau_calc).mean(),5)  \n",
    "\n",
    "    print(f\"Ранговая корреляция Спирмена. Обучение: {spearmanr_score_train}, тест: {spearmanr_score_test}\")\n",
    "    print(f\"Ранговая корреляция Кендалла. Обучение: {kendalltau_score_train}, тест: {kendalltau_score_test}\")"
   ]
  },
  {
   "cell_type": "code",
   "execution_count": 249,
   "metadata": {},
   "outputs": [],
   "source": [
    "# Сбор доп. датасета для EM алгоритма (для переоценки таргета)\n",
    "temp = train_result.groupby('tournament_dop_id')['mask_length'].max().cumsum()\n",
    "question_numbers = temp.iloc[-1]\n",
    "question_start_ids = dict(temp - temp[0])\n",
    "X_df = list()\n",
    "y_df = list()\n",
    "for ind in range(train_result.shape[0]):\n",
    "    question_start_id = question_start_ids[train_result.iloc[ind][\"tournament_dop_id\"]]\n",
    "    player_id = train_result.iloc[ind]['player_dop_id']\n",
    "    tournament_dop_id = train_result.iloc[ind][\"tournament_dop_id\"]\n",
    "    team_id = train_result.iloc[ind][\"team_id\"]\n",
    "    \n",
    "    mask = train_result.iloc[ind]['mask']\n",
    "    for i, question_result in enumerate(mask):\n",
    "        X_df.append([question_start_id + i, player_id, tournament_dop_id, team_id])                \n",
    "        if question_result == '0':\n",
    "            y_df.append(0)\n",
    "        else:\n",
    "            y_df.append(1)\n",
    "        \n",
    "y_data = pd.DataFrame(y)\n",
    "X_data = pd.DataFrame(X_df, columns=[\"question_id\", \"player_dop_id\", \"tournament_dop_id\", \"team_id\"])\n",
    "X_data[\"tournament_team_id\"] = X_data.apply(lambda x: str(x[\"tournament_dop_id\"]) + \"_\" + str(x[\"team_id\"]), axis=1)\n",
    "\n",
    "y_data.to_pickle('y_data.pkl')\n",
    "X_data.to_pickle('X_data.pkl')"
   ]
  },
  {
   "cell_type": "code",
   "execution_count": 89,
   "metadata": {},
   "outputs": [
    {
     "name": "stdout",
     "output_type": "stream",
     "text": [
      "(17753544, 5) (17753544, 1)\n"
     ]
    },
    {
     "data": {
      "text/html": [
       "<div>\n",
       "<style scoped>\n",
       "    .dataframe tbody tr th:only-of-type {\n",
       "        vertical-align: middle;\n",
       "    }\n",
       "\n",
       "    .dataframe tbody tr th {\n",
       "        vertical-align: top;\n",
       "    }\n",
       "\n",
       "    .dataframe thead th {\n",
       "        text-align: right;\n",
       "    }\n",
       "</style>\n",
       "<table border=\"1\" class=\"dataframe\">\n",
       "  <thead>\n",
       "    <tr style=\"text-align: right;\">\n",
       "      <th></th>\n",
       "      <th>question_id</th>\n",
       "      <th>player_dop_id</th>\n",
       "      <th>tournament_dop_id</th>\n",
       "      <th>team_id</th>\n",
       "      <th>tournament_team_id</th>\n",
       "    </tr>\n",
       "  </thead>\n",
       "  <tbody>\n",
       "    <tr>\n",
       "      <th>0</th>\n",
       "      <td>1505</td>\n",
       "      <td>2101</td>\n",
       "      <td>16</td>\n",
       "      <td>45556</td>\n",
       "      <td>16_45556</td>\n",
       "    </tr>\n",
       "    <tr>\n",
       "      <th>1</th>\n",
       "      <td>1506</td>\n",
       "      <td>2101</td>\n",
       "      <td>16</td>\n",
       "      <td>45556</td>\n",
       "      <td>16_45556</td>\n",
       "    </tr>\n",
       "    <tr>\n",
       "      <th>2</th>\n",
       "      <td>1507</td>\n",
       "      <td>2101</td>\n",
       "      <td>16</td>\n",
       "      <td>45556</td>\n",
       "      <td>16_45556</td>\n",
       "    </tr>\n",
       "  </tbody>\n",
       "</table>\n",
       "</div>"
      ],
      "text/plain": [
       "   question_id  player_dop_id  tournament_dop_id  team_id tournament_team_id\n",
       "0         1505           2101                 16    45556           16_45556\n",
       "1         1506           2101                 16    45556           16_45556\n",
       "2         1507           2101                 16    45556           16_45556"
      ]
     },
     "execution_count": 89,
     "metadata": {},
     "output_type": "execute_result"
    }
   ],
   "source": [
    "X_data = pd.read_pickle('X_data.pkl')\n",
    "y_data = pd.read_pickle('y_data.pkl')\n",
    "print(X_data.shape, y_data.shape)\n",
    "X_data.head(3)"
   ]
  },
  {
   "cell_type": "code",
   "execution_count": 118,
   "metadata": {},
   "outputs": [
    {
     "name": "stdout",
     "output_type": "stream",
     "text": [
      "Итерация №1 (подготовительная)\n",
      "Ранговая корреляция Спирмена. Обучение: 0.78327, тест: 0.74872\n",
      "Ранговая корреляция Кендалла. Обучение: 0.62835, тест: 0.59325\n"
     ]
    }
   ],
   "source": [
    "M-шаг: 1 итерация (подготовительная)\n",
    "eps = 0.0001\n",
    "model = SGDClassifier(loss=\"log\", fit_intercept=True, tol=0.001, alpha = 0.0000001, n_jobs = -1)\n",
    "model.fit(X_csr, y)\n",
    "\n",
    "# расчет метрик\n",
    "mu_w = model.intercept_[0]\n",
    "players_w = model.coef_[0, question_numbers:]\n",
    "question_w = model.coef_[0, :question_numbers]\n",
    "rating = {ind:weight for ind, weight in enumerate(model.coef_[0, question_numbers:])}\n",
    "ratings = train_result[['player_dop_id', 'player_name']].drop_duplicates()\n",
    "ratings['rating'] = ratings['player_dop_id'].apply(lambda x: sigmoid(rating[x]))\n",
    "ratings = ratings.reset_index(drop=True)\n",
    "test_result.drop(columns = [\"rating\"], inplace=True)\n",
    "train_result.drop(columns = [\"rating\"], inplace=True)\n",
    "test_result = pd.merge(test_result, ratings[[\"rating\",\"player_dop_id\"]], on='player_dop_id', how=\"left\")\n",
    "train_result = pd.merge(train_result, ratings[[\"rating\",\"player_dop_id\"]], on='player_dop_id', how=\"left\")\n",
    "print(\"Итерация №1 (подготовительная)\")\n",
    "calc_metrics(train_result, test_result)\n",
    "\n",
    "# Е-шаг: 1 итерация (подготовительная)\n",
    "X_data[\"sigma_ij\"] = model.predict_proba(X_csr)[:,1]\n",
    "temp = pd.DataFrame(X_data.groupby(by = \"tournament_team_id\")[\"sigma_ij\"].agg([team_rating]))\n",
    "temp = temp.reset_index()\n",
    "if \"team_rating\" in X_data.columns:\n",
    "    X_data.drop(columns=[\"team_rating\"],inplace=True)\n",
    "X_data = pd.merge(X_data, temp, how=\"left\", on=\"tournament_team_id\")\n",
    "X_data[\"y_new_iter\"] = y * X_data[\"sigma_ij\"].values / X_data[\"team_rating\"].values\n",
    "y_new = np.clip(X_data[\"y_new_iter\"].values, eps, 1 - eps)"
   ]
  },
  {
   "cell_type": "code",
   "execution_count": 122,
   "metadata": {},
   "outputs": [
    {
     "name": "stdout",
     "output_type": "stream",
     "text": [
      "Итерация №2\n",
      "Ранговая корреляция Спирмена. Обучение: 0.80141, тест: 0.75217\n",
      "Ранговая корреляция Кендалла. Обучение: 0.63482, тест: 0.59826\n",
      "Итерация №3\n",
      "Ранговая корреляция Спирмена. Обучение: 0.81236, тест: 0.76428\n",
      "Ранговая корреляция Кендалла. Обучение: 0.65976, тест: 0.60628\n",
      "Итерация №4\n",
      "Ранговая корреляция Спирмена. Обучение: 0.81691, тест: 0.77284\n",
      "Ранговая корреляция Кендалла. Обучение: 0.66347, тест: 0.61551\n"
     ]
    }
   ],
   "source": [
    "iter_number = 4\n",
    "for k in range(1, iter_number):\n",
    "    # M-шаг\n",
    "    model = SGDRegressor(fit_intercept=True, tol=0.001, alpha = 0.0000001)\n",
    "    model.fit(X_csr, logit(y_new))\n",
    "\n",
    "    # расчет метрик\n",
    "    mu_w = model.intercept_[0]\n",
    "    players_w = model.coef_[question_numbers:]\n",
    "    question_w = model.coef_[:question_numbers]\n",
    "    rating = {ind:weight for ind, weight in enumerate(model.coef_[question_numbers:])}\n",
    "    ratings = train_result[['player_dop_id', 'player_name']].drop_duplicates()\n",
    "    ratings['rating'] = ratings['player_dop_id'].apply(lambda x: sigmoid(rating[x]))\n",
    "    ratings = ratings.reset_index(drop=True)\n",
    "    test_result.drop(columns = [\"rating\"], inplace=True)\n",
    "    train_result.drop(columns = [\"rating\"], inplace=True)\n",
    "    test_result = pd.merge(test_result, ratings[[\"rating\",\"player_dop_id\"]], on='player_dop_id', how=\"left\")\n",
    "    train_result = pd.merge(train_result, ratings[[\"rating\",\"player_dop_id\"]], on='player_dop_id', how=\"left\")\n",
    "    print(f\"Итерация №{k+1}\")\n",
    "    calc_metrics(train_result, test_result)\n",
    "\n",
    "    # Е-шаг\n",
    "    X_data[\"sigma_ij\"] = sigmoid(model.predict(X_csr))\n",
    "    temp = pd.DataFrame(X_data.groupby(by = \"tournament_team_id\")[\"sigma_ij\"].agg([team_rating]))\n",
    "    temp = temp.reset_index()\n",
    "    if \"team_rating\" in X_data.columns:\n",
    "        X_data.drop(columns=[\"team_rating\"],inplace=True)\n",
    "    X_data = pd.merge(X_data, temp, how=\"left\", on=\"tournament_team_id\")\n",
    "    X_data[\"y_new_iter\"] = y * X_data[\"sigma_ij\"].values / X_data[\"team_rating\"].values\n",
    "    y_new = X_data[\"y_new_iter\"].values\n",
    "    y_new = np.clip(X_data[\"y_new_iter\"].values, eps, 1 - eps)"
   ]
  },
  {
   "cell_type": "code",
   "execution_count": 125,
   "metadata": {},
   "outputs": [
    {
     "data": {
      "text/html": [
       "<div>\n",
       "<style scoped>\n",
       "    .dataframe tbody tr th:only-of-type {\n",
       "        vertical-align: middle;\n",
       "    }\n",
       "\n",
       "    .dataframe tbody tr th {\n",
       "        vertical-align: top;\n",
       "    }\n",
       "\n",
       "    .dataframe thead th {\n",
       "        text-align: right;\n",
       "    }\n",
       "</style>\n",
       "<table border=\"1\" class=\"dataframe\">\n",
       "  <thead>\n",
       "    <tr style=\"text-align: right;\">\n",
       "      <th></th>\n",
       "      <th>player_dop_id</th>\n",
       "      <th>player_name</th>\n",
       "      <th>rating</th>\n",
       "    </tr>\n",
       "  </thead>\n",
       "  <tbody>\n",
       "    <tr>\n",
       "      <th>8223</th>\n",
       "      <td>9646</td>\n",
       "      <td>Руссо Максим Михайлович</td>\n",
       "      <td>0.998366</td>\n",
       "    </tr>\n",
       "    <tr>\n",
       "      <th>5957</th>\n",
       "      <td>1452</td>\n",
       "      <td>Брутер Александра Владимировна</td>\n",
       "      <td>0.998150</td>\n",
       "    </tr>\n",
       "    <tr>\n",
       "      <th>1208</th>\n",
       "      <td>10176</td>\n",
       "      <td>Семушин Иван Николаевич</td>\n",
       "      <td>0.997753</td>\n",
       "    </tr>\n",
       "    <tr>\n",
       "      <th>1212</th>\n",
       "      <td>9831</td>\n",
       "      <td>Савченков Михаил Владимирович</td>\n",
       "      <td>0.997069</td>\n",
       "    </tr>\n",
       "    <tr>\n",
       "      <th>155</th>\n",
       "      <td>10660</td>\n",
       "      <td>Сорожкин Артём Сергеевич</td>\n",
       "      <td>0.996783</td>\n",
       "    </tr>\n",
       "    <tr>\n",
       "      <th>8244</th>\n",
       "      <td>10700</td>\n",
       "      <td>Спешков Сергей Леонидович</td>\n",
       "      <td>0.996272</td>\n",
       "    </tr>\n",
       "    <tr>\n",
       "      <th>1207</th>\n",
       "      <td>2368</td>\n",
       "      <td>Гилёв Алексей Владимирович</td>\n",
       "      <td>0.994178</td>\n",
       "    </tr>\n",
       "    <tr>\n",
       "      <th>1209</th>\n",
       "      <td>7120</td>\n",
       "      <td>Мереминский Станислав Григорьевич</td>\n",
       "      <td>0.993720</td>\n",
       "    </tr>\n",
       "    <tr>\n",
       "      <th>9664</th>\n",
       "      <td>51130</td>\n",
       "      <td>Саксонов Антон Владимирович</td>\n",
       "      <td>0.992919</td>\n",
       "    </tr>\n",
       "    <tr>\n",
       "      <th>9656</th>\n",
       "      <td>4105</td>\n",
       "      <td>Иванцова Светлана Сергеевна</td>\n",
       "      <td>0.992611</td>\n",
       "    </tr>\n",
       "  </tbody>\n",
       "</table>\n",
       "</div>"
      ],
      "text/plain": [
       "      player_dop_id                        player_name    rating\n",
       "8223           9646            Руссо Максим Михайлович  0.998366\n",
       "5957           1452     Брутер Александра Владимировна  0.998150\n",
       "1208          10176            Семушин Иван Николаевич  0.997753\n",
       "1212           9831      Савченков Михаил Владимирович  0.997069\n",
       "155           10660           Сорожкин Артём Сергеевич  0.996783\n",
       "8244          10700          Спешков Сергей Леонидович  0.996272\n",
       "1207           2368         Гилёв Алексей Владимирович  0.994178\n",
       "1209           7120  Мереминский Станислав Григорьевич  0.993720\n",
       "9664          51130        Саксонов Антон Владимирович  0.992919\n",
       "9656           4105        Иванцова Светлана Сергеевна  0.992611"
      ]
     },
     "execution_count": 125,
     "metadata": {},
     "output_type": "execute_result"
    }
   ],
   "source": [
    "ratings = ratings.sort_values(by='rating', ascending=False)\n",
    "ratings.head(10)"
   ]
  },
  {
   "cell_type": "markdown",
   "metadata": {},
   "source": [
    "### Часть 5.\n",
    "\n",
    "А что там с вопросами? Постройте “рейтинг-лист” турниров по сложности вопросов. Соответствует ли он интуиции (например, на чемпионате мира в целом должны быть сложные вопросы, а на турнирах для школьников — простые)? Если будет интересно: постройте топ сложных и простых вопросов со ссылками на конкретные записи в базе вопросов ЧГК (это чисто техническое дело, тут никакого ML нету)."
   ]
  },
  {
   "cell_type": "markdown",
   "metadata": {},
   "source": [
    "Cложность турнира будем расичитвать как среднее сложности вопросов. Сложность вопросов расчитаем как функция сигмоида от весов, для того, что сложность вопросов определить в диапазоне (0,1) "
   ]
  },
  {
   "cell_type": "code",
   "execution_count": 236,
   "metadata": {},
   "outputs": [],
   "source": [
    "question_w = sigmoid(-model.coef_[:question_numbers])\n",
    "q_rating = train_result[['tournament_id', 'mask_length', 'tournament_dop_id']].drop_duplicates()\n",
    "q_rating = pd.merge(q_rating, data_tournament[[\"id\",\"name\"]].rename(columns={\"id\":\"tournament_id\"}), \n",
    "                    on='tournament_id', how=\"left\")\n",
    "\n",
    "q_rating[\"q_rating\"] = 0\n",
    "for ind in range(q_rating.shape[0]):\n",
    "    tournament_dop_id = q_rating.iloc[ind]['tournament_dop_id']\n",
    "    mask_length = q_rating.iloc[ind]['mask_length']\n",
    "    start_ind = question_start_ids[tournament_dop_id]\n",
    "    q_rating[\"q_rating\"].iloc[ind] = question_w[start_ind:start_ind+mask_length].mean()"
   ]
  },
  {
   "cell_type": "code",
   "execution_count": 237,
   "metadata": {},
   "outputs": [
    {
     "name": "stdout",
     "output_type": "stream",
     "text": [
      "Рейтинг-лист сложных турниров:\n"
     ]
    },
    {
     "data": {
      "text/html": [
       "<div>\n",
       "<style scoped>\n",
       "    .dataframe tbody tr th:only-of-type {\n",
       "        vertical-align: middle;\n",
       "    }\n",
       "\n",
       "    .dataframe tbody tr th {\n",
       "        vertical-align: top;\n",
       "    }\n",
       "\n",
       "    .dataframe thead th {\n",
       "        text-align: right;\n",
       "    }\n",
       "</style>\n",
       "<table border=\"1\" class=\"dataframe\">\n",
       "  <thead>\n",
       "    <tr style=\"text-align: right;\">\n",
       "      <th></th>\n",
       "      <th>q_rating</th>\n",
       "      <th>name</th>\n",
       "    </tr>\n",
       "  </thead>\n",
       "  <tbody>\n",
       "    <tr>\n",
       "      <th>663</th>\n",
       "      <td>0.925777</td>\n",
       "      <td>Чемпионат Санкт-Петербурга. Первая лига</td>\n",
       "    </tr>\n",
       "    <tr>\n",
       "      <th>541</th>\n",
       "      <td>0.891286</td>\n",
       "      <td>Угрюмый Ёрш</td>\n",
       "    </tr>\n",
       "    <tr>\n",
       "      <th>369</th>\n",
       "      <td>0.864154</td>\n",
       "      <td>Синхрон высшей лиги Москвы</td>\n",
       "    </tr>\n",
       "    <tr>\n",
       "      <th>43</th>\n",
       "      <td>0.848152</td>\n",
       "      <td>Первенство правого полушария</td>\n",
       "    </tr>\n",
       "    <tr>\n",
       "      <th>284</th>\n",
       "      <td>0.815950</td>\n",
       "      <td>Записки охотника</td>\n",
       "    </tr>\n",
       "    <tr>\n",
       "      <th>130</th>\n",
       "      <td>0.798486</td>\n",
       "      <td>Серия Premier. Седьмая печать</td>\n",
       "    </tr>\n",
       "    <tr>\n",
       "      <th>13</th>\n",
       "      <td>0.796630</td>\n",
       "      <td>Кубок городов</td>\n",
       "    </tr>\n",
       "    <tr>\n",
       "      <th>639</th>\n",
       "      <td>0.793592</td>\n",
       "      <td>Воображаемый музей</td>\n",
       "    </tr>\n",
       "    <tr>\n",
       "      <th>430</th>\n",
       "      <td>0.788196</td>\n",
       "      <td>Синхрон Кеста</td>\n",
       "    </tr>\n",
       "    <tr>\n",
       "      <th>404</th>\n",
       "      <td>0.787111</td>\n",
       "      <td>All Cats Are Beautiful</td>\n",
       "    </tr>\n",
       "  </tbody>\n",
       "</table>\n",
       "</div>"
      ],
      "text/plain": [
       "     q_rating                                     name\n",
       "663  0.925777  Чемпионат Санкт-Петербурга. Первая лига\n",
       "541  0.891286                              Угрюмый Ёрш\n",
       "369  0.864154               Синхрон высшей лиги Москвы\n",
       "43   0.848152             Первенство правого полушария\n",
       "284  0.815950                         Записки охотника\n",
       "130  0.798486            Серия Premier. Седьмая печать\n",
       "13   0.796630                            Кубок городов\n",
       "639  0.793592                       Воображаемый музей\n",
       "430  0.788196                            Синхрон Кеста\n",
       "404  0.787111                   All Cats Are Beautiful"
      ]
     },
     "metadata": {},
     "output_type": "display_data"
    }
   ],
   "source": [
    "print('Рейтинг-лист сложных турниров:')\n",
    "display(q_rating[[\"q_rating\", \"name\"]].sort_values(by = ['q_rating'], ascending=False).head(10))"
   ]
  },
  {
   "cell_type": "code",
   "execution_count": 238,
   "metadata": {},
   "outputs": [
    {
     "name": "stdout",
     "output_type": "stream",
     "text": [
      "Рейтинг-лист простых турниров:\n"
     ]
    },
    {
     "data": {
      "text/html": [
       "<div>\n",
       "<style scoped>\n",
       "    .dataframe tbody tr th:only-of-type {\n",
       "        vertical-align: middle;\n",
       "    }\n",
       "\n",
       "    .dataframe tbody tr th {\n",
       "        vertical-align: top;\n",
       "    }\n",
       "\n",
       "    .dataframe thead th {\n",
       "        text-align: right;\n",
       "    }\n",
       "</style>\n",
       "<table border=\"1\" class=\"dataframe\">\n",
       "  <thead>\n",
       "    <tr style=\"text-align: right;\">\n",
       "      <th></th>\n",
       "      <th>q_rating</th>\n",
       "      <th>name</th>\n",
       "    </tr>\n",
       "  </thead>\n",
       "  <tbody>\n",
       "    <tr>\n",
       "      <th>154</th>\n",
       "      <td>0.217483</td>\n",
       "      <td>Синхрон Лиги Разума</td>\n",
       "    </tr>\n",
       "    <tr>\n",
       "      <th>399</th>\n",
       "      <td>0.220844</td>\n",
       "      <td>Синхрон-lite. Выпуск XXX</td>\n",
       "    </tr>\n",
       "    <tr>\n",
       "      <th>7</th>\n",
       "      <td>0.233805</td>\n",
       "      <td>(а)Синхрон-lite. Лига старта. Эпизод III</td>\n",
       "    </tr>\n",
       "    <tr>\n",
       "      <th>11</th>\n",
       "      <td>0.246065</td>\n",
       "      <td>(а)Синхрон-lite. Лига старта. Эпизод V</td>\n",
       "    </tr>\n",
       "    <tr>\n",
       "      <th>38</th>\n",
       "      <td>0.246713</td>\n",
       "      <td>Лига Сибири. VI тур.</td>\n",
       "    </tr>\n",
       "    <tr>\n",
       "      <th>598</th>\n",
       "      <td>0.248755</td>\n",
       "      <td>Второй тематический турнир имени Джоуи Триббиани</td>\n",
       "    </tr>\n",
       "    <tr>\n",
       "      <th>221</th>\n",
       "      <td>0.272902</td>\n",
       "      <td>KFC</td>\n",
       "    </tr>\n",
       "    <tr>\n",
       "      <th>36</th>\n",
       "      <td>0.280000</td>\n",
       "      <td>Лига Сибири. IV тур.</td>\n",
       "    </tr>\n",
       "    <tr>\n",
       "      <th>483</th>\n",
       "      <td>0.288196</td>\n",
       "      <td>Синхрон простых вопросов. Зима</td>\n",
       "    </tr>\n",
       "    <tr>\n",
       "      <th>529</th>\n",
       "      <td>0.291307</td>\n",
       "      <td>Осенняя кинолига</td>\n",
       "    </tr>\n",
       "  </tbody>\n",
       "</table>\n",
       "</div>"
      ],
      "text/plain": [
       "     q_rating                                              name\n",
       "154  0.217483                               Синхрон Лиги Разума\n",
       "399  0.220844                          Синхрон-lite. Выпуск XXX\n",
       "7    0.233805          (а)Синхрон-lite. Лига старта. Эпизод III\n",
       "11   0.246065            (а)Синхрон-lite. Лига старта. Эпизод V\n",
       "38   0.246713                              Лига Сибири. VI тур.\n",
       "598  0.248755  Второй тематический турнир имени Джоуи Триббиани\n",
       "221  0.272902                                               KFC\n",
       "36   0.280000                              Лига Сибири. IV тур.\n",
       "483  0.288196                    Синхрон простых вопросов. Зима\n",
       "529  0.291307                                  Осенняя кинолига"
      ]
     },
     "metadata": {},
     "output_type": "display_data"
    }
   ],
   "source": [
    "print('Рейтинг-лист простых турниров:')\n",
    "display(q_rating[[\"q_rating\", \"name\"]].sort_values(by = ['q_rating'], ascending=True).head(10))"
   ]
  },
  {
   "cell_type": "markdown",
   "metadata": {},
   "source": [
    "### Выводы\n",
    "\n",
    "  - Baseline-модель демонстрирует хорошие метрики качества, результат хоть и немного хуже, но близок к результату EM алгоритма. \n",
    "  - В рейтинге сильных игроков присутствуют известные сильные игроки, что повышает доверие к моделям\n",
    "  - EM-алгоритм обучается на порядок медленнее. В ходе итераций EM алгоритма метрика качества росла. \n",
    "  - EM-алгоритм при различных запусках может ухудшать качество модели на последующих итерациях, поэтому требуется каждую модель и результаты фиксировать, что бы можно было провести в дальнейшем селекцию при необходимости\n",
    "  - Сложность вопросов так же выучена достаточно хорошо, что косвенно подтверждается оценкой сложности турниров"
   ]
  },
  {
   "cell_type": "code",
   "execution_count": null,
   "metadata": {},
   "outputs": [],
   "source": []
  }
 ],
 "metadata": {
  "kernelspec": {
   "display_name": "Python 3",
   "language": "python",
   "name": "python3"
  },
  "language_info": {
   "codemirror_mode": {
    "name": "ipython",
    "version": 3
   },
   "file_extension": ".py",
   "mimetype": "text/x-python",
   "name": "python",
   "nbconvert_exporter": "python",
   "pygments_lexer": "ipython3",
   "version": "3.8.3"
  }
 },
 "nbformat": 4,
 "nbformat_minor": 4
}
