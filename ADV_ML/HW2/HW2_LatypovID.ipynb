{
 "cells": [
  {
   "cell_type": "markdown",
   "metadata": {},
   "source": [
    "# Продвинутое машинное обучение: ДЗ 2\n",
    "## *Латыпов Ильяс, группа DS-22*\n",
    "### Часть 1.\n",
    "\n",
    "Прочитайте и проанализируйте данные, выберите турниры, в которых есть данные о составах команд и повопросных результатах (поле mask в results.pkl). Для унификации предлагаю:\n",
    "   - взять в тренировочный набор турниры с dateStart из 2019 года; \n",
    "   - в тестовый — турниры с dateStart из 2020 года.\n"
   ]
  },
  {
   "cell_type": "code",
   "execution_count": 85,
   "metadata": {},
   "outputs": [],
   "source": [
    "import numpy as np\n",
    "import pandas as pd\n",
    "\n",
    "import zipfile\n",
    "import pickle\n",
    "\n",
    "import matplotlib.pyplot as plt\n",
    "import seaborn as sns\n",
    "%matplotlib inline\n",
    "sns.set()\n",
    "\n",
    "\n",
    "# from collections import defaultdict\n",
    "from scipy.sparse import csr_matrix\n",
    "from sklearn.linear_model import LogisticRegression, LinearRegression\n",
    "# from scipy.stats import spearmanr, kendalltau"
   ]
  },
  {
   "cell_type": "markdown",
   "metadata": {},
   "source": [
    "# Загрузка и обработка данных"
   ]
  },
  {
   "cell_type": "code",
   "execution_count": 2,
   "metadata": {},
   "outputs": [
    {
     "name": "stdout",
     "output_type": "stream",
     "text": [
      "Содержание zip файла:\n",
      "players.pkl\n",
      "results.pkl\n",
      "tournaments.pkl\n"
     ]
    }
   ],
   "source": [
    "myzip = zipfile.ZipFile(\"D:\\\\ID\\\\Course\\\\MADE\\\\2.Adv_ML\\\\HW\\\\chgk.zip\")\n",
    "print(\"Содержание zip файла:\")\n",
    "for file_name in myzip.namelist():\n",
    "    print(file_name)"
   ]
  },
  {
   "cell_type": "markdown",
   "metadata": {},
   "source": [
    "### Загрузка tournaments.pkl"
   ]
  },
  {
   "cell_type": "code",
   "execution_count": 3,
   "metadata": {},
   "outputs": [
    {
     "name": "stdout",
     "output_type": "stream",
     "text": [
      "Количество соревнований в 2019 в tournaments.pkl: (687, 3)\n",
      "Количество соревнований в 2020 в tournaments.pkl: (418, 3)\n"
     ]
    }
   ],
   "source": [
    "data_tournament = pd.DataFrame(pickle.load(myzip.open('tournaments.pkl', 'r'))).T\n",
    "data_tournament[\"year\"] = data_tournament['dateStart'].apply(lambda x: int(x[:4]) if x is not None else None)\n",
    "data_tournament['sum_questionQty'] = data_tournament['questionQty'].apply(lambda x: sum(x.values()) if x is not None else 0)\n",
    "train_tournament = data_tournament[data_tournament['year']==2019]\n",
    "test_tournament = data_tournament[data_tournament['year']==2020]\n",
    "train_tournament = train_tournament[[\"id\", \"year\", \"sum_questionQty\"]]\n",
    "test_tournament = test_tournament[[\"id\", \"year\", \"sum_questionQty\"]]\n",
    "print(\"Количество соревнований в 2019 в tournaments.pkl:\", train_tournament.shape)\n",
    "print(\"Количество соревнований в 2020 в tournaments.pkl:\", test_tournament.shape)"
   ]
  },
  {
   "cell_type": "markdown",
   "metadata": {},
   "source": [
    "### Загрузка players.pkl"
   ]
  },
  {
   "cell_type": "code",
   "execution_count": 4,
   "metadata": {},
   "outputs": [
    {
     "name": "stdout",
     "output_type": "stream",
     "text": [
      "Общее количество участников в players.pkl: (204063, 4)\n"
     ]
    },
    {
     "data": {
      "text/html": [
       "<div>\n",
       "<style scoped>\n",
       "    .dataframe tbody tr th:only-of-type {\n",
       "        vertical-align: middle;\n",
       "    }\n",
       "\n",
       "    .dataframe tbody tr th {\n",
       "        vertical-align: top;\n",
       "    }\n",
       "\n",
       "    .dataframe thead th {\n",
       "        text-align: right;\n",
       "    }\n",
       "</style>\n",
       "<table border=\"1\" class=\"dataframe\">\n",
       "  <thead>\n",
       "    <tr style=\"text-align: right;\">\n",
       "      <th></th>\n",
       "      <th>id</th>\n",
       "      <th>name</th>\n",
       "      <th>patronymic</th>\n",
       "      <th>surname</th>\n",
       "    </tr>\n",
       "  </thead>\n",
       "  <tbody>\n",
       "    <tr>\n",
       "      <th>217116</th>\n",
       "      <td>217116</td>\n",
       "      <td>Владимир</td>\n",
       "      <td>Александрович</td>\n",
       "      <td>Варивода</td>\n",
       "    </tr>\n",
       "    <tr>\n",
       "      <th>152643</th>\n",
       "      <td>152643</td>\n",
       "      <td>Ульяна</td>\n",
       "      <td>Юрьевна</td>\n",
       "      <td>Кобылец</td>\n",
       "    </tr>\n",
       "  </tbody>\n",
       "</table>\n",
       "</div>"
      ],
      "text/plain": [
       "            id      name     patronymic   surname\n",
       "217116  217116  Владимир  Александрович  Варивода\n",
       "152643  152643    Ульяна        Юрьевна   Кобылец"
      ]
     },
     "metadata": {},
     "output_type": "display_data"
    }
   ],
   "source": [
    "data_players = pd.DataFrame(pickle.load(myzip.open('players.pkl', 'r'))).T\n",
    "print(\"Общее количество участников в players.pkl:\", data_players.shape)\n",
    "display(data_players.sample(2))"
   ]
  },
  {
   "cell_type": "markdown",
   "metadata": {},
   "source": [
    "### Загрузка results.pkl"
   ]
  },
  {
   "cell_type": "code",
   "execution_count": 25,
   "metadata": {},
   "outputs": [
    {
     "name": "stdout",
     "output_type": "stream",
     "text": [
      "Сумма участников во всех турнирах 2019г (414774, 8)\n",
      "Сумма участников во всех турнирах 2020г: (99757, 8)\n"
     ]
    },
    {
     "data": {
      "text/html": [
       "<div>\n",
       "<style scoped>\n",
       "    .dataframe tbody tr th:only-of-type {\n",
       "        vertical-align: middle;\n",
       "    }\n",
       "\n",
       "    .dataframe tbody tr th {\n",
       "        vertical-align: top;\n",
       "    }\n",
       "\n",
       "    .dataframe thead th {\n",
       "        text-align: right;\n",
       "    }\n",
       "</style>\n",
       "<table border=\"1\" class=\"dataframe\">\n",
       "  <thead>\n",
       "    <tr style=\"text-align: right;\">\n",
       "      <th></th>\n",
       "      <th>tournament_id</th>\n",
       "      <th>year</th>\n",
       "      <th>team_id</th>\n",
       "      <th>mask</th>\n",
       "      <th>questionsTotal</th>\n",
       "      <th>mask_length</th>\n",
       "      <th>player_id</th>\n",
       "      <th>player_name</th>\n",
       "    </tr>\n",
       "  </thead>\n",
       "  <tbody>\n",
       "    <tr>\n",
       "      <th>0</th>\n",
       "      <td>4772</td>\n",
       "      <td>2019</td>\n",
       "      <td>45556</td>\n",
       "      <td>111111111011111110111111111100010010</td>\n",
       "      <td>28.0</td>\n",
       "      <td>36</td>\n",
       "      <td>6212</td>\n",
       "      <td>Выменец Юрий Яковлевич</td>\n",
       "    </tr>\n",
       "    <tr>\n",
       "      <th>1</th>\n",
       "      <td>4772</td>\n",
       "      <td>2019</td>\n",
       "      <td>45556</td>\n",
       "      <td>111111111011111110111111111100010010</td>\n",
       "      <td>28.0</td>\n",
       "      <td>36</td>\n",
       "      <td>18332</td>\n",
       "      <td>Либер Александр Витальевич</td>\n",
       "    </tr>\n",
       "  </tbody>\n",
       "</table>\n",
       "</div>"
      ],
      "text/plain": [
       "   tournament_id  year  team_id                                  mask  \\\n",
       "0           4772  2019    45556  111111111011111110111111111100010010   \n",
       "1           4772  2019    45556  111111111011111110111111111100010010   \n",
       "\n",
       "   questionsTotal  mask_length  player_id                 player_name  \n",
       "0            28.0           36       6212      Выменец Юрий Яковлевич  \n",
       "1            28.0           36      18332  Либер Александр Витальевич  "
      ]
     },
     "metadata": {},
     "output_type": "display_data"
    },
    {
     "name": "stdout",
     "output_type": "stream",
     "text": [
      "Wall time: 1min 40s\n"
     ]
    }
   ],
   "source": [
    "%%time\n",
    "results = pickle.load(myzip.open('results.pkl', 'r'))\n",
    "tournament_test_list = test_tournament[\"id\"].to_list() \n",
    "tournament_train_list = train_tournament[\"id\"].to_list()\n",
    "\n",
    "data_result = pd.DataFrame([])\n",
    "for tour in (tournament_train_list + tournament_test_list):\n",
    "    if tour not in results.keys():\n",
    "        print(f\"Не найдено соревнование № {tour} в results.pkl\")\n",
    "        break\n",
    "    cur_tour_df = pd.DataFrame(results[tour])\n",
    "    cur_tour_df[\"tournament\"] = tour\n",
    "    if tour in tournament_train_list:\n",
    "        cur_tour_df[\"year\"] = 2019\n",
    "    else:\n",
    "        cur_tour_df[\"year\"] = 2020\n",
    "    data_result = pd.concat([data_result, cur_tour_df])\n",
    "    \n",
    "data_result[\"teamMembers_empty\"] = data_result[\"teamMembers\"].apply(lambda x: not x) \n",
    "data_result = data_result[(~data_result[\"mask\"].isna()) & (~data_result[\"teamMembers_empty\"])]\n",
    "data_result.drop(columns=[\"teamMembers_empty\"], inplace=True)\n",
    "\n",
    "data_result[\"players_id\"] = data_result[\"teamMembers\"].apply(lambda x: list(map(lambda y: y['player']['id'], x)))\n",
    "data_result[\"players_number\"] = data_result[\"teamMembers\"].apply(lambda x: len(list(map(lambda y: y['player']['id'], x))))\n",
    "data_result[\"players_name\"] = data_result[\"teamMembers\"].apply(lambda x: list(map(lambda y: y['player']['surname'] + \" \" +\n",
    "                                                               y['player']['name'] + \" \" + y['player']['patronymic'], x)))\n",
    "\n",
    "data_result[\"team_id\"] = data_result[\"team\"].apply(lambda x: x['id'])\n",
    "data_result = data_result[[\"tournament\", \"year\", \"team_id\", \"mask\", \"questionsTotal\", \n",
    "                           \"players_id\", \"players_name\", \"players_number\"]]\n",
    "\n",
    "# data_result = data_result[~data_result['mask'].apply(lambda x: \"X\" in x)]\n",
    "data_result['mask'] = data_result['mask'].apply(lambda x: x.replace(\"?\",\"0\").replace(\"-\",\"0\").replace(\"X\",\"\"))\n",
    "data_result[\"mask_length\"] = data_result[\"mask\"].apply(len)\n",
    "\n",
    "temp = pd.DataFrame(data_result.groupby(by = \"tournament\")[\"mask_length\"].max())\n",
    "temp.rename(columns = {\"mask_length\" : \"tour_mask_length\"}, inplace=True)\n",
    "data_result = pd.merge(data_result, temp, on='tournament', how=\"left\")\n",
    "data_result = data_result[data_result[\"mask_length\"] == data_result[\"tour_mask_length\"]]\n",
    "data_result.drop(columns=[\"tour_mask_length\"], inplace=True)\n",
    "\n",
    "# temp = data_tournament[(data_tournament['year']==2019) | (data_tournament['year']==2020)][[\"id\", \"sum_questionQty\"]]\n",
    "# temp.rename(columns = {\"id\" : \"tournament\"}, inplace=True)\n",
    "# data_result = pd.merge(data_result, temp, on='tournament', how=\"left\")\n",
    "# data_result = data_result[data_result[\"mask_length\"]==data_result[\"sum_questionQty\"]]\n",
    "\n",
    "data_result_ext = data_result.loc[data_result.index.repeat(data_result.players_number)]\n",
    "data_result_ext = data_result_ext.reset_index()\n",
    "data_result_ext.drop(columns = [\"index\"], inplace=True)\n",
    "data_result_ext = data_result_ext.reset_index()\n",
    "data_result_ext[\"list_ind\"] = data_result_ext[\"index\"] % data_result_ext[\"players_number\"]\n",
    "data_result_ext[\"player_id\"] = data_result_ext.apply(lambda x: x[\"players_id\"][x[\"list_ind\"]], axis=1)\n",
    "data_result_ext[\"player_name\"] = data_result_ext.apply(lambda x: x[\"players_name\"][x[\"list_ind\"]], axis=1)\n",
    "data_result_ext.drop(columns=[\"players_id\",\"players_name\", \"players_number\", \"list_ind\", \"index\"], inplace=True)\n",
    "data_result_ext.rename(columns = {\"tournament\" : \"tournament_id\"}, inplace=True)\n",
    "\n",
    "train_result = data_result_ext[data_result_ext[\"year\"] == 2019]\n",
    "test_result = data_result_ext[data_result_ext[\"year\"] == 2020]\n",
    "test_result = test_result[test_result[\"player_id\"].isin(set(train_result.player_id.to_list()))]\n",
    "train_result.to_pickle('result_train.pkl')\n",
    "test_result.to_pickle('result_test.pkl')\n",
    "\n",
    "print(\"Сумма участников во всех турнирах 2019г\", train_result.shape)\n",
    "print(\"Сумма участников во всех турнирах 2020г:\", test_result.shape)\n",
    "display(train_result.head(2))"
   ]
  },
  {
   "cell_type": "code",
   "execution_count": 26,
   "metadata": {},
   "outputs": [
    {
     "name": "stdout",
     "output_type": "stream",
     "text": [
      "Выборка соревнований для обучения: 675\n",
      "Выборка соревнований для теста: 173\n"
     ]
    }
   ],
   "source": [
    "print(\"Выборка соревнований для обучения:\", data_result[data_result[\"year\"] == 2019].tournament.nunique())\n",
    "print(\"Выборка соревнований для теста:\", data_result[data_result[\"year\"] == 2020].tournament.nunique())"
   ]
  },
  {
   "cell_type": "code",
   "execution_count": 113,
   "metadata": {},
   "outputs": [
    {
     "data": {
      "text/plain": [
       "((414774, 8), (99757, 8))"
      ]
     },
     "execution_count": 113,
     "metadata": {},
     "output_type": "execute_result"
    }
   ],
   "source": [
    "train_result = pd.read_pickle('result_train.pkl')\n",
    "test_result = pd.read_pickle('result_test.pkl')\n",
    "train_result.shape, test_result.shape"
   ]
  },
  {
   "cell_type": "code",
   "execution_count": 114,
   "metadata": {},
   "outputs": [
    {
     "name": "stdout",
     "output_type": "stream",
     "text": [
      "Количество участников в 2019г:  57424\n",
      "Количество участников в 2020г:  22946\n"
     ]
    }
   ],
   "source": [
    "players_train_ids = set(train_result.player_id.to_list())\n",
    "players_test_ids = set(test_result.player_id.to_list())\n",
    "print(\"Количество участников в 2019г: \", len(players_train_ids))\n",
    "print(\"Количество участников в 2020г: \", len(players_test_ids))"
   ]
  },
  {
   "cell_type": "markdown",
   "metadata": {},
   "source": [
    "### Часть 2.\n",
    "\n",
    "Постройте baseline-модель на основе линейной или логистической регрессии, которая будет обучать рейтинг-лист игроков. Замечания и подсказки:\n",
    "  - повопросные результаты — это фактически результаты броска монетки, и их предсказание скорее всего имеет отношение к бинарной классификации;\n",
    "  - в разных турнирах вопросы совсем разного уровня сложности, поэтому модель должна это учитывать; скорее всего, модель должна будет явно обучать не только силу каждого игрока, но и сложность каждого вопроса;\n",
    "  - для baseline-модели можно забыть о командах и считать, что повопросные результаты команды просто относятся к каждому из её игроков.\n"
   ]
  },
  {
   "cell_type": "code",
   "execution_count": 111,
   "metadata": {},
   "outputs": [
    {
     "data": {
      "text/plain": [
       "57424"
      ]
     },
     "execution_count": 111,
     "metadata": {},
     "output_type": "execute_result"
    }
   ],
   "source": [
    "len(players_train_ids)"
   ]
  },
  {
   "cell_type": "code",
   "execution_count": 66,
   "metadata": {},
   "outputs": [],
   "source": [
    "enum_players_ids = {k: i for i, k in enumerate(players_train_ids)}\n",
    "tournament_new_id_map = {k: i for i, k in enumerate(set(train_result[\"tournament_id].to_list()))}\n",
    "\n",
    "train_result['player_new_id'] = train_result['player_id'].map(enum_players_ids)\n",
    "train_result['tournament_new_id'] = train_result['tournament_id'].map(tournament_new_id_map)\n",
    "test_result['player_new_id'] = test_result['player_id'].map(enum_players_ids)\n",
    "\n",
    "tournaments_max_questions = train_result.groupby('tournament_new_id')['mask_length'].max()\n",
    "tournament_question_start_id_dict = dict(tournaments_max_questions.cumsum() - 36)"
   ]
  },
  {
   "cell_type": "code",
   "execution_count": 108,
   "metadata": {},
   "outputs": [
    {
     "data": {
      "text/plain": [
       "414774"
      ]
     },
     "execution_count": 108,
     "metadata": {},
     "output_type": "execute_result"
    }
   ],
   "source": [
    "train_result.shape[0]"
   ]
  },
  {
   "cell_type": "code",
   "execution_count": 74,
   "metadata": {},
   "outputs": [
    {
     "name": "stdout",
     "output_type": "stream",
     "text": [
      "Wall time: 44.2 s\n"
     ]
    }
   ],
   "source": [
    "%%time\n",
    "X, y = [], []\n",
    "for mask, playes_id, tournament_id  in zip(train_result['mask'], train_result['player_new_id'], train_result['tournament_new_id']):\n",
    "    for i, target in enumerate(mask):\n",
    "        assert target in ['0', '1'], f'Got incorrect mask value: {target} (tournament_id={tid}, player_id={pid})'\n",
    "        if target == '1':\n",
    "            target = 1\n",
    "        else:\n",
    "            target = 0\n",
    "        question_id = tournament_question_start_id_dict[tournament_id] + i\n",
    "        X.append([question_id, playes_id])\n",
    "        y.append(target)\n",
    "train_X, train_y = np.array(X), np.array(y)"
   ]
  },
  {
   "cell_type": "code",
   "execution_count": 77,
   "metadata": {},
   "outputs": [
    {
     "data": {
      "text/plain": [
       "((17753544, 2), (17753544,))"
      ]
     },
     "execution_count": 77,
     "metadata": {},
     "output_type": "execute_result"
    }
   ],
   "source": [
    "train_X.shape, train_y.shape"
   ]
  },
  {
   "cell_type": "code",
   "execution_count": 109,
   "metadata": {},
   "outputs": [
    {
     "data": {
      "text/plain": [
       "tournament_id                                        4772\n",
       "year                                                 2019\n",
       "team_id                                             45556\n",
       "mask                 111111111011111110111111111100010010\n",
       "questionsTotal                                       28.0\n",
       "mask_length                                            36\n",
       "player_id                                            6212\n",
       "player_name                        Выменец Юрий Яковлевич\n",
       "player_new_id                                           0\n",
       "tournament_new_id                                       0\n",
       "Name: 0, dtype: object"
      ]
     },
     "metadata": {},
     "output_type": "display_data"
    }
   ],
   "source": [
    "for ind in range(train_result.shape[0]):\n",
    "    display(train_result.iloc[ind])\n",
    "    break"
   ]
  },
  {
   "cell_type": "code",
   "execution_count": null,
   "metadata": {},
   "outputs": [],
   "source": []
  },
  {
   "cell_type": "code",
   "execution_count": null,
   "metadata": {},
   "outputs": [],
   "source": []
  },
  {
   "cell_type": "code",
   "execution_count": null,
   "metadata": {},
   "outputs": [],
   "source": []
  },
  {
   "cell_type": "code",
   "execution_count": 82,
   "metadata": {},
   "outputs": [
    {
     "data": {
      "text/plain": [
       "33303"
      ]
     },
     "execution_count": 82,
     "metadata": {},
     "output_type": "execute_result"
    }
   ],
   "source": [
    "question_max_token = tournaments_max_questions.cumsum().max()\n",
    "question_max_token"
   ]
  },
  {
   "cell_type": "code",
   "execution_count": 89,
   "metadata": {},
   "outputs": [],
   "source": [
    "def to_csr(X):\n",
    "    x_rows = np.repeat(np.arange(X.shape[0]), 2)\n",
    "    x_cols = X.copy()\n",
    "    x_cols[:,1] += question_max_token + 1\n",
    "    x_cols = x_cols.ravel()\n",
    "    x_values = np.ones(X.shape[0] * 2, dtype=np.uint8)\n",
    "    csr_x = csr_matrix((x_values, (x_rows, x_cols)), dtype=np.uint8)\n",
    "    return csr_x\n",
    "\n",
    "train_X_csr = to_csr(train_X)"
   ]
  },
  {
   "cell_type": "code",
   "execution_count": 92,
   "metadata": {},
   "outputs": [
    {
     "name": "stdout",
     "output_type": "stream",
     "text": [
      "Wall time: 2min 32s\n"
     ]
    },
    {
     "data": {
      "text/plain": [
       "LogisticRegression(fit_intercept=False, max_iter=300)"
      ]
     },
     "execution_count": 92,
     "metadata": {},
     "output_type": "execute_result"
    }
   ],
   "source": [
    "%%time\n",
    "model = LogisticRegression(max_iter=300, solver=\"lbfgs\", fit_intercept=False)\n",
    "model.fit(train_X_csr, train_y)\n",
    "print(\"Mean accuracy:\", model.score(train_X_csr, train_y))"
   ]
  },
  {
   "cell_type": "code",
   "execution_count": 94,
   "metadata": {},
   "outputs": [],
   "source": [
    "player_weights = model.coef_[0, question_max_token + 1:]\n",
    "players_rating = {i:rating for i, rating in enumerate(player_weights)}"
   ]
  },
  {
   "cell_type": "code",
   "execution_count": 97,
   "metadata": {},
   "outputs": [
    {
     "data": {
      "text/plain": [
       "(57424,)"
      ]
     },
     "execution_count": 97,
     "metadata": {},
     "output_type": "execute_result"
    }
   ],
   "source": [
    "player_weights.shape, len(players_rating)"
   ]
  },
  {
   "cell_type": "code",
   "execution_count": 103,
   "metadata": {},
   "outputs": [
    {
     "data": {
      "text/html": [
       "<div>\n",
       "<style scoped>\n",
       "    .dataframe tbody tr th:only-of-type {\n",
       "        vertical-align: middle;\n",
       "    }\n",
       "\n",
       "    .dataframe tbody tr th {\n",
       "        vertical-align: top;\n",
       "    }\n",
       "\n",
       "    .dataframe thead th {\n",
       "        text-align: right;\n",
       "    }\n",
       "</style>\n",
       "<table border=\"1\" class=\"dataframe\">\n",
       "  <thead>\n",
       "    <tr style=\"text-align: right;\">\n",
       "      <th></th>\n",
       "      <th>player_name</th>\n",
       "      <th>player_new_id</th>\n",
       "      <th>rating</th>\n",
       "    </tr>\n",
       "  </thead>\n",
       "  <tbody>\n",
       "    <tr>\n",
       "      <th>0</th>\n",
       "      <td>Смирнов Сергей Анатольевич</td>\n",
       "      <td>131</td>\n",
       "      <td>3.467645</td>\n",
       "    </tr>\n",
       "    <tr>\n",
       "      <th>1</th>\n",
       "      <td>Бурак Ирина Викторовна</td>\n",
       "      <td>122</td>\n",
       "      <td>3.132473</td>\n",
       "    </tr>\n",
       "    <tr>\n",
       "      <th>2</th>\n",
       "      <td>Вакуленко Сергей Владимирович</td>\n",
       "      <td>168</td>\n",
       "      <td>2.718609</td>\n",
       "    </tr>\n",
       "    <tr>\n",
       "      <th>3</th>\n",
       "      <td>Руссо Максим Михайлович</td>\n",
       "      <td>8223</td>\n",
       "      <td>2.659385</td>\n",
       "    </tr>\n",
       "    <tr>\n",
       "      <th>4</th>\n",
       "      <td>Брутер Александра Владимировна</td>\n",
       "      <td>5957</td>\n",
       "      <td>2.547613</td>\n",
       "    </tr>\n",
       "    <tr>\n",
       "      <th>5</th>\n",
       "      <td>Семушин Иван Николаевич</td>\n",
       "      <td>1208</td>\n",
       "      <td>2.522397</td>\n",
       "    </tr>\n",
       "    <tr>\n",
       "      <th>6</th>\n",
       "      <td>Савченков Михаил Владимирович</td>\n",
       "      <td>1212</td>\n",
       "      <td>2.416838</td>\n",
       "    </tr>\n",
       "    <tr>\n",
       "      <th>7</th>\n",
       "      <td>Выменец Юрий Яковлевич</td>\n",
       "      <td>0</td>\n",
       "      <td>2.383318</td>\n",
       "    </tr>\n",
       "    <tr>\n",
       "      <th>8</th>\n",
       "      <td>Спешков Сергей Леонидович</td>\n",
       "      <td>8244</td>\n",
       "      <td>2.341007</td>\n",
       "    </tr>\n",
       "    <tr>\n",
       "      <th>9</th>\n",
       "      <td>Либер Александр Витальевич</td>\n",
       "      <td>1</td>\n",
       "      <td>2.332709</td>\n",
       "    </tr>\n",
       "    <tr>\n",
       "      <th>10</th>\n",
       "      <td>Мереминский Станислав Григорьевич</td>\n",
       "      <td>1209</td>\n",
       "      <td>2.207771</td>\n",
       "    </tr>\n",
       "    <tr>\n",
       "      <th>11</th>\n",
       "      <td>Топчий Иван Александрович</td>\n",
       "      <td>72</td>\n",
       "      <td>2.192980</td>\n",
       "    </tr>\n",
       "    <tr>\n",
       "      <th>12</th>\n",
       "      <td>Родионов Дмитрий Александрович</td>\n",
       "      <td>22</td>\n",
       "      <td>2.136503</td>\n",
       "    </tr>\n",
       "    <tr>\n",
       "      <th>13</th>\n",
       "      <td>Саксонов Антон Владимирович</td>\n",
       "      <td>9664</td>\n",
       "      <td>2.115395</td>\n",
       "    </tr>\n",
       "    <tr>\n",
       "      <th>14</th>\n",
       "      <td>Вальтер Дмитрий Олегович</td>\n",
       "      <td>33098</td>\n",
       "      <td>2.104252</td>\n",
       "    </tr>\n",
       "  </tbody>\n",
       "</table>\n",
       "</div>"
      ],
      "text/plain": [
       "                          player_name  player_new_id    rating\n",
       "0          Смирнов Сергей Анатольевич            131  3.467645\n",
       "1              Бурак Ирина Викторовна            122  3.132473\n",
       "2       Вакуленко Сергей Владимирович            168  2.718609\n",
       "3             Руссо Максим Михайлович           8223  2.659385\n",
       "4      Брутер Александра Владимировна           5957  2.547613\n",
       "5             Семушин Иван Николаевич           1208  2.522397\n",
       "6       Савченков Михаил Владимирович           1212  2.416838\n",
       "7              Выменец Юрий Яковлевич              0  2.383318\n",
       "8           Спешков Сергей Леонидович           8244  2.341007\n",
       "9          Либер Александр Витальевич              1  2.332709\n",
       "10  Мереминский Станислав Григорьевич           1209  2.207771\n",
       "11          Топчий Иван Александрович             72  2.192980\n",
       "12     Родионов Дмитрий Александрович             22  2.136503\n",
       "13        Саксонов Антон Владимирович           9664  2.115395\n",
       "14           Вальтер Дмитрий Олегович          33098  2.104252"
      ]
     },
     "execution_count": 103,
     "metadata": {},
     "output_type": "execute_result"
    }
   ],
   "source": [
    "players_rating_df = train_result[['player_name', 'player_new_id']].drop_duplicates(subset=['player_new_id'])\n",
    "players_rating_df['rating'] = players_rating_df['player_new_id'].map(players_rating)\n",
    "players_rating_df = players_rating_df.sort_values(by='rating', ascending=False)\n",
    "players_rating_df = players_rating_df.reset_index(drop=True)\n",
    "players_rating_df.head(15)"
   ]
  },
  {
   "cell_type": "code",
   "execution_count": 106,
   "metadata": {},
   "outputs": [
    {
     "data": {
      "text/html": [
       "<div>\n",
       "<style scoped>\n",
       "    .dataframe tbody tr th:only-of-type {\n",
       "        vertical-align: middle;\n",
       "    }\n",
       "\n",
       "    .dataframe tbody tr th {\n",
       "        vertical-align: top;\n",
       "    }\n",
       "\n",
       "    .dataframe thead th {\n",
       "        text-align: right;\n",
       "    }\n",
       "</style>\n",
       "<table border=\"1\" class=\"dataframe\">\n",
       "  <thead>\n",
       "    <tr style=\"text-align: right;\">\n",
       "      <th></th>\n",
       "      <th>player_name</th>\n",
       "      <th>player_new_id</th>\n",
       "      <th>rating</th>\n",
       "    </tr>\n",
       "  </thead>\n",
       "  <tbody>\n",
       "    <tr>\n",
       "      <th>15528</th>\n",
       "      <td>Николенко Сергей Игоревич</td>\n",
       "      <td>3</td>\n",
       "      <td>-0.338739</td>\n",
       "    </tr>\n",
       "  </tbody>\n",
       "</table>\n",
       "</div>"
      ],
      "text/plain": [
       "                     player_name  player_new_id    rating\n",
       "15528  Николенко Сергей Игоревич              3 -0.338739"
      ]
     },
     "execution_count": 106,
     "metadata": {},
     "output_type": "execute_result"
    }
   ],
   "source": [
    "players_rating_df[players_rating_df['player_name'] == 'Николенко Сергей Игоревич']"
   ]
  },
  {
   "cell_type": "code",
   "execution_count": null,
   "metadata": {},
   "outputs": [],
   "source": []
  },
  {
   "cell_type": "code",
   "execution_count": 29,
   "metadata": {},
   "outputs": [],
   "source": [
    "class PlayerTokenizer(object):\n",
    "    \"\"\"Назначает каждому игроку уникальное натуральное число.\n",
    "    Числа идут подряд начиная с нуля.\"\"\"\n",
    "    def __init__(self):\n",
    "        self.player2token = {}\n",
    "        self.token2player = {}\n",
    "    \n",
    "    def fit(self, results):\n",
    "        player_ids = results.player_id.unique()\n",
    "        self.player2token = {id: i for i, id in enumerate(player_ids)}\n",
    "        self.token2player = {i: id for i, id in enumerate(player_ids)}\n",
    "        return self\n",
    "    \n",
    "    def get_token(self, player_id):\n",
    "        return self.player2token[player_id] if player_id in self.player2token else None\n",
    "    \n",
    "    def get_player(self, token):\n",
    "        return self.token2player[token] if token in self.token2player else None"
   ]
  },
  {
   "cell_type": "code",
   "execution_count": 30,
   "metadata": {},
   "outputs": [
    {
     "data": {
      "text/plain": [
       "(158635, 158635)"
      ]
     },
     "execution_count": 30,
     "metadata": {},
     "output_type": "execute_result"
    }
   ],
   "source": [
    "pt = PlayerTokenizer().fit(train_result)\n",
    "(158635), pt.get_player(pt.get_token(158635))"
   ]
  },
  {
   "cell_type": "code",
   "execution_count": 31,
   "metadata": {},
   "outputs": [],
   "source": [
    "class QuestionTokenizer(object):\n",
    "    \"\"\"Назначает каждому вопросу уникальное натуральное число.\n",
    "    Числа идут подряд начиная с нуля.\"\"\"\n",
    "    def __init__(self):\n",
    "        self.question2token = {}\n",
    "        self.token2question = {}\n",
    "        self.max_token = None\n",
    "    \n",
    "    def fit(self, results):\n",
    "        results = results.drop_duplicates('tournament')\n",
    "        last_id = 0\n",
    "        for tournament_id, mask_len in zip(results.tournament_id, results.mask_len):\n",
    "            tournament_tokens = np.arange(last_id, last_id + mask_len)\n",
    "            for i, tokens in enumerate(tournament_tokens):\n",
    "                self.token2question[tokens] = (tournament_id, i)\n",
    "            last_id += mask_len\n",
    "            self.question2token[tournament_id] = tournament_tokens\n",
    "        self.max_token = last_id - 1\n",
    "        return self\n",
    "    \n",
    "    def get_token(self, tournament_id, question_index):\n",
    "        return self.question2token[tournament_id][question_index]\n",
    "    \n",
    "    def get_question(self, token):\n",
    "        return self.token2question[token]"
   ]
  },
  {
   "cell_type": "code",
   "execution_count": 32,
   "metadata": {},
   "outputs": [
    {
     "ename": "KeyError",
     "evalue": "Index(['tournament'], dtype='object')",
     "output_type": "error",
     "traceback": [
      "\u001b[1;31m---------------------------------------------------------------------------\u001b[0m",
      "\u001b[1;31mKeyError\u001b[0m                                  Traceback (most recent call last)",
      "\u001b[1;32m<ipython-input-32-4100c262c060>\u001b[0m in \u001b[0;36m<module>\u001b[1;34m\u001b[0m\n\u001b[1;32m----> 1\u001b[1;33m \u001b[0mqt\u001b[0m \u001b[1;33m=\u001b[0m \u001b[0mQuestionTokenizer\u001b[0m\u001b[1;33m(\u001b[0m\u001b[1;33m)\u001b[0m\u001b[1;33m.\u001b[0m\u001b[0mfit\u001b[0m\u001b[1;33m(\u001b[0m\u001b[0mtrain_result\u001b[0m\u001b[1;33m)\u001b[0m\u001b[1;33m\u001b[0m\u001b[1;33m\u001b[0m\u001b[0m\n\u001b[0m",
      "\u001b[1;32m<ipython-input-31-6a09c08df487>\u001b[0m in \u001b[0;36mfit\u001b[1;34m(self, results)\u001b[0m\n\u001b[0;32m      8\u001b[0m \u001b[1;33m\u001b[0m\u001b[0m\n\u001b[0;32m      9\u001b[0m     \u001b[1;32mdef\u001b[0m \u001b[0mfit\u001b[0m\u001b[1;33m(\u001b[0m\u001b[0mself\u001b[0m\u001b[1;33m,\u001b[0m \u001b[0mresults\u001b[0m\u001b[1;33m)\u001b[0m\u001b[1;33m:\u001b[0m\u001b[1;33m\u001b[0m\u001b[1;33m\u001b[0m\u001b[0m\n\u001b[1;32m---> 10\u001b[1;33m         \u001b[0mresults\u001b[0m \u001b[1;33m=\u001b[0m \u001b[0mresults\u001b[0m\u001b[1;33m.\u001b[0m\u001b[0mdrop_duplicates\u001b[0m\u001b[1;33m(\u001b[0m\u001b[1;34m'tournament'\u001b[0m\u001b[1;33m)\u001b[0m\u001b[1;33m\u001b[0m\u001b[1;33m\u001b[0m\u001b[0m\n\u001b[0m\u001b[0;32m     11\u001b[0m         \u001b[0mlast_id\u001b[0m \u001b[1;33m=\u001b[0m \u001b[1;36m0\u001b[0m\u001b[1;33m\u001b[0m\u001b[1;33m\u001b[0m\u001b[0m\n\u001b[0;32m     12\u001b[0m         \u001b[1;32mfor\u001b[0m \u001b[0mtournament_id\u001b[0m\u001b[1;33m,\u001b[0m \u001b[0mmask_len\u001b[0m \u001b[1;32min\u001b[0m \u001b[0mzip\u001b[0m\u001b[1;33m(\u001b[0m\u001b[0mresults\u001b[0m\u001b[1;33m.\u001b[0m\u001b[0mtournament_id\u001b[0m\u001b[1;33m,\u001b[0m \u001b[0mresults\u001b[0m\u001b[1;33m.\u001b[0m\u001b[0mmask_len\u001b[0m\u001b[1;33m)\u001b[0m\u001b[1;33m:\u001b[0m\u001b[1;33m\u001b[0m\u001b[1;33m\u001b[0m\u001b[0m\n",
      "\u001b[1;32m~\\anaconda3\\lib\\site-packages\\pandas\\core\\frame.py\u001b[0m in \u001b[0;36mdrop_duplicates\u001b[1;34m(self, subset, keep, inplace, ignore_index)\u001b[0m\n\u001b[0;32m   5266\u001b[0m         \u001b[0minplace\u001b[0m \u001b[1;33m=\u001b[0m \u001b[0mvalidate_bool_kwarg\u001b[0m\u001b[1;33m(\u001b[0m\u001b[0minplace\u001b[0m\u001b[1;33m,\u001b[0m \u001b[1;34m\"inplace\"\u001b[0m\u001b[1;33m)\u001b[0m\u001b[1;33m\u001b[0m\u001b[1;33m\u001b[0m\u001b[0m\n\u001b[0;32m   5267\u001b[0m         \u001b[0mignore_index\u001b[0m \u001b[1;33m=\u001b[0m \u001b[0mvalidate_bool_kwarg\u001b[0m\u001b[1;33m(\u001b[0m\u001b[0mignore_index\u001b[0m\u001b[1;33m,\u001b[0m \u001b[1;34m\"ignore_index\"\u001b[0m\u001b[1;33m)\u001b[0m\u001b[1;33m\u001b[0m\u001b[1;33m\u001b[0m\u001b[0m\n\u001b[1;32m-> 5268\u001b[1;33m         \u001b[0mduplicated\u001b[0m \u001b[1;33m=\u001b[0m \u001b[0mself\u001b[0m\u001b[1;33m.\u001b[0m\u001b[0mduplicated\u001b[0m\u001b[1;33m(\u001b[0m\u001b[0msubset\u001b[0m\u001b[1;33m,\u001b[0m \u001b[0mkeep\u001b[0m\u001b[1;33m=\u001b[0m\u001b[0mkeep\u001b[0m\u001b[1;33m)\u001b[0m\u001b[1;33m\u001b[0m\u001b[1;33m\u001b[0m\u001b[0m\n\u001b[0m\u001b[0;32m   5269\u001b[0m \u001b[1;33m\u001b[0m\u001b[0m\n\u001b[0;32m   5270\u001b[0m         \u001b[0mresult\u001b[0m \u001b[1;33m=\u001b[0m \u001b[0mself\u001b[0m\u001b[1;33m[\u001b[0m\u001b[1;33m-\u001b[0m\u001b[0mduplicated\u001b[0m\u001b[1;33m]\u001b[0m\u001b[1;33m\u001b[0m\u001b[1;33m\u001b[0m\u001b[0m\n",
      "\u001b[1;32m~\\anaconda3\\lib\\site-packages\\pandas\\core\\frame.py\u001b[0m in \u001b[0;36mduplicated\u001b[1;34m(self, subset, keep)\u001b[0m\n\u001b[0;32m   5400\u001b[0m         \u001b[0mdiff\u001b[0m \u001b[1;33m=\u001b[0m \u001b[0mIndex\u001b[0m\u001b[1;33m(\u001b[0m\u001b[0msubset\u001b[0m\u001b[1;33m)\u001b[0m\u001b[1;33m.\u001b[0m\u001b[0mdifference\u001b[0m\u001b[1;33m(\u001b[0m\u001b[0mself\u001b[0m\u001b[1;33m.\u001b[0m\u001b[0mcolumns\u001b[0m\u001b[1;33m)\u001b[0m\u001b[1;33m\u001b[0m\u001b[1;33m\u001b[0m\u001b[0m\n\u001b[0;32m   5401\u001b[0m         \u001b[1;32mif\u001b[0m \u001b[1;32mnot\u001b[0m \u001b[0mdiff\u001b[0m\u001b[1;33m.\u001b[0m\u001b[0mempty\u001b[0m\u001b[1;33m:\u001b[0m\u001b[1;33m\u001b[0m\u001b[1;33m\u001b[0m\u001b[0m\n\u001b[1;32m-> 5402\u001b[1;33m             \u001b[1;32mraise\u001b[0m \u001b[0mKeyError\u001b[0m\u001b[1;33m(\u001b[0m\u001b[0mdiff\u001b[0m\u001b[1;33m)\u001b[0m\u001b[1;33m\u001b[0m\u001b[1;33m\u001b[0m\u001b[0m\n\u001b[0m\u001b[0;32m   5403\u001b[0m \u001b[1;33m\u001b[0m\u001b[0m\n\u001b[0;32m   5404\u001b[0m         \u001b[0mvals\u001b[0m \u001b[1;33m=\u001b[0m \u001b[1;33m(\u001b[0m\u001b[0mcol\u001b[0m\u001b[1;33m.\u001b[0m\u001b[0mvalues\u001b[0m \u001b[1;32mfor\u001b[0m \u001b[0mname\u001b[0m\u001b[1;33m,\u001b[0m \u001b[0mcol\u001b[0m \u001b[1;32min\u001b[0m \u001b[0mself\u001b[0m\u001b[1;33m.\u001b[0m\u001b[0mitems\u001b[0m\u001b[1;33m(\u001b[0m\u001b[1;33m)\u001b[0m \u001b[1;32mif\u001b[0m \u001b[0mname\u001b[0m \u001b[1;32min\u001b[0m \u001b[0msubset\u001b[0m\u001b[1;33m)\u001b[0m\u001b[1;33m\u001b[0m\u001b[1;33m\u001b[0m\u001b[0m\n",
      "\u001b[1;31mKeyError\u001b[0m: Index(['tournament'], dtype='object')"
     ]
    }
   ],
   "source": [
    "qt = QuestionTokenizer().fit(train_result)"
   ]
  },
  {
   "cell_type": "code",
   "execution_count": null,
   "metadata": {},
   "outputs": [],
   "source": []
  },
  {
   "cell_type": "code",
   "execution_count": null,
   "metadata": {},
   "outputs": [],
   "source": []
  },
  {
   "cell_type": "code",
   "execution_count": null,
   "metadata": {},
   "outputs": [],
   "source": []
  },
  {
   "cell_type": "code",
   "execution_count": null,
   "metadata": {},
   "outputs": [],
   "source": []
  },
  {
   "cell_type": "code",
   "execution_count": null,
   "metadata": {},
   "outputs": [],
   "source": []
  },
  {
   "cell_type": "code",
   "execution_count": null,
   "metadata": {},
   "outputs": [],
   "source": []
  },
  {
   "cell_type": "code",
   "execution_count": null,
   "metadata": {},
   "outputs": [],
   "source": []
  }
 ],
 "metadata": {
  "kernelspec": {
   "display_name": "Python 3",
   "language": "python",
   "name": "python3"
  },
  "language_info": {
   "codemirror_mode": {
    "name": "ipython",
    "version": 3
   },
   "file_extension": ".py",
   "mimetype": "text/x-python",
   "name": "python",
   "nbconvert_exporter": "python",
   "pygments_lexer": "ipython3",
   "version": "3.8.3"
  }
 },
 "nbformat": 4,
 "nbformat_minor": 4
}
