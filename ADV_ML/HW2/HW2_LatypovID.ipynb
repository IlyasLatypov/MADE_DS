{
 "cells": [
  {
   "cell_type": "markdown",
   "metadata": {},
   "source": [
    "# Продвинутое машинное обучение: ДЗ 2\n",
    "## *Латыпов Ильяс, группа DS-22*\n",
    "### Часть 1.\n",
    "\n",
    "Прочитайте и проанализируйте данные, выберите турниры, в которых есть данные о составах команд и повопросных результатах (поле mask в results.pkl). Для унификации предлагаю:\n",
    "   - взять в тренировочный набор турниры с dateStart из 2019 года; \n",
    "   - в тестовый — турниры с dateStart из 2020 года.\n"
   ]
  },
  {
   "cell_type": "code",
   "execution_count": 85,
   "metadata": {},
   "outputs": [],
   "source": [
    "import numpy as np\n",
    "import pandas as pd\n",
    "from scipy.sparse import csr_matrix\n",
    "from sklearn.linear_model import LogisticRegression, LinearRegression\n",
    "\n",
    "import zipfile\n",
    "import pickle\n",
    "\n",
    "import matplotlib.pyplot as plt\n",
    "import seaborn as sns\n",
    "%matplotlib inline\n",
    "sns.set()\n",
    "\n",
    "\n",
    "# from collections import defaultdict\n",
    "# from scipy.stats import spearmanr, kendalltau"
   ]
  },
  {
   "cell_type": "markdown",
   "metadata": {},
   "source": [
    "# Загрузка и обработка данных"
   ]
  },
  {
   "cell_type": "code",
   "execution_count": 2,
   "metadata": {},
   "outputs": [
    {
     "name": "stdout",
     "output_type": "stream",
     "text": [
      "Содержание zip файла:\n",
      "players.pkl\n",
      "results.pkl\n",
      "tournaments.pkl\n"
     ]
    }
   ],
   "source": [
    "myzip = zipfile.ZipFile(\"D:\\\\ID\\\\Course\\\\MADE\\\\2.Adv_ML\\\\HW\\\\chgk.zip\")\n",
    "print(\"Содержание zip файла:\")\n",
    "for file_name in myzip.namelist():\n",
    "    print(file_name)"
   ]
  },
  {
   "cell_type": "markdown",
   "metadata": {},
   "source": [
    "### Загрузка tournaments.pkl"
   ]
  },
  {
   "cell_type": "code",
   "execution_count": 3,
   "metadata": {},
   "outputs": [
    {
     "name": "stdout",
     "output_type": "stream",
     "text": [
      "Количество соревнований в 2019 в tournaments.pkl: (687, 3)\n",
      "Количество соревнований в 2020 в tournaments.pkl: (418, 3)\n"
     ]
    }
   ],
   "source": [
    "data_tournament = pd.DataFrame(pickle.load(myzip.open('tournaments.pkl', 'r'))).T\n",
    "data_tournament[\"year\"] = data_tournament['dateStart'].apply(lambda x: int(x[:4]) if x is not None else None)\n",
    "data_tournament['sum_questionQty'] = data_tournament['questionQty'].apply(lambda x: sum(x.values()) if x is not None else 0)\n",
    "train_tournament = data_tournament[data_tournament['year']==2019]\n",
    "test_tournament = data_tournament[data_tournament['year']==2020]\n",
    "train_tournament = train_tournament[[\"id\", \"year\", \"sum_questionQty\"]]\n",
    "test_tournament = test_tournament[[\"id\", \"year\", \"sum_questionQty\"]]\n",
    "print(\"Количество соревнований в 2019 в tournaments.pkl:\", train_tournament.shape)\n",
    "print(\"Количество соревнований в 2020 в tournaments.pkl:\", test_tournament.shape)"
   ]
  },
  {
   "cell_type": "markdown",
   "metadata": {},
   "source": [
    "### Загрузка players.pkl"
   ]
  },
  {
   "cell_type": "code",
   "execution_count": 4,
   "metadata": {},
   "outputs": [
    {
     "name": "stdout",
     "output_type": "stream",
     "text": [
      "Общее количество участников в players.pkl: (204063, 4)\n"
     ]
    },
    {
     "data": {
      "text/html": [
       "<div>\n",
       "<style scoped>\n",
       "    .dataframe tbody tr th:only-of-type {\n",
       "        vertical-align: middle;\n",
       "    }\n",
       "\n",
       "    .dataframe tbody tr th {\n",
       "        vertical-align: top;\n",
       "    }\n",
       "\n",
       "    .dataframe thead th {\n",
       "        text-align: right;\n",
       "    }\n",
       "</style>\n",
       "<table border=\"1\" class=\"dataframe\">\n",
       "  <thead>\n",
       "    <tr style=\"text-align: right;\">\n",
       "      <th></th>\n",
       "      <th>id</th>\n",
       "      <th>name</th>\n",
       "      <th>patronymic</th>\n",
       "      <th>surname</th>\n",
       "    </tr>\n",
       "  </thead>\n",
       "  <tbody>\n",
       "    <tr>\n",
       "      <th>217116</th>\n",
       "      <td>217116</td>\n",
       "      <td>Владимир</td>\n",
       "      <td>Александрович</td>\n",
       "      <td>Варивода</td>\n",
       "    </tr>\n",
       "    <tr>\n",
       "      <th>152643</th>\n",
       "      <td>152643</td>\n",
       "      <td>Ульяна</td>\n",
       "      <td>Юрьевна</td>\n",
       "      <td>Кобылец</td>\n",
       "    </tr>\n",
       "  </tbody>\n",
       "</table>\n",
       "</div>"
      ],
      "text/plain": [
       "            id      name     patronymic   surname\n",
       "217116  217116  Владимир  Александрович  Варивода\n",
       "152643  152643    Ульяна        Юрьевна   Кобылец"
      ]
     },
     "metadata": {},
     "output_type": "display_data"
    }
   ],
   "source": [
    "data_players = pd.DataFrame(pickle.load(myzip.open('players.pkl', 'r'))).T\n",
    "print(\"Общее количество участников в players.pkl:\", data_players.shape)\n",
    "display(data_players.sample(2))"
   ]
  },
  {
   "cell_type": "markdown",
   "metadata": {},
   "source": [
    "### Загрузка results.pkl"
   ]
  },
  {
   "cell_type": "code",
   "execution_count": 25,
   "metadata": {},
   "outputs": [
    {
     "name": "stdout",
     "output_type": "stream",
     "text": [
      "Сумма участников во всех турнирах 2019г (414774, 8)\n",
      "Сумма участников во всех турнирах 2020г: (99757, 8)\n"
     ]
    },
    {
     "data": {
      "text/html": [
       "<div>\n",
       "<style scoped>\n",
       "    .dataframe tbody tr th:only-of-type {\n",
       "        vertical-align: middle;\n",
       "    }\n",
       "\n",
       "    .dataframe tbody tr th {\n",
       "        vertical-align: top;\n",
       "    }\n",
       "\n",
       "    .dataframe thead th {\n",
       "        text-align: right;\n",
       "    }\n",
       "</style>\n",
       "<table border=\"1\" class=\"dataframe\">\n",
       "  <thead>\n",
       "    <tr style=\"text-align: right;\">\n",
       "      <th></th>\n",
       "      <th>tournament_id</th>\n",
       "      <th>year</th>\n",
       "      <th>team_id</th>\n",
       "      <th>mask</th>\n",
       "      <th>questionsTotal</th>\n",
       "      <th>mask_length</th>\n",
       "      <th>player_id</th>\n",
       "      <th>player_name</th>\n",
       "    </tr>\n",
       "  </thead>\n",
       "  <tbody>\n",
       "    <tr>\n",
       "      <th>0</th>\n",
       "      <td>4772</td>\n",
       "      <td>2019</td>\n",
       "      <td>45556</td>\n",
       "      <td>111111111011111110111111111100010010</td>\n",
       "      <td>28.0</td>\n",
       "      <td>36</td>\n",
       "      <td>6212</td>\n",
       "      <td>Выменец Юрий Яковлевич</td>\n",
       "    </tr>\n",
       "    <tr>\n",
       "      <th>1</th>\n",
       "      <td>4772</td>\n",
       "      <td>2019</td>\n",
       "      <td>45556</td>\n",
       "      <td>111111111011111110111111111100010010</td>\n",
       "      <td>28.0</td>\n",
       "      <td>36</td>\n",
       "      <td>18332</td>\n",
       "      <td>Либер Александр Витальевич</td>\n",
       "    </tr>\n",
       "  </tbody>\n",
       "</table>\n",
       "</div>"
      ],
      "text/plain": [
       "   tournament_id  year  team_id                                  mask  \\\n",
       "0           4772  2019    45556  111111111011111110111111111100010010   \n",
       "1           4772  2019    45556  111111111011111110111111111100010010   \n",
       "\n",
       "   questionsTotal  mask_length  player_id                 player_name  \n",
       "0            28.0           36       6212      Выменец Юрий Яковлевич  \n",
       "1            28.0           36      18332  Либер Александр Витальевич  "
      ]
     },
     "metadata": {},
     "output_type": "display_data"
    },
    {
     "name": "stdout",
     "output_type": "stream",
     "text": [
      "Wall time: 1min 40s\n"
     ]
    }
   ],
   "source": [
    "%%time\n",
    "results = pickle.load(myzip.open('results.pkl', 'r'))\n",
    "tournament_test_list = test_tournament[\"id\"].to_list() \n",
    "tournament_train_list = train_tournament[\"id\"].to_list()\n",
    "\n",
    "data_result = pd.DataFrame([])\n",
    "for tour in (tournament_train_list + tournament_test_list):\n",
    "    if tour not in results.keys():\n",
    "        print(f\"Не найдено соревнование № {tour} в results.pkl\")\n",
    "        break\n",
    "    cur_tour_df = pd.DataFrame(results[tour])\n",
    "    cur_tour_df[\"tournament\"] = tour\n",
    "    if tour in tournament_train_list:\n",
    "        cur_tour_df[\"year\"] = 2019\n",
    "    else:\n",
    "        cur_tour_df[\"year\"] = 2020\n",
    "    data_result = pd.concat([data_result, cur_tour_df])\n",
    "    \n",
    "data_result[\"teamMembers_empty\"] = data_result[\"teamMembers\"].apply(lambda x: not x) \n",
    "data_result = data_result[(~data_result[\"mask\"].isna()) & (~data_result[\"teamMembers_empty\"])]\n",
    "data_result.drop(columns=[\"teamMembers_empty\"], inplace=True)\n",
    "\n",
    "data_result[\"players_id\"] = data_result[\"teamMembers\"].apply(lambda x: list(map(lambda y: y['player']['id'], x)))\n",
    "data_result[\"players_number\"] = data_result[\"teamMembers\"].apply(lambda x: len(list(map(lambda y: y['player']['id'], x))))\n",
    "data_result[\"players_name\"] = data_result[\"teamMembers\"].apply(lambda x: list(map(lambda y: y['player']['surname'] + \" \" +\n",
    "                                                               y['player']['name'] + \" \" + y['player']['patronymic'], x)))\n",
    "\n",
    "data_result[\"team_id\"] = data_result[\"team\"].apply(lambda x: x['id'])\n",
    "data_result = data_result[[\"tournament\", \"year\", \"team_id\", \"mask\", \"questionsTotal\", \n",
    "                           \"players_id\", \"players_name\", \"players_number\"]]\n",
    "\n",
    "# data_result = data_result[~data_result['mask'].apply(lambda x: \"X\" in x)]\n",
    "data_result['mask'] = data_result['mask'].apply(lambda x: x.replace(\"?\",\"0\").replace(\"-\",\"0\").replace(\"X\",\"\"))\n",
    "data_result[\"mask_length\"] = data_result[\"mask\"].apply(len)\n",
    "\n",
    "temp = pd.DataFrame(data_result.groupby(by = \"tournament\")[\"mask_length\"].max())\n",
    "temp.rename(columns = {\"mask_length\" : \"tour_mask_length\"}, inplace=True)\n",
    "data_result = pd.merge(data_result, temp, on='tournament', how=\"left\")\n",
    "data_result = data_result[data_result[\"mask_length\"] == data_result[\"tour_mask_length\"]]\n",
    "data_result.drop(columns=[\"tour_mask_length\"], inplace=True)\n",
    "\n",
    "# temp = data_tournament[(data_tournament['year']==2019) | (data_tournament['year']==2020)][[\"id\", \"sum_questionQty\"]]\n",
    "# temp.rename(columns = {\"id\" : \"tournament\"}, inplace=True)\n",
    "# data_result = pd.merge(data_result, temp, on='tournament', how=\"left\")\n",
    "# data_result = data_result[data_result[\"mask_length\"]==data_result[\"sum_questionQty\"]]\n",
    "\n",
    "data_result_ext = data_result.loc[data_result.index.repeat(data_result.players_number)]\n",
    "data_result_ext = data_result_ext.reset_index()\n",
    "data_result_ext.drop(columns = [\"index\"], inplace=True)\n",
    "data_result_ext = data_result_ext.reset_index()\n",
    "data_result_ext[\"list_ind\"] = data_result_ext[\"index\"] % data_result_ext[\"players_number\"]\n",
    "data_result_ext[\"player_id\"] = data_result_ext.apply(lambda x: x[\"players_id\"][x[\"list_ind\"]], axis=1)\n",
    "data_result_ext[\"player_name\"] = data_result_ext.apply(lambda x: x[\"players_name\"][x[\"list_ind\"]], axis=1)\n",
    "data_result_ext.drop(columns=[\"players_id\",\"players_name\", \"players_number\", \"list_ind\", \"index\"], inplace=True)\n",
    "data_result_ext.rename(columns = {\"tournament\" : \"tournament_id\"}, inplace=True)\n",
    "\n",
    "train_result = data_result_ext[data_result_ext[\"year\"] == 2019]\n",
    "test_result = data_result_ext[data_result_ext[\"year\"] == 2020]\n",
    "test_result = test_result[test_result[\"player_id\"].isin(set(train_result.player_id.to_list()))]\n",
    "train_result.to_pickle('result_train.pkl')\n",
    "test_result.to_pickle('result_test.pkl')\n",
    "\n",
    "print(\"Сумма участников во всех турнирах 2019г\", train_result.shape)\n",
    "print(\"Сумма участников во всех турнирах 2020г:\", test_result.shape)\n",
    "display(train_result.head(2))"
   ]
  },
  {
   "cell_type": "code",
   "execution_count": 26,
   "metadata": {},
   "outputs": [
    {
     "name": "stdout",
     "output_type": "stream",
     "text": [
      "Выборка соревнований для обучения: 675\n",
      "Выборка соревнований для теста: 173\n"
     ]
    }
   ],
   "source": [
    "print(\"Выборка соревнований для обучения:\", data_result[data_result[\"year\"] == 2019].tournament.nunique())\n",
    "print(\"Выборка соревнований для теста:\", data_result[data_result[\"year\"] == 2020].tournament.nunique())"
   ]
  },
  {
   "cell_type": "code",
   "execution_count": 176,
   "metadata": {},
   "outputs": [
    {
     "data": {
      "text/plain": [
       "((414774, 8), (99757, 8))"
      ]
     },
     "execution_count": 176,
     "metadata": {},
     "output_type": "execute_result"
    }
   ],
   "source": [
    "train_result = pd.read_pickle('result_train.pkl')\n",
    "test_result = pd.read_pickle('result_test.pkl')\n",
    "train_result.shape, test_result.shape"
   ]
  },
  {
   "cell_type": "code",
   "execution_count": 177,
   "metadata": {},
   "outputs": [
    {
     "name": "stdout",
     "output_type": "stream",
     "text": [
      "Количество участников в 2019г:  57424\n",
      "Количество участников в 2020г:  22946\n"
     ]
    }
   ],
   "source": [
    "players_train_ids = set(train_result.player_id.to_list())\n",
    "players_test_ids = set(test_result.player_id.to_list())\n",
    "print(\"Количество участников в 2019г: \", len(players_train_ids))\n",
    "print(\"Количество участников в 2020г: \", len(players_test_ids))"
   ]
  },
  {
   "cell_type": "markdown",
   "metadata": {},
   "source": [
    "### Часть 2.\n",
    "\n",
    "Постройте baseline-модель на основе линейной или логистической регрессии, которая будет обучать рейтинг-лист игроков. Замечания и подсказки:\n",
    "  - повопросные результаты — это фактически результаты броска монетки, и их предсказание скорее всего имеет отношение к бинарной классификации;\n",
    "  - в разных турнирах вопросы совсем разного уровня сложности, поэтому модель должна это учитывать; скорее всего, модель должна будет явно обучать не только силу каждого игрока, но и сложность каждого вопроса;\n",
    "  - для baseline-модели можно забыть о командах и считать, что повопросные результаты команды просто относятся к каждому из её игроков.\n"
   ]
  },
  {
   "cell_type": "code",
   "execution_count": 178,
   "metadata": {},
   "outputs": [
    {
     "name": "stdout",
     "output_type": "stream",
     "text": [
      "Wall time: 2min 51s\n"
     ]
    },
    {
     "data": {
      "text/plain": [
       "((17753544, 90728), (17753544,))"
      ]
     },
     "execution_count": 178,
     "metadata": {},
     "output_type": "execute_result"
    }
   ],
   "source": [
    "%%time\n",
    "enum_players_ids = {k: i for i, k in enumerate(players_train_ids)}\n",
    "enum_train_tournament_ids = {k: i for i, k in enumerate(set(train_result[\"tournament_id\"].to_list()))}\n",
    "enum_test_tournament_ids = {k: i for i, k in enumerate(set(test_result[\"tournament_id\"].to_list()))}\n",
    "train_result['player_dop_id'] = train_result['player_id'].map(enum_players_ids)\n",
    "train_result['tournament_dop_id'] = train_result['tournament_id'].map(enum_train_tournament_ids)                                                                   \n",
    "test_result['player_dop_id'] = test_result['player_id'].map(enum_players_ids)\n",
    "test_result['tournament_dop_id'] = test_result['tournament_id'].map(enum_test_tournament_ids)\n",
    "\n",
    "temp = train_result.groupby('tournament_dop_id')['mask_length'].max().cumsum()\n",
    "question_numbers = temp.iloc[-1]\n",
    "question_start_ids = dict(temp - temp[0])\n",
    "X = list()\n",
    "y = list()\n",
    "for ind in range(train_result.shape[0]):\n",
    "    question_start_id = question_start_ids[train_result.iloc[ind][\"tournament_dop_id\"]]\n",
    "    player_id = train_result.iloc[ind]['player_dop_id']\n",
    "    mask = train_result.iloc[ind]['mask']\n",
    "    for i, question_result in enumerate(mask):\n",
    "        X.append([question_start_id + i, player_id])                \n",
    "        if question_result == '0':\n",
    "            y.append(0)\n",
    "        else:\n",
    "            y.append(1)\n",
    "        \n",
    "X = np.array(X)\n",
    "y = np.array(y)\n",
    "\n",
    "def convert_to_csr_matrix(X, question_numbers):\n",
    "    x_rows = np.repeat(np.arange(X.shape[0]), 2)\n",
    "    x_new = X.copy()\n",
    "    x_new[:,1] += question_numbers + 1\n",
    "    csr_x = csr_matrix((np.ones(X.shape[0] * 2, dtype=np.uint8), (x_rows, x_new.ravel())), dtype=np.uint8)\n",
    "    return csr_x\n",
    "\n",
    "X_csr = convert_to_csr_matrix(X, question_numbers)\n",
    "X_csr.shape, y.shape"
   ]
  },
  {
   "cell_type": "code",
   "execution_count": 179,
   "metadata": {},
   "outputs": [
    {
     "name": "stdout",
     "output_type": "stream",
     "text": [
      "Mean accuracy: 0.7609300430381675\n",
      "Wall time: 2min 15s\n"
     ]
    }
   ],
   "source": [
    "%%time\n",
    "model = LogisticRegression(max_iter=300, solver=\"lbfgs\", fit_intercept=False)\n",
    "model.fit(X_csr, y)\n",
    "print(\"Mean accuracy:\", model.score(X_csr, y))"
   ]
  },
  {
   "cell_type": "code",
   "execution_count": 209,
   "metadata": {},
   "outputs": [
    {
     "data": {
      "text/html": [
       "<div>\n",
       "<style scoped>\n",
       "    .dataframe tbody tr th:only-of-type {\n",
       "        vertical-align: middle;\n",
       "    }\n",
       "\n",
       "    .dataframe tbody tr th {\n",
       "        vertical-align: top;\n",
       "    }\n",
       "\n",
       "    .dataframe thead th {\n",
       "        text-align: right;\n",
       "    }\n",
       "</style>\n",
       "<table border=\"1\" class=\"dataframe\">\n",
       "  <thead>\n",
       "    <tr style=\"text-align: right;\">\n",
       "      <th></th>\n",
       "      <th>player_dop_id</th>\n",
       "      <th>player_name</th>\n",
       "      <th>rating</th>\n",
       "    </tr>\n",
       "  </thead>\n",
       "  <tbody>\n",
       "    <tr>\n",
       "      <th>0</th>\n",
       "      <td>9646</td>\n",
       "      <td>Руссо Максим Михайлович</td>\n",
       "      <td>3.360885</td>\n",
       "    </tr>\n",
       "    <tr>\n",
       "      <th>1</th>\n",
       "      <td>1452</td>\n",
       "      <td>Брутер Александра Владимировна</td>\n",
       "      <td>3.247109</td>\n",
       "    </tr>\n",
       "    <tr>\n",
       "      <th>2</th>\n",
       "      <td>10176</td>\n",
       "      <td>Семушин Иван Николаевич</td>\n",
       "      <td>3.221678</td>\n",
       "    </tr>\n",
       "    <tr>\n",
       "      <th>3</th>\n",
       "      <td>9831</td>\n",
       "      <td>Савченков Михаил Владимирович</td>\n",
       "      <td>3.115753</td>\n",
       "    </tr>\n",
       "    <tr>\n",
       "      <th>4</th>\n",
       "      <td>10660</td>\n",
       "      <td>Сорожкин Артём Сергеевич</td>\n",
       "      <td>3.046544</td>\n",
       "    </tr>\n",
       "    <tr>\n",
       "      <th>5</th>\n",
       "      <td>10700</td>\n",
       "      <td>Спешков Сергей Леонидович</td>\n",
       "      <td>3.043067</td>\n",
       "    </tr>\n",
       "    <tr>\n",
       "      <th>6</th>\n",
       "      <td>7120</td>\n",
       "      <td>Мереминский Станислав Григорьевич</td>\n",
       "      <td>2.908851</td>\n",
       "    </tr>\n",
       "    <tr>\n",
       "      <th>7</th>\n",
       "      <td>51130</td>\n",
       "      <td>Саксонов Антон Владимирович</td>\n",
       "      <td>2.812316</td>\n",
       "    </tr>\n",
       "    <tr>\n",
       "      <th>8</th>\n",
       "      <td>9154</td>\n",
       "      <td>Прокофьева Ирина Сергеевна</td>\n",
       "      <td>2.788269</td>\n",
       "    </tr>\n",
       "    <tr>\n",
       "      <th>9</th>\n",
       "      <td>6180</td>\n",
       "      <td>Левандовский Михаил Ильич</td>\n",
       "      <td>2.775282</td>\n",
       "    </tr>\n",
       "    <tr>\n",
       "      <th>10</th>\n",
       "      <td>2368</td>\n",
       "      <td>Гилёв Алексей Владимирович</td>\n",
       "      <td>2.753296</td>\n",
       "    </tr>\n",
       "    <tr>\n",
       "      <th>11</th>\n",
       "      <td>7910</td>\n",
       "      <td>Николенко Сергей Игоревич</td>\n",
       "      <td>2.747808</td>\n",
       "    </tr>\n",
       "    <tr>\n",
       "      <th>12</th>\n",
       "      <td>6276</td>\n",
       "      <td>Либер Александр Витальевич</td>\n",
       "      <td>2.739595</td>\n",
       "    </tr>\n",
       "    <tr>\n",
       "      <th>13</th>\n",
       "      <td>6817</td>\n",
       "      <td>Марков Александр Валерьевич</td>\n",
       "      <td>2.732085</td>\n",
       "    </tr>\n",
       "    <tr>\n",
       "      <th>14</th>\n",
       "      <td>7522</td>\n",
       "      <td>Мосягин Александр Владимирович</td>\n",
       "      <td>2.719661</td>\n",
       "    </tr>\n",
       "  </tbody>\n",
       "</table>\n",
       "</div>"
      ],
      "text/plain": [
       "    player_dop_id                        player_name    rating\n",
       "0            9646            Руссо Максим Михайлович  3.360885\n",
       "1            1452     Брутер Александра Владимировна  3.247109\n",
       "2           10176            Семушин Иван Николаевич  3.221678\n",
       "3            9831      Савченков Михаил Владимирович  3.115753\n",
       "4           10660           Сорожкин Артём Сергеевич  3.046544\n",
       "5           10700          Спешков Сергей Леонидович  3.043067\n",
       "6            7120  Мереминский Станислав Григорьевич  2.908851\n",
       "7           51130        Саксонов Антон Владимирович  2.812316\n",
       "8            9154         Прокофьева Ирина Сергеевна  2.788269\n",
       "9            6180          Левандовский Михаил Ильич  2.775282\n",
       "10           2368         Гилёв Алексей Владимирович  2.753296\n",
       "11           7910          Николенко Сергей Игоревич  2.747808\n",
       "12           6276         Либер Александр Витальевич  2.739595\n",
       "13           6817        Марков Александр Валерьевич  2.732085\n",
       "14           7522     Мосягин Александр Владимирович  2.719661"
      ]
     },
     "execution_count": 209,
     "metadata": {},
     "output_type": "execute_result"
    }
   ],
   "source": [
    "rating = {ind:weight for ind, weight in enumerate(model.coef_[0, question_numbers + 1:])}\n",
    "ratings = train_result[['player_dop_id', 'player_name']].drop_duplicates()\n",
    "ratings['rating'] = ratings['player_dop_id'].apply(lambda x: rating[x])\n",
    "ratings = ratings.sort_values(by='rating', ascending=False)\n",
    "ratings = ratings.reset_index(drop=True)\n",
    "ratings.head(15)"
   ]
  },
  {
   "cell_type": "code",
   "execution_count": null,
   "metadata": {},
   "outputs": [],
   "source": []
  },
  {
   "cell_type": "code",
   "execution_count": null,
   "metadata": {},
   "outputs": [],
   "source": []
  },
  {
   "cell_type": "code",
   "execution_count": null,
   "metadata": {},
   "outputs": [],
   "source": []
  },
  {
   "cell_type": "code",
   "execution_count": null,
   "metadata": {},
   "outputs": [],
   "source": []
  },
  {
   "cell_type": "code",
   "execution_count": null,
   "metadata": {},
   "outputs": [],
   "source": []
  },
  {
   "cell_type": "code",
   "execution_count": null,
   "metadata": {},
   "outputs": [],
   "source": []
  },
  {
   "cell_type": "code",
   "execution_count": null,
   "metadata": {},
   "outputs": [],
   "source": []
  },
  {
   "cell_type": "code",
   "execution_count": null,
   "metadata": {},
   "outputs": [],
   "source": []
  }
 ],
 "metadata": {
  "kernelspec": {
   "display_name": "Python 3",
   "language": "python",
   "name": "python3"
  },
  "language_info": {
   "codemirror_mode": {
    "name": "ipython",
    "version": 3
   },
   "file_extension": ".py",
   "mimetype": "text/x-python",
   "name": "python",
   "nbconvert_exporter": "python",
   "pygments_lexer": "ipython3",
   "version": "3.8.3"
  }
 },
 "nbformat": 4,
 "nbformat_minor": 4
}
